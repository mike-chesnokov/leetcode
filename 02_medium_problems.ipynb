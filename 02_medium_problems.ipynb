{
 "cells": [
  {
   "cell_type": "markdown",
   "metadata": {},
   "source": [
    "# Medium Problems\n",
    "\n",
    "## 2. Add Two Numbers\n",
    "\n",
    "You are given two non-empty linked lists representing two non-negative integers. The digits are stored in reverse order and each of their nodes contain a single digit. Add the two numbers and return it as a linked list.\n",
    "\n",
    "You may assume the two numbers do not contain any leading zero, except the number 0 itself.\n",
    "\n",
    "Example:\n",
    "\n",
    "Input: (2 -> 4 -> 3) + (5 -> 6 -> 4)\n",
    "Output: 7 -> 0 -> 8\n",
    "Explanation: 342 + 465 = 807."
   ]
  },
  {
   "cell_type": "code",
   "execution_count": 1,
   "metadata": {
    "ExecuteTime": {
     "end_time": "2019-03-25T19:27:13.695628Z",
     "start_time": "2019-03-25T19:27:13.693063Z"
    }
   },
   "outputs": [],
   "source": [
    "class ListNode(object):\n",
    "    def __init__(self, x=None):\n",
    "        self.val = x\n",
    "        self.next = None\n",
    "\n",
    "    def print_next_list(self):\n",
    "        cur_node = self\n",
    "        while cur_node is not None:\n",
    "            print(cur_node.val)\n",
    "            cur_node = cur_node.next"
   ]
  },
  {
   "cell_type": "code",
   "execution_count": 2,
   "metadata": {
    "ExecuteTime": {
     "end_time": "2019-03-25T19:27:43.733309Z",
     "start_time": "2019-03-25T19:27:43.731019Z"
    }
   },
   "outputs": [],
   "source": [
    "n1 = ListNode(x=2)\n",
    "n2 = ListNode(x=4)\n",
    "n3 = ListNode(x=3)\n",
    "n1.next = n2\n",
    "n2.next = n3\n",
    "\n",
    "n4 = ListNode(x=5)\n",
    "n5 = ListNode(x=6)\n",
    "n6 = ListNode(x=4)\n",
    "n4.next = n5\n",
    "n5.next = n6"
   ]
  },
  {
   "cell_type": "code",
   "execution_count": 22,
   "metadata": {
    "ExecuteTime": {
     "end_time": "2019-03-25T20:17:54.874381Z",
     "start_time": "2019-03-25T20:17:54.870144Z"
    }
   },
   "outputs": [],
   "source": [
    "def addTwoNumbers(l1, l2):\n",
    "    new_list = cur_node = ListNode(0)\n",
    "    overflow = 0\n",
    "    \n",
    "    while l1 is not None or l2 is not None:\n",
    "        \n",
    "        if l1 is None:\n",
    "            val1 = 0\n",
    "        else:\n",
    "            val1 = l1.val\n",
    "            \n",
    "        if l2 is None:\n",
    "            val2 = 0\n",
    "        else:\n",
    "            val2 = l2.val\n",
    "            \n",
    "        result = val1 + val2\n",
    "        \n",
    "        if result > 9 and overflow == 0:\n",
    "            cur_node.next = ListNode(result - 10)\n",
    "            overflow = 1\n",
    "            \n",
    "        elif result > 9 and overflow == 1:\n",
    "            cur_node.next = ListNode(result - 10 + 1)\n",
    "            overflow = 1\n",
    "            \n",
    "        elif result == 9 and overflow == 0:\n",
    "            cur_node.next = ListNode(result)\n",
    "            overflow = 0\n",
    "        elif result == 9 and overflow == 1:\n",
    "            cur_node.next = ListNode(0)\n",
    "            overflow = 1\n",
    "            \n",
    "        elif result < 9 and overflow == 1:\n",
    "            cur_node.next = ListNode(result + 1)\n",
    "            overflow = 0\n",
    "        elif result < 9 and overflow == 0:\n",
    "            cur_node.next = ListNode(result)\n",
    "            overflow = 0\n",
    "            \n",
    "        if l1 is not None:\n",
    "            l1 = l1.next\n",
    "        if l2 is not None:\n",
    "            l2 = l2.next\n",
    "        cur_node = cur_node.next  \n",
    "        \n",
    "    if overflow == 1:\n",
    "        cur_node.next = ListNode(1)\n",
    "    return new_list.next"
   ]
  },
  {
   "cell_type": "code",
   "execution_count": 18,
   "metadata": {
    "ExecuteTime": {
     "end_time": "2019-03-25T20:14:59.141901Z",
     "start_time": "2019-03-25T20:14:59.136838Z"
    }
   },
   "outputs": [
    {
     "name": "stdout",
     "output_type": "stream",
     "text": [
      "7\n",
      "0\n",
      "8\n"
     ]
    }
   ],
   "source": [
    "n10 = addTwoNumbers(n1, n4)\n",
    "n10.print_next_list()"
   ]
  },
  {
   "cell_type": "code",
   "execution_count": 23,
   "metadata": {
    "ExecuteTime": {
     "end_time": "2019-03-25T20:17:56.831923Z",
     "start_time": "2019-03-25T20:17:56.826270Z"
    }
   },
   "outputs": [
    {
     "name": "stdout",
     "output_type": "stream",
     "text": [
      "9\n"
     ]
    }
   ],
   "source": [
    "n10 = addTwoNumbers(ListNode(4), ListNode(5))\n",
    "n10.print_next_list()"
   ]
  },
  {
   "cell_type": "code",
   "execution_count": 24,
   "metadata": {
    "ExecuteTime": {
     "end_time": "2019-03-25T20:30:14.721310Z",
     "start_time": "2019-03-25T20:30:14.717976Z"
    }
   },
   "outputs": [],
   "source": [
    "def addTwoNumbers2(l1, l2):\n",
    "    new_list = cur_node = ListNode(0)\n",
    "    overflow = 0\n",
    "    \n",
    "    while l1 is not None or l2 is not None:\n",
    "        \n",
    "        if l1 is None:\n",
    "            val1 = 0\n",
    "        else:\n",
    "            val1 = l1.val\n",
    "            \n",
    "        if l2 is None:\n",
    "            val2 = 0\n",
    "        else:\n",
    "            val2 = l2.val\n",
    "            \n",
    "        result = val1 + val2 + overflow\n",
    "        \n",
    "        if result > 9:\n",
    "            cur_node.next = ListNode(result - 10)\n",
    "            overflow = 1\n",
    "            \n",
    "        elif result <= 9:\n",
    "            cur_node.next = ListNode(result)\n",
    "            overflow = 0\n",
    "            \n",
    "        if l1 is not None:\n",
    "            l1 = l1.next\n",
    "        if l2 is not None:\n",
    "            l2 = l2.next\n",
    "        cur_node = cur_node.next  \n",
    "        \n",
    "    if overflow == 1:\n",
    "        cur_node.next = ListNode(1)\n",
    "    return new_list.next"
   ]
  },
  {
   "cell_type": "code",
   "execution_count": 28,
   "metadata": {
    "ExecuteTime": {
     "end_time": "2019-03-25T20:30:33.997005Z",
     "start_time": "2019-03-25T20:30:33.993095Z"
    }
   },
   "outputs": [
    {
     "name": "stdout",
     "output_type": "stream",
     "text": [
      "9\n"
     ]
    }
   ],
   "source": [
    "n10 = addTwoNumbers2(ListNode(4), ListNode(5))\n",
    "n10.print_next_list()"
   ]
  },
  {
   "cell_type": "code",
   "execution_count": 29,
   "metadata": {
    "ExecuteTime": {
     "end_time": "2019-03-25T20:30:39.713407Z",
     "start_time": "2019-03-25T20:30:39.710576Z"
    }
   },
   "outputs": [
    {
     "name": "stdout",
     "output_type": "stream",
     "text": [
      "7\n",
      "0\n",
      "8\n"
     ]
    }
   ],
   "source": [
    "n10 = addTwoNumbers2(n1, n4)\n",
    "n10.print_next_list()"
   ]
  },
  {
   "cell_type": "code",
   "execution_count": 30,
   "metadata": {
    "ExecuteTime": {
     "end_time": "2019-03-25T20:43:00.323298Z",
     "start_time": "2019-03-25T20:43:00.319633Z"
    }
   },
   "outputs": [],
   "source": [
    "class Solution(object):\n",
    "    \n",
    "    def addTwoNumbers(self, l1, l2):\n",
    "        \"\"\"\n",
    "        :type l1: ListNode\n",
    "        :type l2: ListNode\n",
    "        :rtype: ListNode\n",
    "        \"\"\"\n",
    "        \n",
    "        new_list = cur_node = ListNode(0)\n",
    "        overflow = 0\n",
    "\n",
    "        while l1 is not None or l2 is not None:\n",
    "            val1, val2 = 0, 0\n",
    "            \n",
    "            if l1:\n",
    "                val1 = l1.val\n",
    "                l1 = l1.next\n",
    "            if l2:\n",
    "                val2 = l2.val\n",
    "                l2 = l2.next\n",
    "\n",
    "            result = val1 + val2 + overflow\n",
    "\n",
    "            if result > 9:\n",
    "                cur_node.next = ListNode(result - 10)\n",
    "                overflow = 1\n",
    "\n",
    "            elif result <= 9:\n",
    "                cur_node.next = ListNode(result)\n",
    "                overflow = 0\n",
    "\n",
    "            cur_node = cur_node.next  \n",
    "\n",
    "        if overflow == 1:\n",
    "            cur_node.next = ListNode(1)\n",
    "        return new_list.next   \n",
    "        \n",
    "        \"\"\"\n",
    "        carry = 0\n",
    "        root = n = ListNode(0)\n",
    "        while l1 or l2 or carry:\n",
    "            v1 = v2 = 0\n",
    "            if l1:\n",
    "                v1 = l1.val\n",
    "                l1 = l1.next\n",
    "            if l2:\n",
    "                v2 = l2.val\n",
    "                l2 = l2.next\n",
    "            carry, val = divmod(v1+v2+carry, 10)\n",
    "            n.next = ListNode(val)\n",
    "            n = n.next\n",
    "        return root.next\n",
    "        \"\"\""
   ]
  },
  {
   "cell_type": "markdown",
   "metadata": {},
   "source": [
    "## 3. Longest Substring Without Repeating Characters\n",
    "\n",
    "Given a string, find the length of the longest substring without repeating characters.\n",
    "\n",
    "Example 1:\n",
    "\n",
    "Input: \"abcabcbb\"\n",
    "Output: 3 \n",
    "Explanation: The answer is \"abc\", with the length of 3. \n",
    "\n",
    "Example 2:\n",
    "\n",
    "Input: \"bbbbb\"\n",
    "Output: 1\n",
    "Explanation: The answer is \"b\", with the length of 1.\n",
    "\n",
    "Example 3:\n",
    "\n",
    "Input: \"pwwkew\"\n",
    "Output: 3\n",
    "Explanation: The answer is \"wke\", with the length of 3. \n",
    "             Note that the answer must be a substring, \"pwke\" is a subsequence and not a substring."
   ]
  },
  {
   "cell_type": "code",
   "execution_count": 85,
   "metadata": {
    "ExecuteTime": {
     "end_time": "2019-03-26T18:27:01.148755Z",
     "start_time": "2019-03-26T18:27:01.144584Z"
    }
   },
   "outputs": [],
   "source": [
    "def lengthOfLongestSubstring(s):\n",
    "    substr = \"\"\n",
    "    candidate = \"\"\n",
    "    \n",
    "    for sym in s:\n",
    "        print('suymbol', sym)\n",
    "        print('substr', substr)\n",
    "        \n",
    "        if sym in substr:\n",
    "            if len(substr) > len(candidate):\n",
    "                candidate = substr\n",
    "            ind = substr.find(sym)\n",
    "            substr = substr[ind+1:]\n",
    "            print('substr2', substr)\n",
    "            \n",
    "        else:\n",
    "            substr += sym\n",
    "            print('substr2', substr)\n",
    "\n",
    "    if len(substr) > len(candidate):\n",
    "        candidate = substr\n",
    "        \n",
    "    return candidate, len(candidate)\n",
    "\n",
    "def try2(s):\n",
    "    solution1 = lengthOfLongestSubstring(s)\n",
    "    solution2 = lengthOfLongestSubstring(s[::-1])\n",
    "    if solution1[1] > solution2[1]:\n",
    "        return solution1[1]\n",
    "    else:\n",
    "        return solution2[1]"
   ]
  },
  {
   "cell_type": "code",
   "execution_count": 79,
   "metadata": {
    "ExecuteTime": {
     "end_time": "2019-03-26T18:26:38.995212Z",
     "start_time": "2019-03-26T18:26:38.989691Z"
    }
   },
   "outputs": [
    {
     "data": {
      "text/plain": [
       "('abc', 3)"
      ]
     },
     "execution_count": 79,
     "metadata": {},
     "output_type": "execute_result"
    }
   ],
   "source": [
    "lengthOfLongestSubstring('abcabcbb')"
   ]
  },
  {
   "cell_type": "code",
   "execution_count": 80,
   "metadata": {
    "ExecuteTime": {
     "end_time": "2019-03-26T18:26:39.667756Z",
     "start_time": "2019-03-26T18:26:39.665055Z"
    }
   },
   "outputs": [
    {
     "data": {
      "text/plain": [
       "('b', 1)"
      ]
     },
     "execution_count": 80,
     "metadata": {},
     "output_type": "execute_result"
    }
   ],
   "source": [
    "lengthOfLongestSubstring('bbbbb')"
   ]
  },
  {
   "cell_type": "code",
   "execution_count": 81,
   "metadata": {
    "ExecuteTime": {
     "end_time": "2019-03-26T18:26:40.185868Z",
     "start_time": "2019-03-26T18:26:40.181105Z"
    }
   },
   "outputs": [
    {
     "data": {
      "text/plain": [
       "('kew', 3)"
      ]
     },
     "execution_count": 81,
     "metadata": {},
     "output_type": "execute_result"
    }
   ],
   "source": [
    "lengthOfLongestSubstring('pwwkew')"
   ]
  },
  {
   "cell_type": "code",
   "execution_count": 82,
   "metadata": {
    "ExecuteTime": {
     "end_time": "2019-03-26T18:26:41.019868Z",
     "start_time": "2019-03-26T18:26:41.017399Z"
    }
   },
   "outputs": [
    {
     "data": {
      "text/plain": [
       "(' ', 1)"
      ]
     },
     "execution_count": 82,
     "metadata": {},
     "output_type": "execute_result"
    }
   ],
   "source": [
    "lengthOfLongestSubstring(' ')"
   ]
  },
  {
   "cell_type": "code",
   "execution_count": 86,
   "metadata": {
    "ExecuteTime": {
     "end_time": "2019-03-26T18:27:04.217008Z",
     "start_time": "2019-03-26T18:27:04.213798Z"
    }
   },
   "outputs": [
    {
     "name": "stdout",
     "output_type": "stream",
     "text": [
      "suymbol a\n",
      "substr \n",
      "substr2 a\n",
      "suymbol a\n",
      "substr a\n",
      "substr2 \n",
      "suymbol b\n",
      "substr \n",
      "substr2 b\n"
     ]
    },
    {
     "data": {
      "text/plain": [
       "('a', 1)"
      ]
     },
     "execution_count": 86,
     "metadata": {},
     "output_type": "execute_result"
    }
   ],
   "source": [
    "lengthOfLongestSubstring('aab')"
   ]
  },
  {
   "cell_type": "code",
   "execution_count": 84,
   "metadata": {
    "ExecuteTime": {
     "end_time": "2019-03-26T18:26:46.977594Z",
     "start_time": "2019-03-26T18:26:46.970871Z"
    }
   },
   "outputs": [
    {
     "data": {
      "text/plain": [
       "('dv', 2)"
      ]
     },
     "execution_count": 84,
     "metadata": {},
     "output_type": "execute_result"
    }
   ],
   "source": [
    "lengthOfLongestSubstring(\"dvdf\")"
   ]
  },
  {
   "cell_type": "code",
   "execution_count": 77,
   "metadata": {
    "ExecuteTime": {
     "end_time": "2019-03-26T18:05:20.609869Z",
     "start_time": "2019-03-26T18:05:20.605058Z"
    }
   },
   "outputs": [
    {
     "data": {
      "text/plain": [
       "3"
      ]
     },
     "execution_count": 77,
     "metadata": {},
     "output_type": "execute_result"
    }
   ],
   "source": [
    "try2(\"pwwkew\")"
   ]
  },
  {
   "cell_type": "code",
   "execution_count": 117,
   "metadata": {
    "ExecuteTime": {
     "end_time": "2019-03-26T18:52:04.006032Z",
     "start_time": "2019-03-26T18:52:03.999867Z"
    }
   },
   "outputs": [],
   "source": [
    "def lengthOfLongestSubstring2(s):\n",
    "    substr = \"\"\n",
    "    max_len = 0\n",
    "    #ind = 0\n",
    "    \n",
    "    #while ind < len(s):\n",
    "    for sym in s:\n",
    "        #sym = s[ind]\n",
    "        print('suymbol', sym)\n",
    "        print('substr', substr)\n",
    "        \n",
    "        if sym in substr:\n",
    "            substr_len = len(substr)\n",
    "            if substr_len > max_len:\n",
    "                max_len = substr_len\n",
    "            sym_ind = substr.find(sym)\n",
    "            substr = substr[sym_ind+1:]\n",
    "            substr += sym\n",
    "            print('substr2', substr)\n",
    "            \n",
    "        else:\n",
    "            substr += sym\n",
    "            print('substr2', substr)    \n",
    "        #ind += 1    \n",
    "        \n",
    "    substr_len = len(substr)\n",
    "    if substr_len > max_len:\n",
    "        max_len = substr_len\n",
    "        \n",
    "    return max_len"
   ]
  },
  {
   "cell_type": "code",
   "execution_count": 118,
   "metadata": {
    "ExecuteTime": {
     "end_time": "2019-03-26T18:52:04.612671Z",
     "start_time": "2019-03-26T18:52:04.600169Z"
    },
    "collapsed": true
   },
   "outputs": [
    {
     "name": "stdout",
     "output_type": "stream",
     "text": [
      "suymbol d\n",
      "substr \n",
      "substr2 d\n",
      "suymbol v\n",
      "substr d\n",
      "substr2 dv\n",
      "suymbol d\n",
      "substr dv\n",
      "substr2 vd\n",
      "suymbol f\n",
      "substr vd\n",
      "substr2 vdf\n"
     ]
    },
    {
     "data": {
      "text/plain": [
       "3"
      ]
     },
     "execution_count": 118,
     "metadata": {},
     "output_type": "execute_result"
    }
   ],
   "source": [
    "lengthOfLongestSubstring2(\"dvdf\")"
   ]
  },
  {
   "cell_type": "code",
   "execution_count": 119,
   "metadata": {
    "ExecuteTime": {
     "end_time": "2019-03-26T18:52:06.356548Z",
     "start_time": "2019-03-26T18:52:06.351695Z"
    },
    "collapsed": true
   },
   "outputs": [
    {
     "name": "stdout",
     "output_type": "stream",
     "text": [
      "suymbol a\n",
      "substr \n",
      "substr2 a\n",
      "suymbol b\n",
      "substr a\n",
      "substr2 ab\n",
      "suymbol c\n",
      "substr ab\n",
      "substr2 abc\n",
      "suymbol a\n",
      "substr abc\n",
      "substr2 bca\n",
      "suymbol b\n",
      "substr bca\n",
      "substr2 cab\n",
      "suymbol c\n",
      "substr cab\n",
      "substr2 abc\n",
      "suymbol b\n",
      "substr abc\n",
      "substr2 cb\n",
      "suymbol b\n",
      "substr cb\n",
      "substr2 b\n"
     ]
    },
    {
     "data": {
      "text/plain": [
       "3"
      ]
     },
     "execution_count": 119,
     "metadata": {},
     "output_type": "execute_result"
    }
   ],
   "source": [
    "lengthOfLongestSubstring2('abcabcbb')"
   ]
  },
  {
   "cell_type": "code",
   "execution_count": 120,
   "metadata": {
    "ExecuteTime": {
     "end_time": "2019-03-26T18:57:40.165757Z",
     "start_time": "2019-03-26T18:57:40.159622Z"
    }
   },
   "outputs": [],
   "source": [
    "class Solution(object):\n",
    "    \n",
    "    def util(self, s):\n",
    "        substr = \"\"\n",
    "        max_len = 0\n",
    "\n",
    "        for sym in s:\n",
    "\n",
    "            if sym in substr:\n",
    "                substr_len = len(substr)\n",
    "                if substr_len > max_len:\n",
    "                    max_len = substr_len\n",
    "                sym_ind = substr.find(sym)\n",
    "                substr = substr[sym_ind+1:]\n",
    "                substr += sym\n",
    "            else:\n",
    "                substr += sym\n",
    "\n",
    "        substr_len = len(substr)\n",
    "        if substr_len > max_len:\n",
    "            max_len = substr_len\n",
    "\n",
    "        return max_len\n",
    "    \n",
    "    def lengthOfLongestSubstring(self, s):\n",
    "        \"\"\"\n",
    "        :type s: str\n",
    "        :rtype: int\n",
    "        \"\"\"\n",
    "        return self.util(s)"
   ]
  },
  {
   "cell_type": "markdown",
   "metadata": {},
   "source": [
    "## 15. 3Sum\n",
    "\n",
    "Given an array nums of n integers, are there elements a, b, c in nums such that a + b + c = 0? Find all unique triplets in the array which gives the sum of zero.\n",
    "\n",
    "Note:\n",
    "\n",
    "The solution set must not contain duplicate triplets.\n",
    "\n",
    "Example:\n",
    "\n",
    "Given array nums = [-1, 0, 1, 2, -1, -4],\n",
    "\n",
    "A solution set is:\n",
    "[\n",
    "  [-1, 0, 1],\n",
    "  [-1, -1, 2]\n",
    "]"
   ]
  },
  {
   "cell_type": "code",
   "execution_count": 20,
   "metadata": {
    "ExecuteTime": {
     "end_time": "2019-03-28T09:24:22.544365Z",
     "start_time": "2019-03-28T09:24:22.540637Z"
    }
   },
   "outputs": [],
   "source": [
    "nums = [-1, 0, 1, 2, -1, -4]"
   ]
  },
  {
   "cell_type": "code",
   "execution_count": null,
   "metadata": {},
   "outputs": [],
   "source": [
    "def threeSum(nums):\n",
    "    \"\"\"\n",
    "    :type nums: List[int]\n",
    "    :rtype: List[List[int]]\n",
    "    \"\"\"\n",
    "    triplets = []\n",
    "    for i in range(len(nums)):\n",
    "        for j in range(i+1, len(nums)):\n",
    "            for k in range(j+1, len(nums)):\n",
    "                triplet = [nums[i], nums[j], nums[k]]\n",
    "                triplet.sort()\n",
    "                if sum(triplet) == 0 and triplet not in triplets:\n",
    "                    triplets.append(triplet)\n",
    "    return triplets"
   ]
  },
  {
   "cell_type": "code",
   "execution_count": 7,
   "metadata": {
    "ExecuteTime": {
     "end_time": "2019-03-27T19:19:38.580718Z",
     "start_time": "2019-03-27T19:19:38.574645Z"
    }
   },
   "outputs": [],
   "source": [
    "triplets = []\n",
    "for i in range(len(nums)):\n",
    "    for j in range(i+1, len(nums)):\n",
    "        for k in range(j+1, len(nums)):\n",
    "            triplet = [nums[i], nums[j], nums[k]]\n",
    "            triplet.sort()\n",
    "            if sum(triplet) == 0 and triplet not in triplets:\n",
    "                triplets.append(triplet)"
   ]
  },
  {
   "cell_type": "code",
   "execution_count": 8,
   "metadata": {
    "ExecuteTime": {
     "end_time": "2019-03-27T19:19:39.618916Z",
     "start_time": "2019-03-27T19:19:39.609256Z"
    }
   },
   "outputs": [
    {
     "data": {
      "text/plain": [
       "[[-1, 0, 1], [-1, -1, 2]]"
      ]
     },
     "execution_count": 8,
     "metadata": {},
     "output_type": "execute_result"
    }
   ],
   "source": [
    "triplets"
   ]
  },
  {
   "cell_type": "code",
   "execution_count": 47,
   "metadata": {
    "ExecuteTime": {
     "end_time": "2019-03-28T09:53:27.349885Z",
     "start_time": "2019-03-28T09:53:27.347561Z"
    }
   },
   "outputs": [],
   "source": [
    "#nums=[1,-1,-1,0]\n",
    "nums = [-4,-2,1,-5,-4,-4,4,-2,0,4,0,-2,3,1,-5,0]"
   ]
  },
  {
   "cell_type": "code",
   "execution_count": 72,
   "metadata": {
    "ExecuteTime": {
     "end_time": "2019-03-28T10:19:30.756693Z",
     "start_time": "2019-03-28T10:19:30.751099Z"
    }
   },
   "outputs": [],
   "source": [
    "from collections import Counter\n",
    "c = Counter(nums)\n",
    "c[-5] -= 1"
   ]
  },
  {
   "cell_type": "code",
   "execution_count": 68,
   "metadata": {
    "ExecuteTime": {
     "end_time": "2019-03-28T10:11:41.785946Z",
     "start_time": "2019-03-28T10:11:41.758772Z"
    },
    "scrolled": true
   },
   "outputs": [
    {
     "name": "stdout",
     "output_type": "stream",
     "text": [
      "[1, 4, 4, 3, 1] [-4, -2, -5, -4, -4, -2, -2, -5] [0, 0, 0]\n",
      "13 28\n",
      "[1, 4, 4, 3, 1] [-4, -2, -5, -4, -4, -2, -2, -5] [0, 0, 0]\n",
      "temp_sum -3\n",
      "temp_sum -1\n",
      "temp_sum -4\n",
      "temp_sum -3\n",
      "temp_sum -3\n",
      "temp_sum -1\n",
      "temp_sum -1\n",
      "temp_sum -4\n",
      "temp_sum 0\n",
      "temp_sum 2\n",
      "temp_sum -1\n",
      "temp_sum 0\n",
      "temp_sum 0\n",
      "temp_sum 2\n",
      "temp_sum 2\n",
      "temp_sum -1\n",
      "temp_sum 0\n",
      "temp_sum 2\n",
      "temp_sum -1\n",
      "temp_sum 0\n",
      "temp_sum 0\n",
      "temp_sum 2\n",
      "temp_sum 2\n",
      "temp_sum -1\n",
      "temp_sum -1\n",
      "temp_sum 1\n",
      "temp_sum -2\n",
      "temp_sum -1\n",
      "temp_sum -1\n",
      "temp_sum 1\n",
      "temp_sum 1\n",
      "temp_sum -2\n",
      "temp_sum -3\n",
      "temp_sum -1\n",
      "temp_sum -4\n",
      "temp_sum -3\n",
      "temp_sum -3\n",
      "temp_sum -1\n",
      "temp_sum -1\n",
      "temp_sum -4\n"
     ]
    }
   ],
   "source": [
    "positive = []\n",
    "negative = []\n",
    "zeros = []\n",
    "nums_cnt = Counter(nums)\n",
    "\n",
    "for el in nums:\n",
    "    if el == 0:\n",
    "        zeros.append(el)\n",
    "    elif el > 0:\n",
    "        positive.append(el)\n",
    "    elif el < 0:\n",
    "        negative.append(el) \n",
    "print(positive, negative, zeros)\n",
    "\n",
    "pos_sum = sum(positive)\n",
    "neg_sum = abs(sum(negative))\n",
    "print(pos_sum, neg_sum)\n",
    "\n",
    "if pos_sum < neg_sum:\n",
    "    negative = [el for el in negative if el >= -pos_sum]\n",
    "if pos_sum > neg_sum:\n",
    "    positive = [el for el in positive if el >= -neg_sum]\n",
    "print(positive, negative, zeros)\n",
    "\n",
    "triplets = []\n",
    "zero_cnt = len(zeros)\n",
    "\n",
    "if zero_cnt >=3:\n",
    "    triplets.append([0, 0, 0])\n",
    "\n",
    "for pos_ind in range(len(positive)):\n",
    "    for neg_ind in range(len(negative)):\n",
    "        pos_el = positive[pos_ind]\n",
    "        neg_el = negative[neg_ind]\n",
    "        temp_sum = pos_el + neg_el\n",
    "        print('temp_sum', temp_sum)\n",
    "        if zero_cnt > 0:\n",
    "            triplet_zero = [neg_el, 0, pos_el]\n",
    "            if (temp_sum == 0) and (triplet_zero not in triplets):\n",
    "                triplets.append(triplet_zero)       \n",
    "        \n",
    "        if temp_sum > 0:\n",
    "            \n",
    "            for neg_ind2 in range(len(negative)):\n",
    "                neg_el2 = negative[neg_ind2]\n",
    "                if neg_el >= neg_el2:\n",
    "                    triplet = [neg_el2, neg_el, pos_el]\n",
    "                else:\n",
    "                    triplet = [neg_el, neg_el2, pos_el]\n",
    "                \n",
    "                #triplet.sort()\n",
    "                if (neg_ind2 != neg_ind)\\\n",
    "                and (temp_sum + neg_el2 == 0)\\\n",
    "                and (triplet not in triplets):\n",
    "                    triplets.append(triplet)\n",
    "                        \n",
    "        if temp_sum < 0:\n",
    "            for pos_ind2 in range(len(positive)):\n",
    "                pos_el2 = positive[pos_ind2]\n",
    "                if pos_el >= pos_el2:\n",
    "                    triplet = [neg_el, pos_el2, pos_el]\n",
    "                else:\n",
    "                    triplet = [neg_el, pos_el, pos_el2]\n",
    "                #triplet.sort()\n",
    "                if (pos_ind2 != pos_ind)\\\n",
    "                and (temp_sum + pos_el2 == 0)\\\n",
    "                and (triplet not in triplets):\n",
    "                    triplets.append(triplet)"
   ]
  },
  {
   "cell_type": "code",
   "execution_count": 69,
   "metadata": {
    "ExecuteTime": {
     "end_time": "2019-03-28T10:11:43.733806Z",
     "start_time": "2019-03-28T10:11:43.730215Z"
    }
   },
   "outputs": [
    {
     "data": {
      "text/plain": [
       "[[0, 0, 0], [-4, 1, 3], [-2, 1, 1], [-5, 1, 4], [-4, 0, 4], [-2, -2, 4]]"
      ]
     },
     "execution_count": 69,
     "metadata": {},
     "output_type": "execute_result"
    }
   ],
   "source": [
    "triplets"
   ]
  },
  {
   "cell_type": "code",
   "execution_count": null,
   "metadata": {},
   "outputs": [],
   "source": [
    "[[-5,1,4],[-4,0,4],[-4,1,3],[-2,-2,4],[-2,1,1],[0,0,0]]"
   ]
  },
  {
   "cell_type": "code",
   "execution_count": 79,
   "metadata": {
    "ExecuteTime": {
     "end_time": "2019-03-28T10:30:01.109616Z",
     "start_time": "2019-03-28T10:30:01.101702Z"
    },
    "collapsed": true
   },
   "outputs": [
    {
     "name": "stdout",
     "output_type": "stream",
     "text": [
      "[1, 4, 4, 3, 1] [-4, -2, -5, -4, -4, -2, -2, -5] [0, 0, 0]\n",
      "13 28\n",
      "[1, 4, 4, 3, 1] [-4, -2, -5, -4, -4, -2, -2, -5] [0, 0, 0]\n",
      "temp_sum -3\n",
      "temp_sum -1\n",
      "temp_sum -4\n",
      "temp_sum -3\n",
      "temp_sum -3\n",
      "temp_sum -1\n",
      "temp_sum -1\n",
      "temp_sum -4\n",
      "temp_sum 0\n",
      "temp_sum 2\n",
      "temp_sum -1\n",
      "temp_sum 0\n",
      "temp_sum 0\n",
      "temp_sum 2\n",
      "temp_sum 2\n",
      "temp_sum -1\n",
      "temp_sum 0\n",
      "temp_sum 2\n",
      "temp_sum -1\n",
      "temp_sum 0\n",
      "temp_sum 0\n",
      "temp_sum 2\n",
      "temp_sum 2\n",
      "temp_sum -1\n",
      "temp_sum -1\n",
      "temp_sum 1\n",
      "temp_sum -2\n",
      "temp_sum -1\n",
      "temp_sum -1\n",
      "temp_sum 1\n",
      "temp_sum 1\n",
      "temp_sum -2\n",
      "temp_sum -3\n",
      "temp_sum -1\n",
      "temp_sum -4\n",
      "temp_sum -3\n",
      "temp_sum -3\n",
      "temp_sum -1\n",
      "temp_sum -1\n",
      "temp_sum -4\n"
     ]
    }
   ],
   "source": [
    "positive = []\n",
    "negative = []\n",
    "zeros = []\n",
    "nums_cnt = Counter(nums)\n",
    "\n",
    "for el in nums:\n",
    "    if el == 0:\n",
    "        zeros.append(el)\n",
    "    elif el > 0:\n",
    "        positive.append(el)\n",
    "    elif el < 0:\n",
    "        negative.append(el) \n",
    "print(positive, negative, zeros)\n",
    "\n",
    "pos_sum = sum(positive)\n",
    "neg_sum = abs(sum(negative))\n",
    "print(pos_sum, neg_sum)\n",
    "\n",
    "if pos_sum < neg_sum:\n",
    "    negative = [el for el in negative if el >= -pos_sum]\n",
    "if pos_sum > neg_sum:\n",
    "    positive = [el for el in positive if el >= -neg_sum]\n",
    "print(positive, negative, zeros)\n",
    "\n",
    "triplets = []\n",
    "zero_cnt = len(zeros)\n",
    "\n",
    "if zero_cnt >=3:\n",
    "    triplets.append([0, 0, 0])\n",
    "\n",
    "for pos_el in positive:\n",
    "    for neg_el in negative:\n",
    "        nums_cnt_copy = nums_cnt.copy()\n",
    "        nums_cnt_copy[pos_el] -= 1\n",
    "        nums_cnt_copy[neg_el] -= 1\n",
    "        \n",
    "        temp_sum = pos_el + neg_el\n",
    "        print('temp_sum', temp_sum)\n",
    "        if zero_cnt > 0:\n",
    "            triplet_zero = [neg_el, 0, pos_el]\n",
    "            if (temp_sum == 0) and (triplet_zero not in triplets):\n",
    "                triplets.append(triplet_zero)       \n",
    "        \n",
    "        if temp_sum > 0:\n",
    "            if (-temp_sum in nums_cnt_copy) and (nums_cnt_copy[-temp_sum] > 0):\n",
    "                neg_el2 = -temp_sum\n",
    "                nums_cnt_copy[-temp_sum] -= 1\n",
    "            \n",
    "                if neg_el >= neg_el2:\n",
    "                    triplet = [neg_el2, neg_el, pos_el]\n",
    "                else:\n",
    "                    triplet = [neg_el, neg_el2, pos_el]\n",
    "                if triplet not in triplets:\n",
    "                    triplets.append(triplet)\n",
    "                        \n",
    "        if temp_sum < 0:\n",
    "            if (-temp_sum in nums_cnt_copy) and (nums_cnt_copy[-temp_sum] > 0):\n",
    "                pos_el2 = -temp_sum\n",
    "                nums_cnt_copy[-temp_sum] -= 1\n",
    "                if pos_el >= pos_el2:\n",
    "                    triplet = [neg_el, pos_el2, pos_el]\n",
    "                else:\n",
    "                    triplet = [neg_el, pos_el, pos_el2]\n",
    "                if triplet not in triplets:\n",
    "                    triplets.append(triplet)"
   ]
  },
  {
   "cell_type": "code",
   "execution_count": 80,
   "metadata": {
    "ExecuteTime": {
     "end_time": "2019-03-28T10:30:03.411671Z",
     "start_time": "2019-03-28T10:30:03.408277Z"
    }
   },
   "outputs": [
    {
     "data": {
      "text/plain": [
       "[[0, 0, 0], [-4, 1, 3], [-2, 1, 1], [-5, 1, 4], [-4, 0, 4], [-2, -2, 4]]"
      ]
     },
     "execution_count": 80,
     "metadata": {},
     "output_type": "execute_result"
    }
   ],
   "source": [
    "triplets"
   ]
  },
  {
   "cell_type": "code",
   "execution_count": 81,
   "metadata": {
    "ExecuteTime": {
     "end_time": "2019-03-28T10:59:21.948294Z",
     "start_time": "2019-03-28T10:59:21.933682Z"
    }
   },
   "outputs": [],
   "source": [
    "from collections import Counter\n",
    "\n",
    "class Solution(object):\n",
    "    def threeSum(self, nums):\n",
    "        \"\"\"\n",
    "        :type nums: List[int]\n",
    "        :rtype: List[List[int]]\n",
    "        \"\"\"\n",
    "        \"\"\"\n",
    "        triplets = []\n",
    "        for i in range(len(nums)):\n",
    "            for j in range(i+1, len(nums)):\n",
    "                for k in range(j+1, len(nums)):\n",
    "                    triplet = [nums[i], nums[j], nums[k]]\n",
    "                    triplet.sort()\n",
    "                    if sum(triplet) == 0 and triplet not in triplets:\n",
    "                        triplets.append(triplet)\n",
    "        return triplets\n",
    "        \"\"\"\n",
    "        if len(nums) < 3:\n",
    "            return []\n",
    "        elif any(nums) == False:\n",
    "            return [[0,0,0]]\n",
    "        \"\"\"\n",
    "        positive = []\n",
    "        negative = []\n",
    "        zeros = []\n",
    "        for el in nums:\n",
    "            if el == 0:\n",
    "                zeros.append(el)\n",
    "            elif el > 0:\n",
    "                positive.append(el)\n",
    "            elif el < 0:\n",
    "                negative.append(el) \n",
    "        #print(positive, negative, zeros)\n",
    "\n",
    "        pos_sum = sum(positive)\n",
    "        neg_sum = abs(sum(negative))\n",
    "        #print(pos_sum, neg_sum)\n",
    "\n",
    "        if pos_sum < neg_sum:\n",
    "            negative = [el for el in negative if el >= -pos_sum]\n",
    "        if pos_sum > neg_sum:\n",
    "            positive = [el for el in positive if el >= -neg_sum]\n",
    "        #print(positive, negative, zeros)\n",
    "\n",
    "        triplets = []\n",
    "        zero_cnt = len(zeros)\n",
    "\n",
    "        if zero_cnt >=3:\n",
    "            triplets.append([0, 0, 0])\n",
    "\n",
    "        for pos_ind in range(len(positive)):\n",
    "            for neg_ind in range(len(negative)):\n",
    "                pos_el = positive[pos_ind]\n",
    "                neg_el = negative[neg_ind]\n",
    "                temp_sum = pos_el + neg_el\n",
    "                #print('temp_sum', temp_sum)\n",
    "                if zero_cnt > 0:\n",
    "                    triplet_zero = [neg_el, 0, pos_el]\n",
    "                    if (temp_sum == 0) and (triplet_zero not in triplets):\n",
    "                        triplets.append(triplet_zero)       \n",
    "\n",
    "                if temp_sum > 0:\n",
    "                    for neg_ind2 in range(len(negative)):\n",
    "                        neg_el2 = negative[neg_ind2]\n",
    "                        triplet = [neg_el, neg_el2, pos_el]\n",
    "                        triplet.sort()\n",
    "                        if (neg_ind2 != neg_ind)\\\n",
    "                        and (temp_sum + neg_el2 == 0)\\\n",
    "                        and (triplet not in triplets):\n",
    "                            triplets.append(triplet)\n",
    "\n",
    "                if temp_sum < 0:\n",
    "                    for pos_ind2 in range(len(positive)):\n",
    "                        pos_el2 = positive[pos_ind2]\n",
    "                        triplet = [neg_el, pos_el2, pos_el]\n",
    "                        triplet.sort()\n",
    "                        if (pos_ind2 != pos_ind)\\\n",
    "                        and (temp_sum + pos_el2 == 0)\\\n",
    "                        and (triplet not in triplets):\n",
    "                            triplets.append(triplet)\n",
    "        \"\"\"\n",
    "        \"\"\"     \n",
    "        positive = []\n",
    "        negative = []\n",
    "        zeros = []\n",
    "        nums_cnt = Counter(nums)\n",
    "\n",
    "        for el in nums:\n",
    "            if el == 0:\n",
    "                zeros.append(el)\n",
    "            elif el > 0:\n",
    "                positive.append(el)\n",
    "            elif el < 0:\n",
    "                negative.append(el) \n",
    "        #print(positive, negative, zeros)\n",
    "\n",
    "        #pos_sum = sum(positive)\n",
    "        #neg_sum = abs(sum(negative))\n",
    "        #print(pos_sum, neg_sum)\n",
    "\n",
    "        #if pos_sum < neg_sum:\n",
    "        #    negative = [el for el in negative if el >= -pos_sum]\n",
    "        #if pos_sum > neg_sum:\n",
    "        #    positive = [el for el in positive if el >= -neg_sum]\n",
    "        #print(positive, negative, zeros)\n",
    "\n",
    "        triplets = []\n",
    "        zero_cnt = len(zeros)\n",
    "\n",
    "        if zero_cnt >=3:\n",
    "            triplets.append([0, 0, 0])\n",
    "\n",
    "        for pos_el in positive:\n",
    "            for neg_el in negative:\n",
    "                nums_cnt_copy = nums_cnt.copy()\n",
    "                nums_cnt_copy[pos_el] -= 1\n",
    "                nums_cnt_copy[neg_el] -= 1\n",
    "\n",
    "                temp_sum = pos_el + neg_el\n",
    "                #print('temp_sum', temp_sum)\n",
    "                if zero_cnt > 0:\n",
    "                    triplet_zero = [neg_el, 0, pos_el]\n",
    "                    if (temp_sum == 0) and (triplet_zero not in triplets):\n",
    "                        triplets.append(triplet_zero)       \n",
    "\n",
    "                if temp_sum > 0:\n",
    "                    if (-temp_sum in nums_cnt_copy) and (nums_cnt_copy[-temp_sum] > 0):\n",
    "                        neg_el2 = -temp_sum\n",
    "                        nums_cnt_copy[-temp_sum] -= 1\n",
    "\n",
    "                        if neg_el >= neg_el2:\n",
    "                            triplet = [neg_el2, neg_el, pos_el]\n",
    "                        else:\n",
    "                            triplet = [neg_el, neg_el2, pos_el]\n",
    "                        if triplet not in triplets:\n",
    "                            triplets.append(triplet)\n",
    "\n",
    "                if temp_sum < 0:\n",
    "                    if (-temp_sum in nums_cnt_copy) and (nums_cnt_copy[-temp_sum] > 0):\n",
    "                        pos_el2 = -temp_sum\n",
    "                        nums_cnt_copy[-temp_sum] -= 1\n",
    "                        if pos_el >= pos_el2:\n",
    "                            triplet = [neg_el, pos_el2, pos_el]\n",
    "                        else:\n",
    "                            triplet = [neg_el, pos_el, pos_el2]\n",
    "                        if triplet not in triplets:\n",
    "                            triplets.append(triplet)\n",
    "        \"\"\"\n",
    "        triplets = []\n",
    "        nums.sort()\n",
    "        nums_len = len(nums)\n",
    "        \n",
    "        for i in xrange(nums_len-2):\n",
    "            if nums[i]>0:\n",
    "                break\n",
    "            if i>0 and nums[i]==nums[i-1]: \n",
    "                continue\n",
    "                \n",
    "            l, r = i+1, nums_len-1\n",
    "            while l<r:\n",
    "                total = nums[i]+nums[l]+nums[r]\n",
    "                if total<0:\n",
    "                    l += 1\n",
    "                elif total>0:\n",
    "                    r -= 1\n",
    "                else:\n",
    "                    triplets.append([nums[i], nums[l], nums[r]])\n",
    "                    while l<r and nums[l]==nums[l+1]:\n",
    "                        l+=1\n",
    "                    while l<r and nums[r]==nums[r-1]:\n",
    "                        r-=1\n",
    "                    l+=1\n",
    "                    r-=1\n",
    "        \n",
    "        return triplets"
   ]
  },
  {
   "cell_type": "markdown",
   "metadata": {},
   "source": [
    "## 19. Remove Nth Node From End of List\n",
    "\n",
    "Given a linked list, remove the n-th node from the end of list and return its head.\n",
    "\n",
    "Example:\n",
    "\n",
    "Given linked list: 1->2->3->4->5, and n = 2.\n",
    "\n",
    "After removing the second node from the end, the linked list becomes 1->2->3->5.\n",
    "\n",
    "Note:\n",
    "\n",
    "Given n will always be valid.\n",
    "\n",
    "Follow up:\n",
    "\n",
    "Could you do this in one pass?"
   ]
  },
  {
   "cell_type": "code",
   "execution_count": 46,
   "metadata": {
    "ExecuteTime": {
     "end_time": "2019-04-02T09:45:00.528839Z",
     "start_time": "2019-04-02T09:45:00.520475Z"
    }
   },
   "outputs": [],
   "source": [
    "class ListNode(object):\n",
    "    def __init__(self, x=None):\n",
    "        self.val = x\n",
    "        self.next = None\n",
    "\n",
    "    def print_next_list(self):\n",
    "        cur_node = self\n",
    "        while cur_node is not None:\n",
    "            print(cur_node.val)\n",
    "            cur_node = cur_node.next"
   ]
  },
  {
   "cell_type": "code",
   "execution_count": 57,
   "metadata": {
    "ExecuteTime": {
     "end_time": "2019-04-02T10:07:01.124533Z",
     "start_time": "2019-04-02T10:07:01.121847Z"
    }
   },
   "outputs": [],
   "source": [
    "n1 = ListNode(x=2)\n",
    "n2 = ListNode(x=4)\n",
    "n3 = ListNode(x=3)\n",
    "n4 = ListNode(x=6)\n",
    "\n",
    "n1.next = n2\n",
    "n2.next = n3\n",
    "n3.next = n4"
   ]
  },
  {
   "cell_type": "code",
   "execution_count": 48,
   "metadata": {
    "ExecuteTime": {
     "end_time": "2019-04-02T09:45:01.869314Z",
     "start_time": "2019-04-02T09:45:01.861969Z"
    }
   },
   "outputs": [],
   "source": [
    "def removeNthFromEnd(head, n):\n",
    "    \"\"\"\n",
    "    :type head: ListNode\n",
    "    :type n: int\n",
    "    :rtype: ListNode\n",
    "    \"\"\"\n",
    "    cur_node = head\n",
    "    list_len = 0\n",
    "    all_nodes = []\n",
    "    \n",
    "    while cur_node is not None:\n",
    "        list_len += 1\n",
    "        all_nodes.append(cur_node)\n",
    "        cur_node = cur_node.next\n",
    "    if n == list_len:\n",
    "        return None\n",
    "    else:\n",
    "        temp_node = all_nodes[-n-1]\n",
    "        temp_node.next = temp_node.next.next\n",
    "    return head"
   ]
  },
  {
   "cell_type": "code",
   "execution_count": 49,
   "metadata": {
    "ExecuteTime": {
     "end_time": "2019-04-02T09:45:03.349285Z",
     "start_time": "2019-04-02T09:45:03.346386Z"
    }
   },
   "outputs": [
    {
     "name": "stdout",
     "output_type": "stream",
     "text": [
      "2\n",
      "4\n",
      "3\n",
      "6\n",
      "2\n",
      "4\n",
      "6\n"
     ]
    }
   ],
   "source": [
    "n1.print_next_list()\n",
    "new = removeNthFromEnd(n1, 2)\n",
    "n1.print_next_list()"
   ]
  },
  {
   "cell_type": "code",
   "execution_count": 56,
   "metadata": {
    "ExecuteTime": {
     "end_time": "2019-04-02T10:06:58.560429Z",
     "start_time": "2019-04-02T10:06:58.557877Z"
    }
   },
   "outputs": [],
   "source": [
    "def removeNthFromEnd2(head, n):\n",
    "    \"\"\"\n",
    "    :type head: ListNode\n",
    "    :type n: int\n",
    "    :rtype: ListNode\n",
    "    \"\"\"\n",
    "    first = second = head\n",
    "    dist = 0\n",
    "    while second.next is not None:\n",
    "        if dist >= n:\n",
    "            first = first.next\n",
    "            print('first', first.val)\n",
    "        second = second.next\n",
    "        print('second', second.val)\n",
    "        dist += 1\n",
    "    \n",
    "    first.next = first.next.next\n",
    "    \n",
    "    return head"
   ]
  },
  {
   "cell_type": "code",
   "execution_count": 58,
   "metadata": {
    "ExecuteTime": {
     "end_time": "2019-04-02T10:07:03.026870Z",
     "start_time": "2019-04-02T10:07:03.023805Z"
    }
   },
   "outputs": [
    {
     "name": "stdout",
     "output_type": "stream",
     "text": [
      "2\n",
      "4\n",
      "3\n",
      "6\n",
      "second 4\n",
      "second 3\n",
      "first 4\n",
      "second 6\n",
      "2\n",
      "4\n",
      "6\n"
     ]
    }
   ],
   "source": [
    "n1.print_next_list()\n",
    "new = removeNthFromEnd2(n1, 2)\n",
    "n1.print_next_list()"
   ]
  },
  {
   "cell_type": "code",
   "execution_count": 59,
   "metadata": {
    "ExecuteTime": {
     "end_time": "2019-04-02T10:13:36.800903Z",
     "start_time": "2019-04-02T10:13:36.794747Z"
    }
   },
   "outputs": [],
   "source": [
    "class Solution(object):\n",
    "    def removeNthFromEnd(self, head, n):\n",
    "        \"\"\"\n",
    "        :type head: ListNode\n",
    "        :type n: int\n",
    "        :rtype: ListNode\n",
    "        \"\"\"\n",
    "        \n",
    "        if head is None:\n",
    "            return None\n",
    "        if head.next is None and n == 1:\n",
    "            return None\n",
    "        \"\"\"\n",
    "        cur_node = head\n",
    "        list_len = 0\n",
    "        all_nodes = []\n",
    "\n",
    "        while cur_node is not None:\n",
    "            list_len += 1\n",
    "            all_nodes.append(cur_node)\n",
    "            cur_node = cur_node.next\n",
    "        if n == list_len:\n",
    "            return head.next\n",
    "        else:\n",
    "            temp_node = all_nodes[-n-1]\n",
    "            temp_node.next = temp_node.next.next\n",
    "        \n",
    "        return head\n",
    "        \"\"\"\n",
    "        first = second = head\n",
    "        dist = 0\n",
    "        while second.next is not None:\n",
    "            if dist >= n:\n",
    "                first = first.next\n",
    "            second = second.next\n",
    "            dist += 1\n",
    "            \n",
    "        if n == dist + 1:\n",
    "            return head.next\n",
    "        \n",
    "        first.next = first.next.next\n",
    "\n",
    "        return head"
   ]
  },
  {
   "cell_type": "markdown",
   "metadata": {},
   "source": [
    "## 24. Swap Nodes in Pairs\n",
    "\n",
    "Given a linked list, swap every two adjacent nodes and return its head.\n",
    "\n",
    "You may not modify the values in the list's nodes, only nodes itself may be changed.\n",
    "\n",
    " \n",
    "\n",
    "Example:\n",
    "\n",
    "Given 1->2->3->4, you should return the list as 2->1->4->3."
   ]
  },
  {
   "cell_type": "code",
   "execution_count": 62,
   "metadata": {
    "ExecuteTime": {
     "end_time": "2019-04-02T10:23:26.165405Z",
     "start_time": "2019-04-02T10:23:26.154262Z"
    }
   },
   "outputs": [],
   "source": [
    "class ListNode(object):\n",
    "    def __init__(self, x=None):\n",
    "        self.val = x\n",
    "        self.next = None\n",
    "\n",
    "    def print_next_list(self):\n",
    "        cur_node = self\n",
    "        while cur_node is not None:\n",
    "            print(cur_node.val)\n",
    "            cur_node = cur_node.next"
   ]
  },
  {
   "cell_type": "code",
   "execution_count": 142,
   "metadata": {
    "ExecuteTime": {
     "end_time": "2019-04-02T11:17:37.492282Z",
     "start_time": "2019-04-02T11:17:37.489131Z"
    }
   },
   "outputs": [],
   "source": [
    "n1 = ListNode(x=1)\n",
    "n2 = ListNode(x=2)\n",
    "n3 = ListNode(x=3)\n",
    "n4 = ListNode(x=4)\n",
    "\n",
    "n1.next = n2\n",
    "n2.next = n3\n",
    "n3.next = n4"
   ]
  },
  {
   "cell_type": "code",
   "execution_count": 125,
   "metadata": {
    "ExecuteTime": {
     "end_time": "2019-04-02T10:55:15.286791Z",
     "start_time": "2019-04-02T10:55:15.282355Z"
    }
   },
   "outputs": [],
   "source": [
    "def swapPairs(head):\n",
    "    \"\"\"\n",
    "    :type head: ListNode\n",
    "    :rtype: ListNode\n",
    "    \"\"\"\n",
    "    first = head\n",
    "    second = head.next\n",
    "    \n",
    "    prev = ListNode(0)\n",
    "    prev.next = first\n",
    "    \n",
    "    pair_cnt = 0\n",
    "    first_swap = True\n",
    "    \n",
    "    while second:\n",
    "        #print('pair_cnt', pair_cnt)\n",
    "        if pair_cnt % 2 == 0:\n",
    "            next_node = second.next\n",
    "            second.next = first\n",
    "            first.next = next_node\n",
    "            prev.next = second\n",
    "            \n",
    "            if first_swap:\n",
    "                new_head = second\n",
    "                first_swap = False\n",
    "            second = second.next.next\n",
    "            prev = prev.next\n",
    "        else:\n",
    "            prev = prev.next\n",
    "            first = first.next\n",
    "            second = second.next\n",
    "        pair_cnt += 1\n",
    "            \n",
    "    return new_head"
   ]
  },
  {
   "cell_type": "code",
   "execution_count": 126,
   "metadata": {
    "ExecuteTime": {
     "end_time": "2019-04-02T10:55:15.783793Z",
     "start_time": "2019-04-02T10:55:15.777775Z"
    }
   },
   "outputs": [
    {
     "name": "stdout",
     "output_type": "stream",
     "text": [
      "1\n",
      "2\n",
      "3\n",
      "4\n",
      "pair_cnt 0\n",
      "pair_cnt 1\n",
      "pair_cnt 2\n",
      "2\n",
      "1\n",
      "4\n",
      "3\n"
     ]
    }
   ],
   "source": [
    "n1.print_next_list()\n",
    "new = swapPairs(n1)\n",
    "new.print_next_list()"
   ]
  },
  {
   "cell_type": "code",
   "execution_count": 143,
   "metadata": {
    "ExecuteTime": {
     "end_time": "2019-04-02T11:17:39.211226Z",
     "start_time": "2019-04-02T11:17:39.209063Z"
    }
   },
   "outputs": [],
   "source": [
    "def swapPairs_recursively(head):\n",
    "    \"\"\"\n",
    "    :type head: ListNode\n",
    "    :rtype: ListNode\n",
    "    \"\"\"\n",
    "    if head is None or head.next is None:\n",
    "        return head\n",
    "    \n",
    "    second = head.next\n",
    "    head.next = swapPairs_recursively(second.next)\n",
    "    second.next = head\n",
    "    \n",
    "    return second"
   ]
  },
  {
   "cell_type": "code",
   "execution_count": 144,
   "metadata": {
    "ExecuteTime": {
     "end_time": "2019-04-02T11:17:39.626752Z",
     "start_time": "2019-04-02T11:17:39.621322Z"
    }
   },
   "outputs": [
    {
     "name": "stdout",
     "output_type": "stream",
     "text": [
      "1\n",
      "2\n",
      "3\n",
      "4\n",
      "2\n",
      "1\n",
      "4\n",
      "3\n"
     ]
    }
   ],
   "source": [
    "n1.print_next_list()\n",
    "new = swapPairs_recursively(n1)\n",
    "new.print_next_list()"
   ]
  },
  {
   "cell_type": "code",
   "execution_count": 145,
   "metadata": {
    "ExecuteTime": {
     "end_time": "2019-04-02T11:20:11.356832Z",
     "start_time": "2019-04-02T11:20:11.349732Z"
    }
   },
   "outputs": [],
   "source": [
    "class Solution(object):\n",
    "    def swapPairs(self, head):\n",
    "        \"\"\"\n",
    "        :type head: ListNode\n",
    "        :rtype: ListNode\n",
    "        \"\"\"\n",
    "        \"\"\"\n",
    "        if head is None:\n",
    "            return None\n",
    "        if head.next is None:\n",
    "            return head\n",
    "        \n",
    "        first = head\n",
    "        second = head.next\n",
    "\n",
    "        prev = ListNode(0)\n",
    "        prev.next = first\n",
    "\n",
    "        pair_cnt = 0\n",
    "        first_swap = True\n",
    "\n",
    "        while second:\n",
    "            #print('pair_cnt', pair_cnt)\n",
    "            if pair_cnt % 2 == 0:\n",
    "                next_node = second.next\n",
    "                second.next = first\n",
    "                first.next = next_node\n",
    "                prev.next = second\n",
    "\n",
    "                if first_swap:\n",
    "                    new_head = second\n",
    "                    first_swap = False\n",
    "                second = second.next.next\n",
    "                prev = prev.next\n",
    "            else:\n",
    "                prev = prev.next\n",
    "                first = first.next\n",
    "                second = second.next\n",
    "            pair_cnt += 1\n",
    "\n",
    "        return new_head\n",
    "        \"\"\"\n",
    "        if head is None or head.next is None:\n",
    "            return head\n",
    "    \n",
    "        second = head.next\n",
    "        head.next = self.swapPairs(second.next)\n",
    "        second.next = head\n",
    "\n",
    "        return second"
   ]
  },
  {
   "cell_type": "markdown",
   "metadata": {},
   "source": [
    "## 33. Search in Rotated Sorted Array\n",
    "\n",
    "Suppose an array sorted in ascending order is rotated at some pivot unknown to you beforehand.\n",
    "\n",
    "(i.e., [0,1,2,4,5,6,7] might become [4,5,6,7,0,1,2]).\n",
    "\n",
    "You are given a target value to search. If found in the array return its index, otherwise return -1.\n",
    "\n",
    "You may assume no duplicate exists in the array.\n",
    "\n",
    "Your algorithm's runtime complexity must be in the order of O(log n).\n",
    "\n",
    "Example 1:\n",
    "\n",
    "Input: nums = [4,5,6,7,0,1,2], target = 0\n",
    "Output: 4\n",
    "\n",
    "Example 2:\n",
    "\n",
    "Input: nums = [4,5,6,7,0,1,2], target = 3\n",
    "Output: -1"
   ]
  },
  {
   "cell_type": "code",
   "execution_count": 179,
   "metadata": {
    "ExecuteTime": {
     "end_time": "2019-03-26T20:43:25.853943Z",
     "start_time": "2019-03-26T20:43:25.846463Z"
    }
   },
   "outputs": [],
   "source": [
    "def binary_search(nums, target):\n",
    "    left, right = 0, len(nums) - 1\n",
    "    \n",
    "    while left < right:\n",
    "        mid = (left + right)//2\n",
    "        mid_el = nums[mid]\n",
    "        print(left, mid, right)\n",
    "        if target < mid_el:\n",
    "            right = mid\n",
    "        if mid_el < target:\n",
    "            left = mid + 1\n",
    "        if target == mid_el:\n",
    "            return mid\n",
    "    return left\n",
    "\n",
    "def search(nums, target):\n",
    "    \"\"\"\n",
    "    :type nums: List[int]\n",
    "    :type target: int\n",
    "    :rtype: int\n",
    "    \"\"\"\n",
    "    if target not in nums:\n",
    "        return -1\n",
    "    \n",
    "    left, right = 0, len(nums)-1\n",
    "    left_el = nums[left]\n",
    "    right_el = nums[right]\n",
    "    break_ind = 0\n",
    "    \n",
    "    while left_el > right_el:\n",
    "        \n",
    "        mid = (left + right)//2\n",
    "        \n",
    "        left_el = nums[left]\n",
    "        right_el = nums[right]        \n",
    "        mid_el = nums[mid]\n",
    "        print(left_el, mid_el, right_el)\n",
    "        \n",
    "        if left_el < mid_el:\n",
    "            left = mid\n",
    "        if left_el > mid_el:\n",
    "            right = mid\n",
    "        if left_el == mid_el:\n",
    "            break_ind = left + 1\n",
    "            break\n",
    "    print('break_ind', break_ind)\n",
    "    if break_ind == 0:\n",
    "        ind = binary_search(nums, target)\n",
    "    else:\n",
    "        if target in nums[:break_ind]:\n",
    "            ind = binary_search(nums[:break_ind], target)\n",
    "        else:\n",
    "            ind = binary_search(nums[break_ind:], target)\n",
    "            ind += break_ind\n",
    "    \n",
    "    return ind"
   ]
  },
  {
   "cell_type": "code",
   "execution_count": 180,
   "metadata": {
    "ExecuteTime": {
     "end_time": "2019-03-26T20:43:26.524734Z",
     "start_time": "2019-03-26T20:43:26.513755Z"
    }
   },
   "outputs": [
    {
     "name": "stdout",
     "output_type": "stream",
     "text": [
      "4 7 2\n",
      "7 0 2\n",
      "7 7 0\n",
      "break_ind 4\n",
      "0 1 2\n",
      "0 0 1\n"
     ]
    },
    {
     "data": {
      "text/plain": [
       "4"
      ]
     },
     "execution_count": 180,
     "metadata": {},
     "output_type": "execute_result"
    }
   ],
   "source": [
    "search([4,5,6,7,0,1,2], 0)"
   ]
  },
  {
   "cell_type": "code",
   "execution_count": 181,
   "metadata": {
    "ExecuteTime": {
     "end_time": "2019-03-26T20:43:27.478076Z",
     "start_time": "2019-03-26T20:43:27.463895Z"
    }
   },
   "outputs": [
    {
     "name": "stdout",
     "output_type": "stream",
     "text": [
      "3 3 1\n",
      "break_ind 1\n"
     ]
    },
    {
     "data": {
      "text/plain": [
       "1"
      ]
     },
     "execution_count": 181,
     "metadata": {},
     "output_type": "execute_result"
    }
   ],
   "source": [
    "search([3,1], 1)"
   ]
  },
  {
   "cell_type": "code",
   "execution_count": 182,
   "metadata": {
    "ExecuteTime": {
     "end_time": "2019-03-26T20:57:27.594520Z",
     "start_time": "2019-03-26T20:57:27.589565Z"
    }
   },
   "outputs": [],
   "source": [
    "class Solution(object):\n",
    "    \n",
    "    def binary_search(self, nums, target):\n",
    "        left, right = 0, len(nums) - 1\n",
    "\n",
    "        while left < right:\n",
    "            mid = (left + right)//2\n",
    "            mid_el = nums[mid]\n",
    "\n",
    "            if target < mid_el:\n",
    "                right = mid\n",
    "            if target > mid_el:\n",
    "                left = mid + 1\n",
    "            if target == mid_el:\n",
    "                return mid\n",
    "        return left\n",
    "\n",
    "    def search(self, nums, target):\n",
    "        \"\"\"\n",
    "        :type nums: List[int]\n",
    "        :type target: int\n",
    "        :rtype: int\n",
    "        \"\"\"\n",
    "\n",
    "        if target not in nums:\n",
    "            return -1\n",
    "\n",
    "        left, right = 0, len(nums)-1\n",
    "        left_el = nums[left]\n",
    "        right_el = nums[right]\n",
    "        break_ind = 0\n",
    "\n",
    "        while left_el > right_el:\n",
    "\n",
    "            mid = (left + right)//2\n",
    "\n",
    "            left_el = nums[left]\n",
    "            right_el = nums[right]        \n",
    "            mid_el = nums[mid]\n",
    "\n",
    "            if left_el < mid_el:\n",
    "                left = mid\n",
    "            if left_el > mid_el:\n",
    "                right = mid\n",
    "            if left_el == mid_el:\n",
    "                break_ind = left + 1\n",
    "                break\n",
    "                \n",
    "        if break_ind == 0:\n",
    "            ind = self.binary_search(nums, target)\n",
    "        else:\n",
    "            if target in nums[:break_ind]:\n",
    "                ind = self.binary_search(nums[:break_ind], target)\n",
    "            else:\n",
    "                ind = self.binary_search(nums[break_ind:], target)\n",
    "                ind += break_ind\n",
    "\n",
    "        return ind"
   ]
  },
  {
   "cell_type": "markdown",
   "metadata": {},
   "source": [
    "## 34. Find First and Last Position of Element in Sorted Array\n",
    "\n",
    "Given an array of integers nums sorted in ascending order, find the starting and ending position of a given target value.\n",
    "\n",
    "Your algorithm's runtime complexity must be in the order of O(log n).\n",
    "\n",
    "If the target is not found in the array, return [-1, -1].\n",
    "\n",
    "Example 1:\n",
    "\n",
    "Input: nums = [5,7,7,8,8,10], target = 8\n",
    "Output: [3,4]\n",
    "\n",
    "Example 2:\n",
    "\n",
    "Input: nums = [5,7,7,8,8,10], target = 6\n",
    "Output: [-1,-1]\n",
    "\n"
   ]
  },
  {
   "cell_type": "code",
   "execution_count": 1,
   "metadata": {
    "ExecuteTime": {
     "end_time": "2019-04-03T10:55:22.841251Z",
     "start_time": "2019-04-03T10:55:22.835365Z"
    }
   },
   "outputs": [],
   "source": [
    "nums = [5,7,7,8,8,10]\n",
    "target = 8"
   ]
  },
  {
   "cell_type": "code",
   "execution_count": 38,
   "metadata": {
    "ExecuteTime": {
     "end_time": "2019-04-03T11:36:29.553586Z",
     "start_time": "2019-04-03T11:36:29.545660Z"
    }
   },
   "outputs": [],
   "source": [
    "def searchRange(nums, target):\n",
    "    \"\"\"\n",
    "    :type nums: List[int]\n",
    "    :type target: int\n",
    "    :rtype: List[int]\n",
    "    \"\"\"\n",
    "    nums_len = len(nums)\n",
    "    if nums_len == 0:\n",
    "        return [-1, -1]\n",
    "    \n",
    "    left, right = 0, nums_len - 1\n",
    "    first_el = nums[left]\n",
    "    last_el = nums[right]\n",
    "    \n",
    "    if target < first_el:\n",
    "        return [-1, -1]\n",
    "    elif target > last_el:\n",
    "        return [-1, -1]\n",
    "    \n",
    "    elif target == first_el == last_el:\n",
    "        return [left, right]\n",
    "    \n",
    "    elif target == first_el:\n",
    "        \n",
    "        ind_first, ind_last = left, left\n",
    "        while (ind_last < nums_len - 1) and (nums[ind_last] == nums[ind_last + 1]):\n",
    "            ind_last += 1\n",
    "        return [ind_first, ind_last]\n",
    "    \n",
    "    elif target == last_el:\n",
    "        \n",
    "        ind_first, ind_last = right, right\n",
    "        while (ind_first > 0) and (nums[ind_first] == nums[ind_first - 1]):\n",
    "            ind_first -= 1\n",
    "        return [ind_first, ind_last]\n",
    "    \n",
    "    while left <= right:\n",
    "        mid = (left + right)//2\n",
    "        el_mid = nums[mid]\n",
    "        if target == el_mid:\n",
    "            ind_first, ind_last = mid, mid\n",
    "            while (ind_first > 0) and (nums[ind_first] == nums[ind_first - 1]):\n",
    "                ind_first -= 1\n",
    "            while (ind_last < nums_len - 1) and (nums[ind_last] == nums[ind_last + 1]):\n",
    "                ind_last += 1\n",
    "            return [ind_first, ind_last]    \n",
    "        if target < el_mid:\n",
    "            right = mid - 1\n",
    "        if target > el_mid:\n",
    "            left = mid + 1\n",
    "        print(target, el_mid, left, right)    \n",
    "    return [-1, -1]"
   ]
  },
  {
   "cell_type": "code",
   "execution_count": 39,
   "metadata": {
    "ExecuteTime": {
     "end_time": "2019-04-03T11:36:29.982325Z",
     "start_time": "2019-04-03T11:36:29.978622Z"
    }
   },
   "outputs": [
    {
     "name": "stdout",
     "output_type": "stream",
     "text": [
      "2 3 0 2\n",
      "2 1 2 2\n"
     ]
    },
    {
     "data": {
      "text/plain": [
       "[2, 2]"
      ]
     },
     "execution_count": 39,
     "metadata": {},
     "output_type": "execute_result"
    }
   ],
   "source": [
    "searchRange([0,1,2,3,4,4,4], 2)"
   ]
  },
  {
   "cell_type": "code",
   "execution_count": 63,
   "metadata": {
    "ExecuteTime": {
     "end_time": "2019-04-03T13:05:13.372744Z",
     "start_time": "2019-04-03T13:05:13.365335Z"
    }
   },
   "outputs": [],
   "source": [
    "def searchRange2(nums, target):\n",
    "    \"\"\"\n",
    "    :type nums: List[int]\n",
    "    :type target: int\n",
    "    :rtype: List[int]\n",
    "    \"\"\"\n",
    "    nums_len = len(nums)\n",
    "    if nums_len == 0:\n",
    "        return [-1, -1]\n",
    "    \n",
    "    left, right = 0, nums_len - 1\n",
    "    first_el = nums[left]\n",
    "    last_el = nums[right]\n",
    "    \n",
    "    if target < first_el:\n",
    "        return [-1, -1]\n",
    "    elif target > last_el:\n",
    "        return [-1, -1]\n",
    "    \n",
    "    elif target == first_el == last_el:\n",
    "        return [left, right]\n",
    "        \n",
    "    while left <= right:\n",
    "        mid = (left + right)//2\n",
    "        el_mid = nums[mid]\n",
    "        if target <= el_mid:\n",
    "            right = mid - 1\n",
    "        else:\n",
    "            left = mid + 1\n",
    "        print(target, el_mid, left, right)    \n",
    "    ind_left = left\n",
    "    print('2nd loop')\n",
    "    left, right = 0, nums_len - 1\n",
    "    while left <= right:\n",
    "        mid = (left + right)//2\n",
    "        el_mid = nums[mid]\n",
    "        \n",
    "        if target < el_mid:\n",
    "            right = mid - 1\n",
    "        else:\n",
    "            left = mid + 1\n",
    "            \n",
    "        print(target, el_mid, left, right)\n",
    "    if ind_left > right:\n",
    "        return [-1, -1]\n",
    "    \n",
    "    return [ind_left, right]"
   ]
  },
  {
   "cell_type": "code",
   "execution_count": 60,
   "metadata": {
    "ExecuteTime": {
     "end_time": "2019-04-03T13:01:26.171802Z",
     "start_time": "2019-04-03T13:01:26.162298Z"
    }
   },
   "outputs": [
    {
     "name": "stdout",
     "output_type": "stream",
     "text": [
      "4 3 5 9\n",
      "4 4 5 6\n",
      "4 3 6 6\n",
      "4 3 7 6\n",
      "2nd loop\n",
      "4 3 5 9\n",
      "4 4 8 9\n",
      "4 4 9 9\n",
      "4 4 10 9\n"
     ]
    },
    {
     "data": {
      "text/plain": [
       "[7, 9]"
      ]
     },
     "execution_count": 60,
     "metadata": {},
     "output_type": "execute_result"
    }
   ],
   "source": [
    "searchRange2([1,2,3,3,3,3,3,4,4,4], 4)"
   ]
  },
  {
   "cell_type": "code",
   "execution_count": 65,
   "metadata": {
    "ExecuteTime": {
     "end_time": "2019-04-03T13:05:17.615395Z",
     "start_time": "2019-04-03T13:05:17.606847Z"
    }
   },
   "outputs": [
    {
     "name": "stdout",
     "output_type": "stream",
     "text": [
      "1 3 0 3\n",
      "1 3 0 0\n",
      "1 1 0 -1\n",
      "2nd loop\n",
      "1 3 0 3\n",
      "1 3 0 0\n",
      "1 1 1 0\n"
     ]
    },
    {
     "data": {
      "text/plain": [
       "[0, 0]"
      ]
     },
     "execution_count": 65,
     "metadata": {},
     "output_type": "execute_result"
    }
   ],
   "source": [
    "searchRange2([1,3,3,3,3,3,4,4,4], 1)"
   ]
  },
  {
   "cell_type": "code",
   "execution_count": 66,
   "metadata": {
    "ExecuteTime": {
     "end_time": "2019-04-03T13:10:38.772552Z",
     "start_time": "2019-04-03T13:10:38.761400Z"
    }
   },
   "outputs": [],
   "source": [
    "class Solution(object):\n",
    "    def searchRange(self, nums, target):\n",
    "        \"\"\"\n",
    "        :type nums: List[int]\n",
    "        :type target: int\n",
    "        :rtype: List[int]\n",
    "        \"\"\"\n",
    "        \"\"\"\n",
    "        nums_len = len(nums)\n",
    "        if nums_len == 0:\n",
    "            return [-1, -1]\n",
    "\n",
    "        left, right = 0, nums_len - 1\n",
    "        first_el = nums[left]\n",
    "        last_el = nums[right]\n",
    "\n",
    "        if target < first_el:\n",
    "            return [-1, -1]\n",
    "        elif target > last_el:\n",
    "            return [-1, -1]\n",
    "\n",
    "        elif target == first_el == last_el:\n",
    "            return [left, right]\n",
    "\n",
    "        elif target == first_el:\n",
    "\n",
    "            ind_first, ind_last = left, left\n",
    "            while (ind_last < nums_len - 1) and (nums[ind_last] == nums[ind_last + 1]):\n",
    "                ind_last += 1\n",
    "            return [ind_first, ind_last]\n",
    "\n",
    "        elif target == last_el:\n",
    "\n",
    "            ind_first, ind_last = right, right\n",
    "            while (ind_first > 0) and (nums[ind_first] == nums[ind_first - 1]):\n",
    "                ind_first -= 1\n",
    "            return [ind_first, ind_last]\n",
    "\n",
    "        while left <= right:\n",
    "            mid = (left + right)//2\n",
    "            el_mid = nums[mid]\n",
    "\n",
    "            if target == el_mid:\n",
    "                ind_first, ind_last = mid, mid\n",
    "                while (ind_first > 0) and (nums[ind_first] == nums[ind_first - 1]):\n",
    "                    ind_first -= 1\n",
    "                while (ind_last < nums_len - 1) and (nums[ind_last] == nums[ind_last + 1]):\n",
    "                    ind_last += 1\n",
    "                return [ind_first, ind_last]    \n",
    "            if target < el_mid:\n",
    "                right = mid - 1\n",
    "            if target > el_mid:\n",
    "                left = mid + 1\n",
    "\n",
    "        return [-1, -1]\n",
    "        \"\"\"\n",
    "        nums_len = len(nums)\n",
    "        if nums_len == 0:\n",
    "            return [-1, -1]\n",
    "\n",
    "        left, right = 0, nums_len - 1\n",
    "        \"\"\"\n",
    "        first_el = nums[left]\n",
    "        last_el = nums[right]\n",
    "        \n",
    "        if target < first_el:\n",
    "            return [-1, -1]\n",
    "        elif target > last_el:\n",
    "            return [-1, -1]\n",
    "\n",
    "        elif target == first_el == last_el:\n",
    "            return [left, right]\n",
    "        \"\"\"\n",
    "        while left <= right:\n",
    "            mid = (left + right)//2\n",
    "            el_mid = nums[mid]\n",
    "            if target <= el_mid:\n",
    "                right = mid - 1\n",
    "            else:\n",
    "                left = mid + 1    \n",
    "        ind_left = left\n",
    "        \n",
    "        left, right = 0, nums_len - 1\n",
    "        while left <= right:\n",
    "            mid = (left + right)//2\n",
    "            el_mid = nums[mid]\n",
    "\n",
    "            if target < el_mid:\n",
    "                right = mid - 1\n",
    "            else:\n",
    "                left = mid + 1\n",
    "\n",
    "        if ind_left > right:\n",
    "            return [-1, -1]\n",
    "        \n",
    "        return [ind_left, right]"
   ]
  },
  {
   "cell_type": "markdown",
   "metadata": {},
   "source": [
    "## 50. Pow(x, n)\n",
    "\n",
    "Implement pow(x, n), which calculates x raised to the power n (xn).\n",
    "\n",
    "Example 1:\n",
    "\n",
    "Input: 2.00000, 10\n",
    "Output: 1024.00000\n",
    "\n",
    "Example 2:\n",
    "\n",
    "Input: 2.10000, 3\n",
    "Output: 9.26100\n",
    "\n",
    "Example 3:\n",
    "\n",
    "Input: 2.00000, -2\n",
    "Output: 0.25000\n",
    "Explanation: 2-2 = 1/22 = 1/4 = 0.25"
   ]
  },
  {
   "cell_type": "code",
   "execution_count": 10,
   "metadata": {
    "ExecuteTime": {
     "end_time": "2020-06-24T19:26:03.517255Z",
     "start_time": "2020-06-24T19:26:03.508894Z"
    }
   },
   "outputs": [
    {
     "data": {
      "text/plain": [
       "1"
      ]
     },
     "execution_count": 10,
     "metadata": {},
     "output_type": "execute_result"
    }
   ],
   "source": [
    "class Solution:\n",
    "    def myPow(self, x: float, n: int) -> float:\n",
    "        # n in binary view is sum of powers of 2\n",
    "        # n = 13 = 1101\n",
    "        # only last bit = n % 2\n",
    "        # drop last bit : n = n // 2\n",
    "        \n",
    "        if n < 0:\n",
    "            is_less_zero = True\n",
    "            n *= -1\n",
    "        else:\n",
    "            is_less_zero = False\n",
    "        \n",
    "        res = 1\n",
    "        mult = x\n",
    "        \n",
    "        while n != 0:\n",
    "            if n % 2 != 0:\n",
    "                res *= mult\n",
    "            mult *= mult\n",
    "            n = n // 2\n",
    "        \n",
    "        if is_less_zero:\n",
    "            res = 1 / res\n",
    "        \n",
    "        return res"
   ]
  },
  {
   "cell_type": "markdown",
   "metadata": {},
   "source": [
    "## 61. Rotate List\n",
    "\n",
    "Given a linked list, rotate the list to the right by k places, where k is non-negative.\n",
    "\n",
    "Example 1:\n",
    "\n",
    "Input: 1->2->3->4->5->NULL, k = 2\n",
    "Output: 4->5->1->2->3->NULL\n",
    "Explanation:\n",
    "rotate 1 steps to the right: 5->1->2->3->4->NULL\n",
    "rotate 2 steps to the right: 4->5->1->2->3->NULL\n",
    "\n",
    "Example 2:\n",
    "\n",
    "Input: 0->1->2->NULL, k = 4\n",
    "Output: 2->0->1->NULL\n",
    "Explanation:\n",
    "rotate 1 steps to the right: 2->0->1->NULL\n",
    "rotate 2 steps to the right: 1->2->0->NULL\n",
    "rotate 3 steps to the right: 0->1->2->NULL\n",
    "rotate 4 steps to the right: 2->0->1->NULL"
   ]
  },
  {
   "cell_type": "code",
   "execution_count": 113,
   "metadata": {
    "ExecuteTime": {
     "end_time": "2019-04-09T11:11:52.688240Z",
     "start_time": "2019-04-09T11:11:52.685934Z"
    }
   },
   "outputs": [],
   "source": [
    "class ListNode(object):\n",
    "    def __init__(self, x=None):\n",
    "        self.val = x\n",
    "        self.next = None\n",
    "    \n",
    "    def print_next_list(self):\n",
    "        cur_node = self\n",
    "        while cur_node:\n",
    "            print(cur_node.val)\n",
    "            cur_node = cur_node.next"
   ]
  },
  {
   "cell_type": "code",
   "execution_count": 167,
   "metadata": {
    "ExecuteTime": {
     "end_time": "2019-04-09T11:47:22.240928Z",
     "start_time": "2019-04-09T11:47:22.237862Z"
    }
   },
   "outputs": [],
   "source": [
    "n1 = ListNode(x=1)\n",
    "n2 = ListNode(x=2)\n",
    "n3 = ListNode(x=3)\n",
    "n4 = ListNode(x=4)\n",
    "n5 = ListNode(x=5)\n",
    "n6 = ListNode(x=6)\n",
    "n1.next = n2\n",
    "n2.next = n3\n",
    "n3.next = n4\n",
    "n4.next = n5\n",
    "n5.next = n6"
   ]
  },
  {
   "cell_type": "code",
   "execution_count": 165,
   "metadata": {
    "ExecuteTime": {
     "end_time": "2019-04-09T11:47:13.228679Z",
     "start_time": "2019-04-09T11:47:13.216204Z"
    }
   },
   "outputs": [],
   "source": [
    "def change_first_last(head):\n",
    "    \n",
    "    first = cur_node = head\n",
    "    last = None\n",
    "        \n",
    "    while cur_node.next:\n",
    "        if cur_node.next.next is None:\n",
    "            last = cur_node.next\n",
    "            cur_node.next = None\n",
    "            break\n",
    "        cur_node = cur_node.next\n",
    "            \n",
    "    last.next = first\n",
    "    head = last  \n",
    "    \n",
    "    return head\n",
    "    \n",
    "def rotateRight(head, k):\n",
    "    \"\"\"\n",
    "    :type head: ListNode\n",
    "    :type k: int\n",
    "    :rtype: ListNode\n",
    "    \"\"\"\n",
    "    \n",
    "    if head is None or head.next is None:\n",
    "        return head\n",
    "    if k == 0:\n",
    "        return head\n",
    "    \n",
    "    list_len = 0\n",
    "    cur_node = head\n",
    "    \n",
    "    while cur_node:\n",
    "        cur_node = cur_node.next\n",
    "        list_len += 1\n",
    "        \n",
    "    num_iters = k % list_len\n",
    "    \n",
    "    for _ in range(num_iters):\n",
    "        head = change_first_last(head)\n",
    "        \n",
    "    return head"
   ]
  },
  {
   "cell_type": "code",
   "execution_count": 158,
   "metadata": {
    "ExecuteTime": {
     "end_time": "2019-04-09T11:32:50.782542Z",
     "start_time": "2019-04-09T11:32:50.777236Z"
    }
   },
   "outputs": [
    {
     "name": "stdout",
     "output_type": "stream",
     "text": [
      "3\n",
      "4\n",
      "5\n",
      "6\n",
      "1\n",
      "2\n"
     ]
    }
   ],
   "source": [
    "n2 = rotateRight(n1, 10)\n",
    "n2.print_next_list()"
   ]
  },
  {
   "cell_type": "code",
   "execution_count": 212,
   "metadata": {
    "ExecuteTime": {
     "end_time": "2019-04-09T11:54:20.767441Z",
     "start_time": "2019-04-09T11:54:20.761737Z"
    }
   },
   "outputs": [],
   "source": [
    "def rotateRight2(head, k):\n",
    "    \"\"\"\n",
    "    :type head: ListNode\n",
    "    :type k: int\n",
    "    :rtype: ListNode\n",
    "    \"\"\"\n",
    "    \n",
    "    if head is None or head.next is None:\n",
    "        return head\n",
    "    if k == 0:\n",
    "        return head\n",
    "    \n",
    "    list_len = 1\n",
    "    cur_node = head\n",
    "    \n",
    "    while cur_node.next:\n",
    "        cur_node = cur_node.next\n",
    "        list_len += 1\n",
    "    cur_node.next = head\n",
    "    \n",
    "    num_iters = k % list_len\n",
    "    \n",
    "    cur_node = head\n",
    "    for _ in range(list_len - num_iters - 1):\n",
    "        cur_node = cur_node.next\n",
    "        \n",
    "    head = cur_node.next\n",
    "    cur_node.next = None\n",
    "    \n",
    "    return head"
   ]
  },
  {
   "cell_type": "code",
   "execution_count": 215,
   "metadata": {
    "ExecuteTime": {
     "end_time": "2019-04-09T11:54:26.602486Z",
     "start_time": "2019-04-09T11:54:26.599823Z"
    }
   },
   "outputs": [],
   "source": [
    "n1 = ListNode(x=1)\n",
    "n2 = ListNode(x=2)\n",
    "n3 = ListNode(x=3)\n",
    "n4 = ListNode(x=4)\n",
    "n5 = ListNode(x=5)\n",
    "n6 = ListNode(x=6)\n",
    "n1.next = n2\n",
    "n2.next = n3\n",
    "n3.next = n4\n",
    "n4.next = n5\n",
    "n5.next = n6"
   ]
  },
  {
   "cell_type": "code",
   "execution_count": 216,
   "metadata": {
    "ExecuteTime": {
     "end_time": "2019-04-09T11:54:27.310114Z",
     "start_time": "2019-04-09T11:54:27.307806Z"
    }
   },
   "outputs": [
    {
     "name": "stdout",
     "output_type": "stream",
     "text": [
      "1\n",
      "2\n",
      "3\n",
      "4\n",
      "5\n",
      "6\n"
     ]
    }
   ],
   "source": [
    "n2 = rotateRight2(n1, 12)\n",
    "n2.print_next_list()"
   ]
  },
  {
   "cell_type": "code",
   "execution_count": 217,
   "metadata": {
    "ExecuteTime": {
     "end_time": "2019-04-09T11:56:41.617590Z",
     "start_time": "2019-04-09T11:56:41.596465Z"
    }
   },
   "outputs": [],
   "source": [
    "class Solution(object):\n",
    "    \"\"\"\n",
    "    def change_first_last(self, head):\n",
    "\n",
    "        first = cur_node = head\n",
    "        last = None\n",
    "\n",
    "        while cur_node.next:\n",
    "            if cur_node.next.next is None:\n",
    "                last = cur_node.next\n",
    "                cur_node.next = None\n",
    "                break\n",
    "            cur_node = cur_node.next\n",
    "\n",
    "        last.next = first\n",
    "        head = last  \n",
    "\n",
    "        return head\n",
    "    \"\"\"\n",
    "    def rotateRight(self, head, k):\n",
    "        \"\"\"\n",
    "        :type head: ListNode\n",
    "        :type k: int\n",
    "        :rtype: ListNode\n",
    "        \"\"\"\n",
    "        if head is None or head.next is None:\n",
    "            return head\n",
    "        if k == 0:\n",
    "            return head\n",
    "\n",
    "        list_len = 1\n",
    "        cur_node = head\n",
    "\n",
    "        while cur_node.next:\n",
    "            cur_node = cur_node.next\n",
    "            list_len += 1\n",
    "        cur_node.next = head\n",
    "\n",
    "        num_iters = k % list_len\n",
    "\n",
    "        cur_node = head\n",
    "        for _ in range(list_len - num_iters - 1):\n",
    "            cur_node = cur_node.next\n",
    "\n",
    "        head = cur_node.next\n",
    "        cur_node.next = None\n",
    "\n",
    "        return head\n",
    "        \n",
    "    \"\"\"\n",
    "        if head is None or head.next is None:\n",
    "            return head\n",
    "        if k == 0:\n",
    "            return head\n",
    "\n",
    "        list_len = 0\n",
    "        cur_node = head\n",
    "\n",
    "        while cur_node:\n",
    "            cur_node = cur_node.next\n",
    "            list_len += 1\n",
    "\n",
    "        num_iters = k % list_len\n",
    "\n",
    "        for _ in range(num_iters):\n",
    "            head = self.change_first_last(head)\n",
    "\n",
    "        return head\n",
    "    \"\"\""
   ]
  },
  {
   "cell_type": "markdown",
   "metadata": {},
   "source": [
    "## 80. Remove Duplicates from Sorted Array II\n",
    "\n",
    "Given a sorted array nums, remove the duplicates in-place such that duplicates appeared at most twice and return the new length.\n",
    "\n",
    "Do not allocate extra space for another array, you must do this by modifying the input array in-place with O(1) extra memory.\n",
    "\n",
    "Example 1:\n",
    "\n",
    "Given nums = [1,1,1,2,2,3],\n",
    "\n",
    "Your function should return length = 5, with the first five elements of nums being 1, 1, 2, 2 and 3 respectively.\n",
    "\n",
    "It doesn't matter what you leave beyond the returned length.\n",
    "\n",
    "Example 2:\n",
    "\n",
    "Given nums = [0,0,1,1,1,1,2,3,3],\n",
    "\n",
    "Your function should return length = 7, with the first seven elements of nums being modified to 0, 0, 1, 1, 2, 3 and 3 respectively.\n",
    "\n",
    "It doesn't matter what values are set beyond the returned length."
   ]
  },
  {
   "cell_type": "code",
   "execution_count": 80,
   "metadata": {
    "ExecuteTime": {
     "end_time": "2019-04-02T14:28:53.997806Z",
     "start_time": "2019-04-02T14:28:53.991397Z"
    }
   },
   "outputs": [],
   "source": [
    "#nums = [1,1,1,2,2,3]\n",
    "nums = [0,0,1,1,1,1,2,3,3]"
   ]
  },
  {
   "cell_type": "code",
   "execution_count": 67,
   "metadata": {
    "ExecuteTime": {
     "end_time": "2019-04-02T13:53:19.359659Z",
     "start_time": "2019-04-02T13:53:19.349159Z"
    }
   },
   "outputs": [],
   "source": [
    "def removeDuplicates(nums):\n",
    "    \"\"\"\n",
    "    :type nums: List[int]\n",
    "    :rtype: int\n",
    "    \"\"\"\n",
    "    output = 0\n",
    "    current_cnt = 0\n",
    "    ind = 1\n",
    "    while ind < len(nums):\n",
    "        \n",
    "        if nums[ind] != nums[ind-1]:\n",
    "            current_cnt = 0\n",
    "        else:\n",
    "            current_cnt += 1  \n",
    "        \n",
    "        if current_cnt < 2:\n",
    "            output += 1\n",
    "        else:\n",
    "            del nums[ind]\n",
    "            ind -= 1\n",
    "        \n",
    "        ind += 1\n",
    "        print(nums)\n",
    "        print('output', output)\n",
    "        print('current_cnt', current_cnt)\n",
    "        \n",
    "    return output + 1"
   ]
  },
  {
   "cell_type": "code",
   "execution_count": 68,
   "metadata": {
    "ExecuteTime": {
     "end_time": "2019-04-02T13:53:20.040626Z",
     "start_time": "2019-04-02T13:53:20.031139Z"
    },
    "scrolled": false
   },
   "outputs": [
    {
     "name": "stdout",
     "output_type": "stream",
     "text": [
      "[1, 1, 1, 2, 2, 3]\n",
      "output 1\n",
      "current_cnt 1\n",
      "[1, 1, 2, 2, 3]\n",
      "output 1\n",
      "current_cnt 2\n",
      "[1, 1, 2, 2, 3]\n",
      "output 2\n",
      "current_cnt 0\n",
      "[1, 1, 2, 2, 3]\n",
      "output 3\n",
      "current_cnt 1\n",
      "[1, 1, 2, 2, 3]\n",
      "output 4\n",
      "current_cnt 0\n"
     ]
    },
    {
     "data": {
      "text/plain": [
       "5"
      ]
     },
     "execution_count": 68,
     "metadata": {},
     "output_type": "execute_result"
    }
   ],
   "source": [
    "removeDuplicates(nums)"
   ]
  },
  {
   "cell_type": "code",
   "execution_count": 65,
   "metadata": {
    "ExecuteTime": {
     "end_time": "2019-04-02T13:53:10.525225Z",
     "start_time": "2019-04-02T13:53:10.522668Z"
    }
   },
   "outputs": [
    {
     "name": "stdout",
     "output_type": "stream",
     "text": [
      "[1, 1]\n",
      "output 1\n",
      "current_cnt 1\n"
     ]
    },
    {
     "data": {
      "text/plain": [
       "2"
      ]
     },
     "execution_count": 65,
     "metadata": {},
     "output_type": "execute_result"
    }
   ],
   "source": [
    "removeDuplicates([1,1])"
   ]
  },
  {
   "cell_type": "code",
   "execution_count": 81,
   "metadata": {
    "ExecuteTime": {
     "end_time": "2019-04-02T14:28:57.892819Z",
     "start_time": "2019-04-02T14:28:57.887069Z"
    }
   },
   "outputs": [],
   "source": [
    "def removeDuplicates2(nums):\n",
    "    \"\"\"\n",
    "    :type nums: List[int]\n",
    "    :rtype: int\n",
    "    \"\"\"\n",
    "    output = 2\n",
    "    nums_len = len(nums)\n",
    "    if nums_len < 2:\n",
    "        return 1\n",
    "    \n",
    "    for cur_el in nums[2:]:\n",
    "        \n",
    "        if cur_el != nums[output-2]:\n",
    "            nums[output] = cur_el\n",
    "            output += 1 \n",
    "\n",
    "        print(nums)\n",
    "        print('output', output)\n",
    "        #print('current_cnt', current_cnt)\n",
    "        \n",
    "    return output"
   ]
  },
  {
   "cell_type": "code",
   "execution_count": 72,
   "metadata": {
    "ExecuteTime": {
     "end_time": "2019-04-02T14:24:24.248904Z",
     "start_time": "2019-04-02T14:24:24.244372Z"
    }
   },
   "outputs": [
    {
     "data": {
      "text/plain": [
       "2"
      ]
     },
     "execution_count": 72,
     "metadata": {},
     "output_type": "execute_result"
    }
   ],
   "source": [
    "removeDuplicates2([1,1])"
   ]
  },
  {
   "cell_type": "code",
   "execution_count": 82,
   "metadata": {
    "ExecuteTime": {
     "end_time": "2019-04-02T14:28:59.333973Z",
     "start_time": "2019-04-02T14:28:59.323706Z"
    }
   },
   "outputs": [
    {
     "name": "stdout",
     "output_type": "stream",
     "text": [
      "[0, 0, 1, 1, 1, 1, 2, 3, 3]\n",
      "output 3\n",
      "[0, 0, 1, 1, 1, 1, 2, 3, 3]\n",
      "output 4\n",
      "[0, 0, 1, 1, 1, 1, 2, 3, 3]\n",
      "output 4\n",
      "[0, 0, 1, 1, 1, 1, 2, 3, 3]\n",
      "output 4\n",
      "[0, 0, 1, 1, 2, 1, 2, 3, 3]\n",
      "output 5\n",
      "[0, 0, 1, 1, 2, 3, 2, 3, 3]\n",
      "output 6\n",
      "[0, 0, 1, 1, 2, 3, 3, 3, 3]\n",
      "output 7\n"
     ]
    },
    {
     "data": {
      "text/plain": [
       "7"
      ]
     },
     "execution_count": 82,
     "metadata": {},
     "output_type": "execute_result"
    }
   ],
   "source": [
    "removeDuplicates2(nums)"
   ]
  },
  {
   "cell_type": "code",
   "execution_count": 83,
   "metadata": {
    "ExecuteTime": {
     "end_time": "2019-04-02T14:30:04.366997Z",
     "start_time": "2019-04-02T14:30:04.362610Z"
    }
   },
   "outputs": [],
   "source": [
    "class Solution(object):\n",
    "    def removeDuplicates(self, nums):\n",
    "        \"\"\"\n",
    "        :type nums: List[int]\n",
    "        :rtype: int\n",
    "        \"\"\"\n",
    "        \"\"\"\n",
    "        output = 0\n",
    "        current_cnt = 0\n",
    "        ind = 1\n",
    "        while ind < len(nums):\n",
    "            cur_el = nums[ind]\n",
    "\n",
    "            if cur_el != nums[ind-1]:\n",
    "                current_cnt = 0\n",
    "            else:\n",
    "                current_cnt += 1  \n",
    "\n",
    "            if current_cnt < 2:\n",
    "                output += 1\n",
    "            else:\n",
    "                del nums[ind]\n",
    "                ind -= 1\n",
    "\n",
    "            ind += 1\n",
    "        return output + 1\n",
    "        \"\"\"\n",
    "        output = 2\n",
    "        nums_len = len(nums)\n",
    "        if nums_len < 2:\n",
    "            return 1\n",
    "\n",
    "        for cur_el in nums[2:]:\n",
    "\n",
    "            if cur_el != nums[output-2]:\n",
    "                nums[output] = cur_el\n",
    "                output += 1 \n",
    "        \n",
    "        return output"
   ]
  },
  {
   "cell_type": "markdown",
   "metadata": {},
   "source": [
    "## 92. Reverse Linked List II\n",
    "\n",
    "Reverse a linked list from position m to n. Do it in one-pass.\n",
    "\n",
    "Note: 1 ≤ m ≤ n ≤ length of list.\n",
    "\n",
    "Example:\n",
    "\n",
    "Input: 1->2->3->4->5->NULL, m = 2, n = 4\n",
    "Output: 1->4->3->2->5->NULL"
   ]
  },
  {
   "cell_type": "code",
   "execution_count": 5,
   "metadata": {
    "ExecuteTime": {
     "end_time": "2019-04-09T08:27:52.466447Z",
     "start_time": "2019-04-09T08:27:52.463867Z"
    }
   },
   "outputs": [],
   "source": [
    "class ListNode(object):\n",
    "    def __init__(self, x=None):\n",
    "        self.val = x\n",
    "        self.next = None\n",
    "    \n",
    "    def print_next_list(self):\n",
    "        cur_node = self\n",
    "        while cur_node:\n",
    "            print(cur_node.val)\n",
    "            cur_node = cur_node.next"
   ]
  },
  {
   "cell_type": "code",
   "execution_count": 108,
   "metadata": {
    "ExecuteTime": {
     "end_time": "2019-04-09T09:49:57.097415Z",
     "start_time": "2019-04-09T09:49:57.091858Z"
    }
   },
   "outputs": [],
   "source": [
    "n1 = ListNode(x=1)\n",
    "n2 = ListNode(x=2)\n",
    "n3 = ListNode(x=3)\n",
    "n4 = ListNode(x=4)\n",
    "n5 = ListNode(x=5)\n",
    "n6 = ListNode(x=6)\n",
    "n1.next = n2\n",
    "n2.next = n3\n",
    "n3.next = n4\n",
    "n4.next = n5\n",
    "n5.next = n6"
   ]
  },
  {
   "cell_type": "code",
   "execution_count": 109,
   "metadata": {
    "ExecuteTime": {
     "end_time": "2019-04-09T09:49:57.441945Z",
     "start_time": "2019-04-09T09:49:57.435943Z"
    }
   },
   "outputs": [
    {
     "name": "stdout",
     "output_type": "stream",
     "text": [
      "1\n",
      "2\n",
      "3\n",
      "4\n",
      "5\n",
      "6\n"
     ]
    }
   ],
   "source": [
    "n1.print_next_list()"
   ]
  },
  {
   "cell_type": "code",
   "execution_count": 110,
   "metadata": {
    "ExecuteTime": {
     "end_time": "2019-04-09T09:49:59.592535Z",
     "start_time": "2019-04-09T09:49:59.588562Z"
    }
   },
   "outputs": [],
   "source": [
    "def reverseBetween(head, m, n):\n",
    "    \"\"\"\n",
    "    :type head: ListNode\n",
    "    :type m: int\n",
    "    :type n: int\n",
    "    :rtype: ListNode\n",
    "    \"\"\"\n",
    "    dummy = ListNode(0)\n",
    "    dummy.next = head\n",
    "    cur_node = last_node = head\n",
    "    if m > 1:\n",
    "        prev_node = head\n",
    "    else:\n",
    "        prev_node = dummy\n",
    "        \n",
    "    temp = None\n",
    "    m_node = None\n",
    "    ind = 1\n",
    "    while ind < n + 1:\n",
    "        print(ind, cur_node.val, prev_node.val, last_node.val)\n",
    "        \n",
    "        if ind < m - 1:\n",
    "            last_node = last_node.next\n",
    "            prev_node = prev_node.next\n",
    "            cur_node = cur_node.next\n",
    "            \n",
    "        if ind == m - 1:\n",
    "            last_node = last_node.next\n",
    "            cur_node = cur_node.next\n",
    "        \n",
    "        if ind == m:\n",
    "            last_node = last_node.next\n",
    "            next_node = cur_node.next\n",
    "            m_node = cur_node\n",
    "            cur_node.next = temp\n",
    "            temp = cur_node\n",
    "            \n",
    "            cur_node = next_node             \n",
    "        \n",
    "        if ind > m and ind <= n:\n",
    "            last_node = last_node.next\n",
    "            \n",
    "            next_node = cur_node.next\n",
    "            cur_node.next = temp\n",
    "            temp = cur_node\n",
    "            \n",
    "            cur_node = next_node       \n",
    "        \n",
    "        ind += 1\n",
    "        \n",
    "    print('loop end')    \n",
    "    prev_node.next = temp\n",
    "    m_node.next = last_node\n",
    "    \n",
    "    return dummy.next"
   ]
  },
  {
   "cell_type": "code",
   "execution_count": 111,
   "metadata": {
    "ExecuteTime": {
     "end_time": "2019-04-09T09:50:04.478644Z",
     "start_time": "2019-04-09T09:50:04.475386Z"
    }
   },
   "outputs": [
    {
     "name": "stdout",
     "output_type": "stream",
     "text": [
      "1 1 1 1\n",
      "2 2 2 2\n",
      "3 3 3 3\n",
      "4 4 4 4\n",
      "5 5 5 5\n",
      "6 6 5 6\n",
      "loop end\n",
      "1\n",
      "2\n",
      "3\n",
      "4\n",
      "5\n",
      "6\n"
     ]
    }
   ],
   "source": [
    "res = reverseBetween(n1, 6, 6)\n",
    "res.print_next_list()"
   ]
  },
  {
   "cell_type": "code",
   "execution_count": 112,
   "metadata": {
    "ExecuteTime": {
     "end_time": "2019-04-09T10:26:54.634039Z",
     "start_time": "2019-04-09T10:26:54.629171Z"
    }
   },
   "outputs": [],
   "source": [
    "class Solution(object):\n",
    "    def reverseBetween(self, head, m, n):\n",
    "        \"\"\"\n",
    "        :type head: ListNode\n",
    "        :type m: int\n",
    "        :type n: int\n",
    "        :rtype: ListNode\n",
    "        \"\"\"\n",
    "        \n",
    "        \n",
    "        if not head:\n",
    "            return None\n",
    "        \n",
    "        if m==n:\n",
    "            return head\n",
    "        \n",
    "        dummy = ListNode(0)\n",
    "        dummy.next = head\n",
    "        \n",
    "        cur_node = last_node = head\n",
    "        if m > 1:\n",
    "            prev_node = head\n",
    "        else:\n",
    "            prev_node = dummy\n",
    "            \n",
    "        temp = None\n",
    "        m_node = None\n",
    "        ind = 1\n",
    "        while ind < n + 1:\n",
    "\n",
    "            if ind < m - 1:\n",
    "                last_node = last_node.next\n",
    "                prev_node = prev_node.next\n",
    "                cur_node = cur_node.next\n",
    "\n",
    "            if ind == m - 1:\n",
    "                last_node = last_node.next\n",
    "                cur_node = cur_node.next\n",
    "\n",
    "            if ind == m:\n",
    "                last_node = last_node.next\n",
    "                next_node = cur_node.next\n",
    "                m_node = cur_node\n",
    "                cur_node.next = temp\n",
    "                temp = cur_node\n",
    "\n",
    "                cur_node = next_node             \n",
    "\n",
    "            if ind > m and ind <= n:\n",
    "                last_node = last_node.next\n",
    "\n",
    "                next_node = cur_node.next\n",
    "                cur_node.next = temp\n",
    "                temp = cur_node\n",
    "\n",
    "                cur_node = next_node       \n",
    "\n",
    "            ind += 1\n",
    "  \n",
    "        prev_node.next = temp\n",
    "        m_node.next = last_node\n",
    "\n",
    "        return dummy.next\n",
    "        \"\"\"\n",
    "        if not head or m == n: return head\n",
    "        p = dummy = ListNode(None)\n",
    "        dummy.next = head\n",
    "        for i in range(m-1): p = p.next\n",
    "        tail = p.next\n",
    "\n",
    "        for i in range(n-m):\n",
    "            tmp = p.next                  # a)\n",
    "            p.next = tail.next            # b)\n",
    "            tail.next = tail.next.next    # c)\n",
    "            p.next.next = tmp             # d)\n",
    "        return dummy.next\n",
    "        \"\"\""
   ]
  },
  {
   "cell_type": "code",
   "execution_count": null,
   "metadata": {},
   "outputs": [],
   "source": []
  }
 ],
 "metadata": {
  "kernelspec": {
   "display_name": "Python 3",
   "language": "python",
   "name": "python3"
  },
  "language_info": {
   "codemirror_mode": {
    "name": "ipython",
    "version": 3
   },
   "file_extension": ".py",
   "mimetype": "text/x-python",
   "name": "python",
   "nbconvert_exporter": "python",
   "pygments_lexer": "ipython3",
   "version": "3.6.9"
  },
  "varInspector": {
   "cols": {
    "lenName": 16,
    "lenType": 16,
    "lenVar": 40
   },
   "kernels_config": {
    "python": {
     "delete_cmd_postfix": "",
     "delete_cmd_prefix": "del ",
     "library": "var_list.py",
     "varRefreshCmd": "print(var_dic_list())"
    },
    "r": {
     "delete_cmd_postfix": ") ",
     "delete_cmd_prefix": "rm(",
     "library": "var_list.r",
     "varRefreshCmd": "cat(var_dic_list()) "
    }
   },
   "types_to_exclude": [
    "module",
    "function",
    "builtin_function_or_method",
    "instance",
    "_Feature"
   ],
   "window_display": false
  }
 },
 "nbformat": 4,
 "nbformat_minor": 2
}
