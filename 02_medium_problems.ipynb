{
 "cells": [
  {
   "cell_type": "markdown",
   "metadata": {},
   "source": [
    "# Medium Problems\n",
    "\n",
    "## 2. Add Two Numbers\n",
    "\n",
    "You are given two non-empty linked lists representing two non-negative integers. The digits are stored in reverse order and each of their nodes contain a single digit. Add the two numbers and return it as a linked list.\n",
    "\n",
    "You may assume the two numbers do not contain any leading zero, except the number 0 itself.\n",
    "\n",
    "Example:\n",
    "\n",
    "Input: (2 -> 4 -> 3) + (5 -> 6 -> 4)\n",
    "Output: 7 -> 0 -> 8\n",
    "Explanation: 342 + 465 = 807."
   ]
  },
  {
   "cell_type": "code",
   "execution_count": 1,
   "metadata": {
    "ExecuteTime": {
     "end_time": "2019-03-25T19:27:13.695628Z",
     "start_time": "2019-03-25T19:27:13.693063Z"
    }
   },
   "outputs": [],
   "source": [
    "class ListNode(object):\n",
    "    def __init__(self, x=None):\n",
    "        self.val = x\n",
    "        self.next = None\n",
    "\n",
    "    def print_next_list(self):\n",
    "        cur_node = self\n",
    "        while cur_node is not None:\n",
    "            print(cur_node.val)\n",
    "            cur_node = cur_node.next"
   ]
  },
  {
   "cell_type": "code",
   "execution_count": 2,
   "metadata": {
    "ExecuteTime": {
     "end_time": "2019-03-25T19:27:43.733309Z",
     "start_time": "2019-03-25T19:27:43.731019Z"
    }
   },
   "outputs": [],
   "source": [
    "n1 = ListNode(x=2)\n",
    "n2 = ListNode(x=4)\n",
    "n3 = ListNode(x=3)\n",
    "n1.next = n2\n",
    "n2.next = n3\n",
    "\n",
    "n4 = ListNode(x=5)\n",
    "n5 = ListNode(x=6)\n",
    "n6 = ListNode(x=4)\n",
    "n4.next = n5\n",
    "n5.next = n6"
   ]
  },
  {
   "cell_type": "code",
   "execution_count": 22,
   "metadata": {
    "ExecuteTime": {
     "end_time": "2019-03-25T20:17:54.874381Z",
     "start_time": "2019-03-25T20:17:54.870144Z"
    }
   },
   "outputs": [],
   "source": [
    "def addTwoNumbers(l1, l2):\n",
    "    new_list = cur_node = ListNode(0)\n",
    "    overflow = 0\n",
    "    \n",
    "    while l1 is not None or l2 is not None:\n",
    "        \n",
    "        if l1 is None:\n",
    "            val1 = 0\n",
    "        else:\n",
    "            val1 = l1.val\n",
    "            \n",
    "        if l2 is None:\n",
    "            val2 = 0\n",
    "        else:\n",
    "            val2 = l2.val\n",
    "            \n",
    "        result = val1 + val2\n",
    "        \n",
    "        if result > 9 and overflow == 0:\n",
    "            cur_node.next = ListNode(result - 10)\n",
    "            overflow = 1\n",
    "            \n",
    "        elif result > 9 and overflow == 1:\n",
    "            cur_node.next = ListNode(result - 10 + 1)\n",
    "            overflow = 1\n",
    "            \n",
    "        elif result == 9 and overflow == 0:\n",
    "            cur_node.next = ListNode(result)\n",
    "            overflow = 0\n",
    "        elif result == 9 and overflow == 1:\n",
    "            cur_node.next = ListNode(0)\n",
    "            overflow = 1\n",
    "            \n",
    "        elif result < 9 and overflow == 1:\n",
    "            cur_node.next = ListNode(result + 1)\n",
    "            overflow = 0\n",
    "        elif result < 9 and overflow == 0:\n",
    "            cur_node.next = ListNode(result)\n",
    "            overflow = 0\n",
    "            \n",
    "        if l1 is not None:\n",
    "            l1 = l1.next\n",
    "        if l2 is not None:\n",
    "            l2 = l2.next\n",
    "        cur_node = cur_node.next  \n",
    "        \n",
    "    if overflow == 1:\n",
    "        cur_node.next = ListNode(1)\n",
    "    return new_list.next"
   ]
  },
  {
   "cell_type": "code",
   "execution_count": 18,
   "metadata": {
    "ExecuteTime": {
     "end_time": "2019-03-25T20:14:59.141901Z",
     "start_time": "2019-03-25T20:14:59.136838Z"
    }
   },
   "outputs": [
    {
     "name": "stdout",
     "output_type": "stream",
     "text": [
      "7\n",
      "0\n",
      "8\n"
     ]
    }
   ],
   "source": [
    "n10 = addTwoNumbers(n1, n4)\n",
    "n10.print_next_list()"
   ]
  },
  {
   "cell_type": "code",
   "execution_count": 23,
   "metadata": {
    "ExecuteTime": {
     "end_time": "2019-03-25T20:17:56.831923Z",
     "start_time": "2019-03-25T20:17:56.826270Z"
    }
   },
   "outputs": [
    {
     "name": "stdout",
     "output_type": "stream",
     "text": [
      "9\n"
     ]
    }
   ],
   "source": [
    "n10 = addTwoNumbers(ListNode(4), ListNode(5))\n",
    "n10.print_next_list()"
   ]
  },
  {
   "cell_type": "code",
   "execution_count": 24,
   "metadata": {
    "ExecuteTime": {
     "end_time": "2019-03-25T20:30:14.721310Z",
     "start_time": "2019-03-25T20:30:14.717976Z"
    }
   },
   "outputs": [],
   "source": [
    "def addTwoNumbers2(l1, l2):\n",
    "    new_list = cur_node = ListNode(0)\n",
    "    overflow = 0\n",
    "    \n",
    "    while l1 is not None or l2 is not None:\n",
    "        \n",
    "        if l1 is None:\n",
    "            val1 = 0\n",
    "        else:\n",
    "            val1 = l1.val\n",
    "            \n",
    "        if l2 is None:\n",
    "            val2 = 0\n",
    "        else:\n",
    "            val2 = l2.val\n",
    "            \n",
    "        result = val1 + val2 + overflow\n",
    "        \n",
    "        if result > 9:\n",
    "            cur_node.next = ListNode(result - 10)\n",
    "            overflow = 1\n",
    "            \n",
    "        elif result <= 9:\n",
    "            cur_node.next = ListNode(result)\n",
    "            overflow = 0\n",
    "            \n",
    "        if l1 is not None:\n",
    "            l1 = l1.next\n",
    "        if l2 is not None:\n",
    "            l2 = l2.next\n",
    "        cur_node = cur_node.next  \n",
    "        \n",
    "    if overflow == 1:\n",
    "        cur_node.next = ListNode(1)\n",
    "    return new_list.next"
   ]
  },
  {
   "cell_type": "code",
   "execution_count": 28,
   "metadata": {
    "ExecuteTime": {
     "end_time": "2019-03-25T20:30:33.997005Z",
     "start_time": "2019-03-25T20:30:33.993095Z"
    }
   },
   "outputs": [
    {
     "name": "stdout",
     "output_type": "stream",
     "text": [
      "9\n"
     ]
    }
   ],
   "source": [
    "n10 = addTwoNumbers2(ListNode(4), ListNode(5))\n",
    "n10.print_next_list()"
   ]
  },
  {
   "cell_type": "code",
   "execution_count": 29,
   "metadata": {
    "ExecuteTime": {
     "end_time": "2019-03-25T20:30:39.713407Z",
     "start_time": "2019-03-25T20:30:39.710576Z"
    }
   },
   "outputs": [
    {
     "name": "stdout",
     "output_type": "stream",
     "text": [
      "7\n",
      "0\n",
      "8\n"
     ]
    }
   ],
   "source": [
    "n10 = addTwoNumbers2(n1, n4)\n",
    "n10.print_next_list()"
   ]
  },
  {
   "cell_type": "code",
   "execution_count": 30,
   "metadata": {
    "ExecuteTime": {
     "end_time": "2019-03-25T20:43:00.323298Z",
     "start_time": "2019-03-25T20:43:00.319633Z"
    }
   },
   "outputs": [],
   "source": [
    "class Solution(object):\n",
    "    \n",
    "    def addTwoNumbers(self, l1, l2):\n",
    "        \"\"\"\n",
    "        :type l1: ListNode\n",
    "        :type l2: ListNode\n",
    "        :rtype: ListNode\n",
    "        \"\"\"\n",
    "        \n",
    "        new_list = cur_node = ListNode(0)\n",
    "        overflow = 0\n",
    "\n",
    "        while l1 is not None or l2 is not None:\n",
    "            val1, val2 = 0, 0\n",
    "            \n",
    "            if l1:\n",
    "                val1 = l1.val\n",
    "                l1 = l1.next\n",
    "            if l2:\n",
    "                val2 = l2.val\n",
    "                l2 = l2.next\n",
    "\n",
    "            result = val1 + val2 + overflow\n",
    "\n",
    "            if result > 9:\n",
    "                cur_node.next = ListNode(result - 10)\n",
    "                overflow = 1\n",
    "\n",
    "            elif result <= 9:\n",
    "                cur_node.next = ListNode(result)\n",
    "                overflow = 0\n",
    "\n",
    "            cur_node = cur_node.next  \n",
    "\n",
    "        if overflow == 1:\n",
    "            cur_node.next = ListNode(1)\n",
    "        return new_list.next   \n",
    "        \n",
    "        \"\"\"\n",
    "        carry = 0\n",
    "        root = n = ListNode(0)\n",
    "        while l1 or l2 or carry:\n",
    "            v1 = v2 = 0\n",
    "            if l1:\n",
    "                v1 = l1.val\n",
    "                l1 = l1.next\n",
    "            if l2:\n",
    "                v2 = l2.val\n",
    "                l2 = l2.next\n",
    "            carry, val = divmod(v1+v2+carry, 10)\n",
    "            n.next = ListNode(val)\n",
    "            n = n.next\n",
    "        return root.next\n",
    "        \"\"\""
   ]
  },
  {
   "cell_type": "code",
   "execution_count": null,
   "metadata": {},
   "outputs": [],
   "source": []
  }
 ],
 "metadata": {
  "kernelspec": {
   "display_name": "Python 3",
   "language": "python",
   "name": "python3"
  },
  "language_info": {
   "codemirror_mode": {
    "name": "ipython",
    "version": 3
   },
   "file_extension": ".py",
   "mimetype": "text/x-python",
   "name": "python",
   "nbconvert_exporter": "python",
   "pygments_lexer": "ipython3",
   "version": "3.5.2"
  },
  "varInspector": {
   "cols": {
    "lenName": 16,
    "lenType": 16,
    "lenVar": 40
   },
   "kernels_config": {
    "python": {
     "delete_cmd_postfix": "",
     "delete_cmd_prefix": "del ",
     "library": "var_list.py",
     "varRefreshCmd": "print(var_dic_list())"
    },
    "r": {
     "delete_cmd_postfix": ") ",
     "delete_cmd_prefix": "rm(",
     "library": "var_list.r",
     "varRefreshCmd": "cat(var_dic_list()) "
    }
   },
   "types_to_exclude": [
    "module",
    "function",
    "builtin_function_or_method",
    "instance",
    "_Feature"
   ],
   "window_display": false
  }
 },
 "nbformat": 4,
 "nbformat_minor": 2
}
