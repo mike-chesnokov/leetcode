{
 "cells": [
  {
   "cell_type": "markdown",
   "metadata": {},
   "source": [
    "# Medium Problems\n",
    "\n",
    "## 2. Add Two Numbers\n",
    "\n",
    "You are given two non-empty linked lists representing two non-negative integers. The digits are stored in reverse order and each of their nodes contain a single digit. Add the two numbers and return it as a linked list.\n",
    "\n",
    "You may assume the two numbers do not contain any leading zero, except the number 0 itself.\n",
    "\n",
    "Example:\n",
    "\n",
    "Input: (2 -> 4 -> 3) + (5 -> 6 -> 4)\n",
    "Output: 7 -> 0 -> 8\n",
    "Explanation: 342 + 465 = 807."
   ]
  },
  {
   "cell_type": "code",
   "execution_count": 1,
   "metadata": {
    "ExecuteTime": {
     "end_time": "2019-03-25T19:27:13.695628Z",
     "start_time": "2019-03-25T19:27:13.693063Z"
    }
   },
   "outputs": [],
   "source": [
    "class ListNode(object):\n",
    "    def __init__(self, x=None):\n",
    "        self.val = x\n",
    "        self.next = None\n",
    "\n",
    "    def print_next_list(self):\n",
    "        cur_node = self\n",
    "        while cur_node is not None:\n",
    "            print(cur_node.val)\n",
    "            cur_node = cur_node.next"
   ]
  },
  {
   "cell_type": "code",
   "execution_count": 2,
   "metadata": {
    "ExecuteTime": {
     "end_time": "2019-03-25T19:27:43.733309Z",
     "start_time": "2019-03-25T19:27:43.731019Z"
    }
   },
   "outputs": [],
   "source": [
    "n1 = ListNode(x=2)\n",
    "n2 = ListNode(x=4)\n",
    "n3 = ListNode(x=3)\n",
    "n1.next = n2\n",
    "n2.next = n3\n",
    "\n",
    "n4 = ListNode(x=5)\n",
    "n5 = ListNode(x=6)\n",
    "n6 = ListNode(x=4)\n",
    "n4.next = n5\n",
    "n5.next = n6"
   ]
  },
  {
   "cell_type": "code",
   "execution_count": 22,
   "metadata": {
    "ExecuteTime": {
     "end_time": "2019-03-25T20:17:54.874381Z",
     "start_time": "2019-03-25T20:17:54.870144Z"
    }
   },
   "outputs": [],
   "source": [
    "def addTwoNumbers(l1, l2):\n",
    "    new_list = cur_node = ListNode(0)\n",
    "    overflow = 0\n",
    "    \n",
    "    while l1 is not None or l2 is not None:\n",
    "        \n",
    "        if l1 is None:\n",
    "            val1 = 0\n",
    "        else:\n",
    "            val1 = l1.val\n",
    "            \n",
    "        if l2 is None:\n",
    "            val2 = 0\n",
    "        else:\n",
    "            val2 = l2.val\n",
    "            \n",
    "        result = val1 + val2\n",
    "        \n",
    "        if result > 9 and overflow == 0:\n",
    "            cur_node.next = ListNode(result - 10)\n",
    "            overflow = 1\n",
    "            \n",
    "        elif result > 9 and overflow == 1:\n",
    "            cur_node.next = ListNode(result - 10 + 1)\n",
    "            overflow = 1\n",
    "            \n",
    "        elif result == 9 and overflow == 0:\n",
    "            cur_node.next = ListNode(result)\n",
    "            overflow = 0\n",
    "        elif result == 9 and overflow == 1:\n",
    "            cur_node.next = ListNode(0)\n",
    "            overflow = 1\n",
    "            \n",
    "        elif result < 9 and overflow == 1:\n",
    "            cur_node.next = ListNode(result + 1)\n",
    "            overflow = 0\n",
    "        elif result < 9 and overflow == 0:\n",
    "            cur_node.next = ListNode(result)\n",
    "            overflow = 0\n",
    "            \n",
    "        if l1 is not None:\n",
    "            l1 = l1.next\n",
    "        if l2 is not None:\n",
    "            l2 = l2.next\n",
    "        cur_node = cur_node.next  \n",
    "        \n",
    "    if overflow == 1:\n",
    "        cur_node.next = ListNode(1)\n",
    "    return new_list.next"
   ]
  },
  {
   "cell_type": "code",
   "execution_count": 18,
   "metadata": {
    "ExecuteTime": {
     "end_time": "2019-03-25T20:14:59.141901Z",
     "start_time": "2019-03-25T20:14:59.136838Z"
    }
   },
   "outputs": [
    {
     "name": "stdout",
     "output_type": "stream",
     "text": [
      "7\n",
      "0\n",
      "8\n"
     ]
    }
   ],
   "source": [
    "n10 = addTwoNumbers(n1, n4)\n",
    "n10.print_next_list()"
   ]
  },
  {
   "cell_type": "code",
   "execution_count": 23,
   "metadata": {
    "ExecuteTime": {
     "end_time": "2019-03-25T20:17:56.831923Z",
     "start_time": "2019-03-25T20:17:56.826270Z"
    }
   },
   "outputs": [
    {
     "name": "stdout",
     "output_type": "stream",
     "text": [
      "9\n"
     ]
    }
   ],
   "source": [
    "n10 = addTwoNumbers(ListNode(4), ListNode(5))\n",
    "n10.print_next_list()"
   ]
  },
  {
   "cell_type": "code",
   "execution_count": 24,
   "metadata": {
    "ExecuteTime": {
     "end_time": "2019-03-25T20:30:14.721310Z",
     "start_time": "2019-03-25T20:30:14.717976Z"
    }
   },
   "outputs": [],
   "source": [
    "def addTwoNumbers2(l1, l2):\n",
    "    new_list = cur_node = ListNode(0)\n",
    "    overflow = 0\n",
    "    \n",
    "    while l1 is not None or l2 is not None:\n",
    "        \n",
    "        if l1 is None:\n",
    "            val1 = 0\n",
    "        else:\n",
    "            val1 = l1.val\n",
    "            \n",
    "        if l2 is None:\n",
    "            val2 = 0\n",
    "        else:\n",
    "            val2 = l2.val\n",
    "            \n",
    "        result = val1 + val2 + overflow\n",
    "        \n",
    "        if result > 9:\n",
    "            cur_node.next = ListNode(result - 10)\n",
    "            overflow = 1\n",
    "            \n",
    "        elif result <= 9:\n",
    "            cur_node.next = ListNode(result)\n",
    "            overflow = 0\n",
    "            \n",
    "        if l1 is not None:\n",
    "            l1 = l1.next\n",
    "        if l2 is not None:\n",
    "            l2 = l2.next\n",
    "        cur_node = cur_node.next  \n",
    "        \n",
    "    if overflow == 1:\n",
    "        cur_node.next = ListNode(1)\n",
    "    return new_list.next"
   ]
  },
  {
   "cell_type": "code",
   "execution_count": 28,
   "metadata": {
    "ExecuteTime": {
     "end_time": "2019-03-25T20:30:33.997005Z",
     "start_time": "2019-03-25T20:30:33.993095Z"
    }
   },
   "outputs": [
    {
     "name": "stdout",
     "output_type": "stream",
     "text": [
      "9\n"
     ]
    }
   ],
   "source": [
    "n10 = addTwoNumbers2(ListNode(4), ListNode(5))\n",
    "n10.print_next_list()"
   ]
  },
  {
   "cell_type": "code",
   "execution_count": 29,
   "metadata": {
    "ExecuteTime": {
     "end_time": "2019-03-25T20:30:39.713407Z",
     "start_time": "2019-03-25T20:30:39.710576Z"
    }
   },
   "outputs": [
    {
     "name": "stdout",
     "output_type": "stream",
     "text": [
      "7\n",
      "0\n",
      "8\n"
     ]
    }
   ],
   "source": [
    "n10 = addTwoNumbers2(n1, n4)\n",
    "n10.print_next_list()"
   ]
  },
  {
   "cell_type": "code",
   "execution_count": 30,
   "metadata": {
    "ExecuteTime": {
     "end_time": "2019-03-25T20:43:00.323298Z",
     "start_time": "2019-03-25T20:43:00.319633Z"
    }
   },
   "outputs": [],
   "source": [
    "class Solution(object):\n",
    "    \n",
    "    def addTwoNumbers(self, l1, l2):\n",
    "        \"\"\"\n",
    "        :type l1: ListNode\n",
    "        :type l2: ListNode\n",
    "        :rtype: ListNode\n",
    "        \"\"\"\n",
    "        \n",
    "        new_list = cur_node = ListNode(0)\n",
    "        overflow = 0\n",
    "\n",
    "        while l1 is not None or l2 is not None:\n",
    "            val1, val2 = 0, 0\n",
    "            \n",
    "            if l1:\n",
    "                val1 = l1.val\n",
    "                l1 = l1.next\n",
    "            if l2:\n",
    "                val2 = l2.val\n",
    "                l2 = l2.next\n",
    "\n",
    "            result = val1 + val2 + overflow\n",
    "\n",
    "            if result > 9:\n",
    "                cur_node.next = ListNode(result - 10)\n",
    "                overflow = 1\n",
    "\n",
    "            elif result <= 9:\n",
    "                cur_node.next = ListNode(result)\n",
    "                overflow = 0\n",
    "\n",
    "            cur_node = cur_node.next  \n",
    "\n",
    "        if overflow == 1:\n",
    "            cur_node.next = ListNode(1)\n",
    "        return new_list.next   \n",
    "        \n",
    "        \"\"\"\n",
    "        carry = 0\n",
    "        root = n = ListNode(0)\n",
    "        while l1 or l2 or carry:\n",
    "            v1 = v2 = 0\n",
    "            if l1:\n",
    "                v1 = l1.val\n",
    "                l1 = l1.next\n",
    "            if l2:\n",
    "                v2 = l2.val\n",
    "                l2 = l2.next\n",
    "            carry, val = divmod(v1+v2+carry, 10)\n",
    "            n.next = ListNode(val)\n",
    "            n = n.next\n",
    "        return root.next\n",
    "        \"\"\""
   ]
  },
  {
   "cell_type": "markdown",
   "metadata": {},
   "source": [
    "## 3. Longest Substring Without Repeating Characters\n",
    "\n",
    "Given a string, find the length of the longest substring without repeating characters.\n",
    "\n",
    "Example 1:\n",
    "\n",
    "Input: \"abcabcbb\"\n",
    "Output: 3 \n",
    "Explanation: The answer is \"abc\", with the length of 3. \n",
    "\n",
    "Example 2:\n",
    "\n",
    "Input: \"bbbbb\"\n",
    "Output: 1\n",
    "Explanation: The answer is \"b\", with the length of 1.\n",
    "\n",
    "Example 3:\n",
    "\n",
    "Input: \"pwwkew\"\n",
    "Output: 3\n",
    "Explanation: The answer is \"wke\", with the length of 3. \n",
    "             Note that the answer must be a substring, \"pwke\" is a subsequence and not a substring."
   ]
  },
  {
   "cell_type": "code",
   "execution_count": 85,
   "metadata": {
    "ExecuteTime": {
     "end_time": "2019-03-26T18:27:01.148755Z",
     "start_time": "2019-03-26T18:27:01.144584Z"
    }
   },
   "outputs": [],
   "source": [
    "def lengthOfLongestSubstring(s):\n",
    "    substr = \"\"\n",
    "    candidate = \"\"\n",
    "    \n",
    "    for sym in s:\n",
    "        print('suymbol', sym)\n",
    "        print('substr', substr)\n",
    "        \n",
    "        if sym in substr:\n",
    "            if len(substr) > len(candidate):\n",
    "                candidate = substr\n",
    "            ind = substr.find(sym)\n",
    "            substr = substr[ind+1:]\n",
    "            print('substr2', substr)\n",
    "            \n",
    "        else:\n",
    "            substr += sym\n",
    "            print('substr2', substr)\n",
    "\n",
    "    if len(substr) > len(candidate):\n",
    "        candidate = substr\n",
    "        \n",
    "    return candidate, len(candidate)\n",
    "\n",
    "def try2(s):\n",
    "    solution1 = lengthOfLongestSubstring(s)\n",
    "    solution2 = lengthOfLongestSubstring(s[::-1])\n",
    "    if solution1[1] > solution2[1]:\n",
    "        return solution1[1]\n",
    "    else:\n",
    "        return solution2[1]"
   ]
  },
  {
   "cell_type": "code",
   "execution_count": 79,
   "metadata": {
    "ExecuteTime": {
     "end_time": "2019-03-26T18:26:38.995212Z",
     "start_time": "2019-03-26T18:26:38.989691Z"
    }
   },
   "outputs": [
    {
     "data": {
      "text/plain": [
       "('abc', 3)"
      ]
     },
     "execution_count": 79,
     "metadata": {},
     "output_type": "execute_result"
    }
   ],
   "source": [
    "lengthOfLongestSubstring('abcabcbb')"
   ]
  },
  {
   "cell_type": "code",
   "execution_count": 80,
   "metadata": {
    "ExecuteTime": {
     "end_time": "2019-03-26T18:26:39.667756Z",
     "start_time": "2019-03-26T18:26:39.665055Z"
    }
   },
   "outputs": [
    {
     "data": {
      "text/plain": [
       "('b', 1)"
      ]
     },
     "execution_count": 80,
     "metadata": {},
     "output_type": "execute_result"
    }
   ],
   "source": [
    "lengthOfLongestSubstring('bbbbb')"
   ]
  },
  {
   "cell_type": "code",
   "execution_count": 81,
   "metadata": {
    "ExecuteTime": {
     "end_time": "2019-03-26T18:26:40.185868Z",
     "start_time": "2019-03-26T18:26:40.181105Z"
    }
   },
   "outputs": [
    {
     "data": {
      "text/plain": [
       "('kew', 3)"
      ]
     },
     "execution_count": 81,
     "metadata": {},
     "output_type": "execute_result"
    }
   ],
   "source": [
    "lengthOfLongestSubstring('pwwkew')"
   ]
  },
  {
   "cell_type": "code",
   "execution_count": 82,
   "metadata": {
    "ExecuteTime": {
     "end_time": "2019-03-26T18:26:41.019868Z",
     "start_time": "2019-03-26T18:26:41.017399Z"
    }
   },
   "outputs": [
    {
     "data": {
      "text/plain": [
       "(' ', 1)"
      ]
     },
     "execution_count": 82,
     "metadata": {},
     "output_type": "execute_result"
    }
   ],
   "source": [
    "lengthOfLongestSubstring(' ')"
   ]
  },
  {
   "cell_type": "code",
   "execution_count": 86,
   "metadata": {
    "ExecuteTime": {
     "end_time": "2019-03-26T18:27:04.217008Z",
     "start_time": "2019-03-26T18:27:04.213798Z"
    }
   },
   "outputs": [
    {
     "name": "stdout",
     "output_type": "stream",
     "text": [
      "suymbol a\n",
      "substr \n",
      "substr2 a\n",
      "suymbol a\n",
      "substr a\n",
      "substr2 \n",
      "suymbol b\n",
      "substr \n",
      "substr2 b\n"
     ]
    },
    {
     "data": {
      "text/plain": [
       "('a', 1)"
      ]
     },
     "execution_count": 86,
     "metadata": {},
     "output_type": "execute_result"
    }
   ],
   "source": [
    "lengthOfLongestSubstring('aab')"
   ]
  },
  {
   "cell_type": "code",
   "execution_count": 84,
   "metadata": {
    "ExecuteTime": {
     "end_time": "2019-03-26T18:26:46.977594Z",
     "start_time": "2019-03-26T18:26:46.970871Z"
    }
   },
   "outputs": [
    {
     "data": {
      "text/plain": [
       "('dv', 2)"
      ]
     },
     "execution_count": 84,
     "metadata": {},
     "output_type": "execute_result"
    }
   ],
   "source": [
    "lengthOfLongestSubstring(\"dvdf\")"
   ]
  },
  {
   "cell_type": "code",
   "execution_count": 77,
   "metadata": {
    "ExecuteTime": {
     "end_time": "2019-03-26T18:05:20.609869Z",
     "start_time": "2019-03-26T18:05:20.605058Z"
    }
   },
   "outputs": [
    {
     "data": {
      "text/plain": [
       "3"
      ]
     },
     "execution_count": 77,
     "metadata": {},
     "output_type": "execute_result"
    }
   ],
   "source": [
    "try2(\"pwwkew\")"
   ]
  },
  {
   "cell_type": "code",
   "execution_count": 117,
   "metadata": {
    "ExecuteTime": {
     "end_time": "2019-03-26T18:52:04.006032Z",
     "start_time": "2019-03-26T18:52:03.999867Z"
    }
   },
   "outputs": [],
   "source": [
    "def lengthOfLongestSubstring2(s):\n",
    "    substr = \"\"\n",
    "    max_len = 0\n",
    "    #ind = 0\n",
    "    \n",
    "    #while ind < len(s):\n",
    "    for sym in s:\n",
    "        #sym = s[ind]\n",
    "        print('suymbol', sym)\n",
    "        print('substr', substr)\n",
    "        \n",
    "        if sym in substr:\n",
    "            substr_len = len(substr)\n",
    "            if substr_len > max_len:\n",
    "                max_len = substr_len\n",
    "            sym_ind = substr.find(sym)\n",
    "            substr = substr[sym_ind+1:]\n",
    "            substr += sym\n",
    "            print('substr2', substr)\n",
    "            \n",
    "        else:\n",
    "            substr += sym\n",
    "            print('substr2', substr)    \n",
    "        #ind += 1    \n",
    "        \n",
    "    substr_len = len(substr)\n",
    "    if substr_len > max_len:\n",
    "        max_len = substr_len\n",
    "        \n",
    "    return max_len"
   ]
  },
  {
   "cell_type": "code",
   "execution_count": 118,
   "metadata": {
    "ExecuteTime": {
     "end_time": "2019-03-26T18:52:04.612671Z",
     "start_time": "2019-03-26T18:52:04.600169Z"
    },
    "collapsed": true
   },
   "outputs": [
    {
     "name": "stdout",
     "output_type": "stream",
     "text": [
      "suymbol d\n",
      "substr \n",
      "substr2 d\n",
      "suymbol v\n",
      "substr d\n",
      "substr2 dv\n",
      "suymbol d\n",
      "substr dv\n",
      "substr2 vd\n",
      "suymbol f\n",
      "substr vd\n",
      "substr2 vdf\n"
     ]
    },
    {
     "data": {
      "text/plain": [
       "3"
      ]
     },
     "execution_count": 118,
     "metadata": {},
     "output_type": "execute_result"
    }
   ],
   "source": [
    "lengthOfLongestSubstring2(\"dvdf\")"
   ]
  },
  {
   "cell_type": "code",
   "execution_count": 119,
   "metadata": {
    "ExecuteTime": {
     "end_time": "2019-03-26T18:52:06.356548Z",
     "start_time": "2019-03-26T18:52:06.351695Z"
    },
    "collapsed": true
   },
   "outputs": [
    {
     "name": "stdout",
     "output_type": "stream",
     "text": [
      "suymbol a\n",
      "substr \n",
      "substr2 a\n",
      "suymbol b\n",
      "substr a\n",
      "substr2 ab\n",
      "suymbol c\n",
      "substr ab\n",
      "substr2 abc\n",
      "suymbol a\n",
      "substr abc\n",
      "substr2 bca\n",
      "suymbol b\n",
      "substr bca\n",
      "substr2 cab\n",
      "suymbol c\n",
      "substr cab\n",
      "substr2 abc\n",
      "suymbol b\n",
      "substr abc\n",
      "substr2 cb\n",
      "suymbol b\n",
      "substr cb\n",
      "substr2 b\n"
     ]
    },
    {
     "data": {
      "text/plain": [
       "3"
      ]
     },
     "execution_count": 119,
     "metadata": {},
     "output_type": "execute_result"
    }
   ],
   "source": [
    "lengthOfLongestSubstring2('abcabcbb')"
   ]
  },
  {
   "cell_type": "code",
   "execution_count": 120,
   "metadata": {
    "ExecuteTime": {
     "end_time": "2019-03-26T18:57:40.165757Z",
     "start_time": "2019-03-26T18:57:40.159622Z"
    }
   },
   "outputs": [],
   "source": [
    "class Solution(object):\n",
    "    \n",
    "    def util(self, s):\n",
    "        substr = \"\"\n",
    "        max_len = 0\n",
    "\n",
    "        for sym in s:\n",
    "\n",
    "            if sym in substr:\n",
    "                substr_len = len(substr)\n",
    "                if substr_len > max_len:\n",
    "                    max_len = substr_len\n",
    "                sym_ind = substr.find(sym)\n",
    "                substr = substr[sym_ind+1:]\n",
    "                substr += sym\n",
    "            else:\n",
    "                substr += sym\n",
    "\n",
    "        substr_len = len(substr)\n",
    "        if substr_len > max_len:\n",
    "            max_len = substr_len\n",
    "\n",
    "        return max_len\n",
    "    \n",
    "    def lengthOfLongestSubstring(self, s):\n",
    "        \"\"\"\n",
    "        :type s: str\n",
    "        :rtype: int\n",
    "        \"\"\"\n",
    "        return self.util(s)"
   ]
  },
  {
   "cell_type": "markdown",
   "metadata": {},
   "source": [
    "## 33. Search in Rotated Sorted Array\n",
    "\n",
    "Suppose an array sorted in ascending order is rotated at some pivot unknown to you beforehand.\n",
    "\n",
    "(i.e., [0,1,2,4,5,6,7] might become [4,5,6,7,0,1,2]).\n",
    "\n",
    "You are given a target value to search. If found in the array return its index, otherwise return -1.\n",
    "\n",
    "You may assume no duplicate exists in the array.\n",
    "\n",
    "Your algorithm's runtime complexity must be in the order of O(log n).\n",
    "\n",
    "Example 1:\n",
    "\n",
    "Input: nums = [4,5,6,7,0,1,2], target = 0\n",
    "Output: 4\n",
    "\n",
    "Example 2:\n",
    "\n",
    "Input: nums = [4,5,6,7,0,1,2], target = 3\n",
    "Output: -1"
   ]
  },
  {
   "cell_type": "code",
   "execution_count": 179,
   "metadata": {
    "ExecuteTime": {
     "end_time": "2019-03-26T20:43:25.853943Z",
     "start_time": "2019-03-26T20:43:25.846463Z"
    }
   },
   "outputs": [],
   "source": [
    "def binary_search(nums, target):\n",
    "    left, right = 0, len(nums) - 1\n",
    "    \n",
    "    while left < right:\n",
    "        mid = (left + right)//2\n",
    "        mid_el = nums[mid]\n",
    "        print(left, mid, right)\n",
    "        if target < mid_el:\n",
    "            right = mid\n",
    "        if mid_el < target:\n",
    "            left = mid + 1\n",
    "        if target == mid_el:\n",
    "            return mid\n",
    "    return left\n",
    "\n",
    "def search(nums, target):\n",
    "    \"\"\"\n",
    "    :type nums: List[int]\n",
    "    :type target: int\n",
    "    :rtype: int\n",
    "    \"\"\"\n",
    "    if target not in nums:\n",
    "        return -1\n",
    "    \n",
    "    left, right = 0, len(nums)-1\n",
    "    left_el = nums[left]\n",
    "    right_el = nums[right]\n",
    "    break_ind = 0\n",
    "    \n",
    "    while left_el > right_el:\n",
    "        \n",
    "        mid = (left + right)//2\n",
    "        \n",
    "        left_el = nums[left]\n",
    "        right_el = nums[right]        \n",
    "        mid_el = nums[mid]\n",
    "        print(left_el, mid_el, right_el)\n",
    "        \n",
    "        if left_el < mid_el:\n",
    "            left = mid\n",
    "        if left_el > mid_el:\n",
    "            right = mid\n",
    "        if left_el == mid_el:\n",
    "            break_ind = left + 1\n",
    "            break\n",
    "    print('break_ind', break_ind)\n",
    "    if break_ind == 0:\n",
    "        ind = binary_search(nums, target)\n",
    "    else:\n",
    "        if target in nums[:break_ind]:\n",
    "            ind = binary_search(nums[:break_ind], target)\n",
    "        else:\n",
    "            ind = binary_search(nums[break_ind:], target)\n",
    "            ind += break_ind\n",
    "    \n",
    "    return ind"
   ]
  },
  {
   "cell_type": "code",
   "execution_count": 180,
   "metadata": {
    "ExecuteTime": {
     "end_time": "2019-03-26T20:43:26.524734Z",
     "start_time": "2019-03-26T20:43:26.513755Z"
    }
   },
   "outputs": [
    {
     "name": "stdout",
     "output_type": "stream",
     "text": [
      "4 7 2\n",
      "7 0 2\n",
      "7 7 0\n",
      "break_ind 4\n",
      "0 1 2\n",
      "0 0 1\n"
     ]
    },
    {
     "data": {
      "text/plain": [
       "4"
      ]
     },
     "execution_count": 180,
     "metadata": {},
     "output_type": "execute_result"
    }
   ],
   "source": [
    "search([4,5,6,7,0,1,2], 0)"
   ]
  },
  {
   "cell_type": "code",
   "execution_count": 181,
   "metadata": {
    "ExecuteTime": {
     "end_time": "2019-03-26T20:43:27.478076Z",
     "start_time": "2019-03-26T20:43:27.463895Z"
    }
   },
   "outputs": [
    {
     "name": "stdout",
     "output_type": "stream",
     "text": [
      "3 3 1\n",
      "break_ind 1\n"
     ]
    },
    {
     "data": {
      "text/plain": [
       "1"
      ]
     },
     "execution_count": 181,
     "metadata": {},
     "output_type": "execute_result"
    }
   ],
   "source": [
    "search([3,1], 1)"
   ]
  },
  {
   "cell_type": "code",
   "execution_count": 182,
   "metadata": {
    "ExecuteTime": {
     "end_time": "2019-03-26T20:57:27.594520Z",
     "start_time": "2019-03-26T20:57:27.589565Z"
    }
   },
   "outputs": [],
   "source": [
    "class Solution(object):\n",
    "    \n",
    "    def binary_search(self, nums, target):\n",
    "        left, right = 0, len(nums) - 1\n",
    "\n",
    "        while left < right:\n",
    "            mid = (left + right)//2\n",
    "            mid_el = nums[mid]\n",
    "\n",
    "            if target < mid_el:\n",
    "                right = mid\n",
    "            if target > mid_el:\n",
    "                left = mid + 1\n",
    "            if target == mid_el:\n",
    "                return mid\n",
    "        return left\n",
    "\n",
    "    def search(self, nums, target):\n",
    "        \"\"\"\n",
    "        :type nums: List[int]\n",
    "        :type target: int\n",
    "        :rtype: int\n",
    "        \"\"\"\n",
    "\n",
    "        if target not in nums:\n",
    "            return -1\n",
    "\n",
    "        left, right = 0, len(nums)-1\n",
    "        left_el = nums[left]\n",
    "        right_el = nums[right]\n",
    "        break_ind = 0\n",
    "\n",
    "        while left_el > right_el:\n",
    "\n",
    "            mid = (left + right)//2\n",
    "\n",
    "            left_el = nums[left]\n",
    "            right_el = nums[right]        \n",
    "            mid_el = nums[mid]\n",
    "\n",
    "            if left_el < mid_el:\n",
    "                left = mid\n",
    "            if left_el > mid_el:\n",
    "                right = mid\n",
    "            if left_el == mid_el:\n",
    "                break_ind = left + 1\n",
    "                break\n",
    "                \n",
    "        if break_ind == 0:\n",
    "            ind = self.binary_search(nums, target)\n",
    "        else:\n",
    "            if target in nums[:break_ind]:\n",
    "                ind = self.binary_search(nums[:break_ind], target)\n",
    "            else:\n",
    "                ind = self.binary_search(nums[break_ind:], target)\n",
    "                ind += break_ind\n",
    "\n",
    "        return ind"
   ]
  },
  {
   "cell_type": "code",
   "execution_count": null,
   "metadata": {},
   "outputs": [],
   "source": []
  }
 ],
 "metadata": {
  "kernelspec": {
   "display_name": "Python 3",
   "language": "python",
   "name": "python3"
  },
  "language_info": {
   "codemirror_mode": {
    "name": "ipython",
    "version": 3
   },
   "file_extension": ".py",
   "mimetype": "text/x-python",
   "name": "python",
   "nbconvert_exporter": "python",
   "pygments_lexer": "ipython3",
   "version": "3.5.2"
  },
  "varInspector": {
   "cols": {
    "lenName": 16,
    "lenType": 16,
    "lenVar": 40
   },
   "kernels_config": {
    "python": {
     "delete_cmd_postfix": "",
     "delete_cmd_prefix": "del ",
     "library": "var_list.py",
     "varRefreshCmd": "print(var_dic_list())"
    },
    "r": {
     "delete_cmd_postfix": ") ",
     "delete_cmd_prefix": "rm(",
     "library": "var_list.r",
     "varRefreshCmd": "cat(var_dic_list()) "
    }
   },
   "types_to_exclude": [
    "module",
    "function",
    "builtin_function_or_method",
    "instance",
    "_Feature"
   ],
   "window_display": false
  }
 },
 "nbformat": 4,
 "nbformat_minor": 2
}
