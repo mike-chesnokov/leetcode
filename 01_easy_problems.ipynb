{
 "cells": [
  {
   "cell_type": "markdown",
   "metadata": {},
   "source": [
    "# Easy problems from leetcode\n",
    "\n",
    "## 1. Two Sum\n",
    "\n",
    "Given nums = [2, 7, 11, 15], target = 9,\n",
    "\n",
    "Because nums[0] + nums[1] = 2 + 7 = 9,\n",
    "return [0, 1]."
   ]
  },
  {
   "cell_type": "code",
   "execution_count": 1,
   "metadata": {
    "ExecuteTime": {
     "end_time": "2019-03-22T14:36:52.576809Z",
     "start_time": "2019-03-22T14:36:52.574606Z"
    }
   },
   "outputs": [],
   "source": [
    "nums = [2, 7, 11, 15]\n",
    "target = 9"
   ]
  },
  {
   "cell_type": "code",
   "execution_count": 2,
   "metadata": {
    "ExecuteTime": {
     "end_time": "2019-03-22T14:38:05.497101Z",
     "start_time": "2019-03-22T14:38:05.494587Z"
    }
   },
   "outputs": [
    {
     "name": "stdout",
     "output_type": "stream",
     "text": [
      "0 1\n"
     ]
    }
   ],
   "source": [
    "diffs = [target - num for num in nums]\n",
    "for ind1 in range(len(diffs)):\n",
    "    for ind2 in range(ind1+1, len(nums)):\n",
    "        if diffs[ind1] == nums[ind2]:\n",
    "            print(ind1, ind2)"
   ]
  },
  {
   "cell_type": "code",
   "execution_count": 3,
   "metadata": {
    "ExecuteTime": {
     "end_time": "2019-03-22T14:38:06.201371Z",
     "start_time": "2019-03-22T14:38:06.195917Z"
    }
   },
   "outputs": [
    {
     "name": "stdout",
     "output_type": "stream",
     "text": [
      "[0, 1]\n"
     ]
    }
   ],
   "source": [
    "hashmap = dict()\n",
    "\n",
    "for ind, value in enumerate(nums):\n",
    "    if target - value in hashmap:\n",
    "        print([hashmap[target - value], ind])\n",
    "    hashmap[value] = ind"
   ]
  },
  {
   "cell_type": "code",
   "execution_count": 4,
   "metadata": {
    "ExecuteTime": {
     "end_time": "2019-03-22T14:38:06.565831Z",
     "start_time": "2019-03-22T14:38:06.556871Z"
    }
   },
   "outputs": [
    {
     "name": "stdout",
     "output_type": "stream",
     "text": [
      "[0, 1]\n"
     ]
    }
   ],
   "source": [
    "hashmap = dict()\n",
    "\n",
    "for ind in range(0, len(nums)):\n",
    "    value = nums[ind]\n",
    "    if value in hashmap:\n",
    "        print([hashmap[value], ind])\n",
    "    else:\n",
    "        hashmap[target - value] = ind"
   ]
  },
  {
   "cell_type": "code",
   "execution_count": 5,
   "metadata": {
    "ExecuteTime": {
     "end_time": "2019-03-22T14:38:07.661444Z",
     "start_time": "2019-03-22T14:38:07.658164Z"
    }
   },
   "outputs": [],
   "source": [
    "class Solution(object):\n",
    "    def twoSum(self, nums, target):\n",
    "        \"\"\"\n",
    "        :type nums: List[int]\n",
    "        :type target: int\n",
    "        :rtype: List[int]\n",
    "        \"\"\"\n",
    "        \n",
    "        hashmap = dict()\n",
    "\n",
    "        for ind in range(0, len(nums)):\n",
    "            value = nums[ind]\n",
    "            if value in hashmap:\n",
    "                return [hashmap[value], ind]\n",
    "            else:\n",
    "                hashmap[target - value] = ind"
   ]
  },
  {
   "cell_type": "markdown",
   "metadata": {},
   "source": [
    "## 7. Reverse Integer\n",
    "\n",
    "Given a 32-bit signed integer, reverse digits of an integer.\n",
    "\n",
    "Example 1:\n",
    "\n",
    "Input: 123\n",
    "Output: 321\n",
    "\n",
    "Example 2:\n",
    "\n",
    "Input: -123\n",
    "Output: -321\n",
    "\n",
    "Example 3:\n",
    "\n",
    "Input: 120\n",
    "Output: 21\n",
    "\n",
    "Note:\n",
    "Assume we are dealing with an environment which could only store integers within the 32-bit signed integer range: [−231,  231 − 1]. For the purpose of this problem, assume that your function returns 0 when the reversed integer overflows.\n"
   ]
  },
  {
   "cell_type": "code",
   "execution_count": 6,
   "metadata": {
    "ExecuteTime": {
     "end_time": "2019-03-22T14:38:36.534345Z",
     "start_time": "2019-03-22T14:38:36.524615Z"
    }
   },
   "outputs": [
    {
     "name": "stdout",
     "output_type": "stream",
     "text": [
      "0\n",
      "9646324351\n"
     ]
    }
   ],
   "source": [
    "x = 1534236469\n",
    "x_reversed = int(str(abs(x))[::-1])\n",
    "\n",
    "default = 2**31\n",
    "if x_reversed > default - 1 or x_reversed < -default:\n",
    "    print(0)\n",
    "\n",
    "if x > 0:\n",
    "    print(x_reversed)\n",
    "else:\n",
    "    print(-x_reversed)"
   ]
  },
  {
   "cell_type": "code",
   "execution_count": 7,
   "metadata": {
    "ExecuteTime": {
     "end_time": "2019-03-22T14:38:48.650638Z",
     "start_time": "2019-03-22T14:38:48.647040Z"
    }
   },
   "outputs": [],
   "source": [
    "class Solution(object):\n",
    "    def reverse(self, x):\n",
    "        \"\"\"\n",
    "        :type x: int\n",
    "        :rtype: int\n",
    "        \"\"\"\n",
    "        x_reversed = int(str(abs(x))[::-1])\n",
    "        default = 2**31\n",
    "        if x_reversed > default - 1 or x_reversed < -default:\n",
    "            return 0\n",
    "\n",
    "        if x >= 0:\n",
    "            return x_reversed\n",
    "        else:\n",
    "            return -x_reversed\n",
    "        \n",
    "        return 0"
   ]
  },
  {
   "cell_type": "markdown",
   "metadata": {},
   "source": [
    "## 14. Longest Common Prefix\n",
    "Write a function to find the longest common prefix string amongst an array of strings.\n",
    "\n",
    "If there is no common prefix, return an empty string \"\".\n",
    "\n",
    "Example 1:\n",
    "\n",
    "Input: [\"flower\",\"flow\",\"flight\"]\n",
    "Output: \"fl\"\n",
    "\n",
    "Example 2:\n",
    "\n",
    "Input: [\"dog\",\"racecar\",\"car\"]\n",
    "Output: \"\"\n",
    "Explanation: There is no common prefix among the input strings.\n",
    "\n",
    "Note:\n",
    "\n",
    "All given inputs are in lowercase letters a-z.\n"
   ]
  },
  {
   "cell_type": "code",
   "execution_count": 70,
   "metadata": {
    "ExecuteTime": {
     "end_time": "2019-03-22T15:29:57.072308Z",
     "start_time": "2019-03-22T15:29:57.067969Z"
    }
   },
   "outputs": [],
   "source": [
    "words = [\"flower\",\"flow\",\"flight\"]\n",
    "#words = [\"dog\",\"racecar\",\"car\"]\n",
    "#words = ['', 's']\n",
    "words = []"
   ]
  },
  {
   "cell_type": "code",
   "execution_count": 71,
   "metadata": {
    "ExecuteTime": {
     "end_time": "2019-03-22T15:29:57.496899Z",
     "start_time": "2019-03-22T15:29:57.483771Z"
    }
   },
   "outputs": [],
   "source": [
    "class Solution(object):\n",
    "    def longestCommonPrefix(self, strs):\n",
    "        \"\"\"\n",
    "        :type strs: List[str]\n",
    "        :rtype: str\n",
    "        \"\"\"\n",
    "        prefix = ''\n",
    "        if len(strs) == 0 or len(min(strs)) == 0:\n",
    "            return prefix\n",
    "\n",
    "        i=0\n",
    "        min_len = min(map(len, strs))\n",
    "\n",
    "        while i < min_len:\n",
    "            equal = len(set(map(lambda x: x[i], strs)))\n",
    "            if equal == 1:\n",
    "                prefix += strs[0][i]\n",
    "                i += 1\n",
    "            else:\n",
    "                break\n",
    "        \n",
    "        return prefix"
   ]
  },
  {
   "cell_type": "code",
   "execution_count": 72,
   "metadata": {
    "ExecuteTime": {
     "end_time": "2019-03-22T15:29:57.847423Z",
     "start_time": "2019-03-22T15:29:57.840145Z"
    }
   },
   "outputs": [
    {
     "data": {
      "text/plain": [
       "''"
      ]
     },
     "execution_count": 72,
     "metadata": {},
     "output_type": "execute_result"
    }
   ],
   "source": [
    "sol = Solution()\n",
    "sol.longestCommonPrefix(words)"
   ]
  },
  {
   "cell_type": "code",
   "execution_count": 73,
   "metadata": {
    "ExecuteTime": {
     "end_time": "2019-03-22T15:38:32.902152Z",
     "start_time": "2019-03-22T15:38:32.896490Z"
    }
   },
   "outputs": [],
   "source": [
    "class Solution(object):\n",
    "    def longestCommonPrefix(self, strs):\n",
    "        \"\"\"\n",
    "        :type strs: List[str]\n",
    "        :rtype: str\n",
    "        \"\"\"\n",
    "        prefix = ''\n",
    "        \n",
    "        if len(strs) == 0:\n",
    "            return prefix\n",
    "        min_len = len(min(strs))\n",
    "        if min_len == 0:\n",
    "            return prefix\n",
    "        i=0\n",
    "\n",
    "        while i < min_len:\n",
    "            c = strs[0][i]\n",
    "            equal = all(a[i] == c for a in strs)\n",
    "            if equal == True:\n",
    "                prefix += c\n",
    "                i += 1\n",
    "            else:\n",
    "                break\n",
    "        \n",
    "        return prefix"
   ]
  },
  {
   "cell_type": "markdown",
   "metadata": {},
   "source": [
    "## 26. Remove Duplicates from Sorted Array\n",
    "\n",
    "Given a sorted array nums, remove the duplicates in-place such that each element appear only once and return the new length.\n",
    "\n",
    "Do not allocate extra space for another array, you must do this by modifying the input array in-place with O(1) extra memory.\n",
    "\n",
    "Example 1:\n",
    "\n",
    "Given nums = [1,1,2],\n",
    "\n",
    "Your function should return length = 2, with the first two elements of nums being 1 and 2 respectively.\n",
    "\n",
    "It doesn't matter what you leave beyond the returned length.\n",
    "\n",
    "Example 2:\n",
    "\n",
    "Given nums = [0,0,1,1,1,2,2,3,3,4],\n",
    "\n",
    "Your function should return length = 5, with the first five elements of nums being modified to 0, 1, 2, 3, and 4 respectively.\n",
    "\n",
    "It doesn't matter what values are set beyond the returned length.\n",
    "\n",
    "Clarification:\n",
    "\n",
    "Confused why the returned value is an integer but your answer is an array?\n",
    "\n",
    "Note that the input array is passed in by reference, which means modification to the input array will be known to the caller as well.\n",
    "\n",
    "Internally you can think of this:\n",
    "\n",
    "// nums is passed in by reference. (i.e., without making a copy)\n",
    "int len = removeDuplicates(nums);\n",
    "\n",
    "// any modification to nums in your function would be known by the caller.\n",
    "// using the length returned by your function, it prints the first len elements.\n",
    "for (int i = 0; i < len; i++) {\n",
    "    print(nums[i]);\n",
    "}"
   ]
  },
  {
   "cell_type": "code",
   "execution_count": 120,
   "metadata": {
    "ExecuteTime": {
     "end_time": "2019-03-22T17:31:40.714070Z",
     "start_time": "2019-03-22T17:31:40.706412Z"
    }
   },
   "outputs": [],
   "source": [
    "nums = [1,1,2,2, 2, 2, 3, 3]\n",
    "#nums = [1,1,1,2]"
   ]
  },
  {
   "cell_type": "code",
   "execution_count": 121,
   "metadata": {
    "ExecuteTime": {
     "end_time": "2019-03-22T17:31:41.081248Z",
     "start_time": "2019-03-22T17:31:41.071207Z"
    }
   },
   "outputs": [
    {
     "name": "stdout",
     "output_type": "stream",
     "text": [
      "0 1\n",
      "0 1\n",
      "1 2\n",
      "1 2\n",
      "1 2\n",
      "1 2\n",
      "2 3\n",
      "[1, 2, 3]\n"
     ]
    }
   ],
   "source": [
    "i = 0\n",
    "j = 1\n",
    "num_len = len(nums)\n",
    "\n",
    "while j < len(nums):\n",
    "    print(i, j)\n",
    "    if nums[j] == nums[i]:\n",
    "        del nums[i]\n",
    "    else:\n",
    "        i += 1\n",
    "        j += 1\n",
    "    \n",
    "print(nums)"
   ]
  },
  {
   "cell_type": "code",
   "execution_count": 86,
   "metadata": {
    "ExecuteTime": {
     "end_time": "2019-03-22T16:52:25.844509Z",
     "start_time": "2019-03-22T16:52:25.838459Z"
    }
   },
   "outputs": [
    {
     "name": "stdout",
     "output_type": "stream",
     "text": [
      "[1, 2, 3]\n"
     ]
    }
   ],
   "source": [
    "#from collections import defaultdict\n",
    "#elements = defaultdict(int)\n",
    "elements = dict()\n",
    "i=0\n",
    "\n",
    "while i < len(nums):\n",
    "    if nums[i] in elements:\n",
    "        nums.remove(nums[i])\n",
    "        \n",
    "    else:\n",
    "        elements[nums[i]] = 1\n",
    "        i += 1\n",
    "    \n",
    "print(nums)"
   ]
  },
  {
   "cell_type": "code",
   "execution_count": 122,
   "metadata": {
    "ExecuteTime": {
     "end_time": "2019-03-22T17:47:37.814104Z",
     "start_time": "2019-03-22T17:47:37.810879Z"
    }
   },
   "outputs": [],
   "source": [
    "class Solution(object):\n",
    "    def removeDuplicates(self, nums):\n",
    "        \"\"\"\n",
    "        :type nums: List[int]\n",
    "        :rtype: int\n",
    "        \"\"\"\n",
    "        \"\"\"\n",
    "        j = 0\n",
    "\n",
    "        for i in range(1, len(nums)):\n",
    "            if nums[i] != nums[j]:\n",
    "                j += 1\n",
    "                nums[j] = nums[i]\n",
    "\n",
    "        return j + 1\n",
    "        \"\"\"\n",
    "        i = 0\n",
    "        j = 1\n",
    "        \n",
    "        while j < len(nums):\n",
    "            \n",
    "            if nums[j] == nums[i]:\n",
    "                del nums[i]\n",
    "            else:\n",
    "                i += 1\n",
    "                j += 1\n",
    "        \n",
    "        return len(nums)\n",
    "        \n",
    "        \"\"\"\n",
    "        elements = dict()\n",
    "        i=0\n",
    "\n",
    "        while i < len(nums):\n",
    "            if nums[i] in elements:\n",
    "                nums.remove(nums[i])\n",
    "            else:\n",
    "                elements[nums[i]] = 1\n",
    "                i += 1\n",
    "        return len(nums)\n",
    "        \"\"\""
   ]
  },
  {
   "cell_type": "markdown",
   "metadata": {},
   "source": [
    "## 9. Palindrome Number\n",
    "\n",
    "Determine whether an integer is a palindrome. An integer is a palindrome when it reads the same backward as forward.\n",
    "\n",
    "Example 1:\n",
    "\n",
    "Input: 121\n",
    "Output: true\n",
    "\n",
    "Example 2:\n",
    "\n",
    "Input: -121\n",
    "Output: false\n",
    "Explanation: From left to right, it reads -121. From right to left, it becomes 121-. Therefore it is not a palindrome.\n",
    "\n",
    "Example 3:\n",
    "\n",
    "Input: 10\n",
    "Output: false\n",
    "Explanation: Reads 01 from right to left. Therefore it is not a palindrome.\n",
    "\n",
    "Follow up:\n",
    "\n",
    "Coud you solve it without converting the integer to a string?\n"
   ]
  },
  {
   "cell_type": "code",
   "execution_count": 141,
   "metadata": {
    "ExecuteTime": {
     "end_time": "2019-03-22T18:52:57.478590Z",
     "start_time": "2019-03-22T18:52:57.470288Z"
    }
   },
   "outputs": [
    {
     "name": "stdout",
     "output_type": "stream",
     "text": [
      "False\n",
      "[]\n",
      "0\n"
     ]
    }
   ],
   "source": [
    "x = 9\n",
    "numbers = []\n",
    "\n",
    "if x < 10:\n",
    "    print(False)\n",
    "else:\n",
    "    cur_num = x\n",
    "    while cur_num > 9:\n",
    "        print(cur_num)\n",
    "        numbers.append(cur_num%10)\n",
    "        cur_num = cur_num// 10\n",
    "    numbers.append(cur_num)\n",
    "print(numbers)\n",
    "x_reversed = 0\n",
    "for ind in range(0, len(numbers)):\n",
    "    x_reversed += numbers[ind] * 10**(len(numbers) - 1 - ind)\n",
    "print(x_reversed)"
   ]
  },
  {
   "cell_type": "code",
   "execution_count": 142,
   "metadata": {
    "ExecuteTime": {
     "end_time": "2019-03-22T18:57:24.487671Z",
     "start_time": "2019-03-22T18:57:24.484013Z"
    }
   },
   "outputs": [],
   "source": [
    "class Solution(object):\n",
    "    def isPalindrome(self, x):\n",
    "        \"\"\"\n",
    "        :type x: int\n",
    "        :rtype: bool\n",
    "        \"\"\"\n",
    "        numbers = []\n",
    "\n",
    "        if x < 0:\n",
    "            return False\n",
    "        elif x>=0 and x<10:\n",
    "            return True\n",
    "        else:\n",
    "            cur_num = x\n",
    "            while cur_num > 9:\n",
    "                numbers.append(cur_num%10)\n",
    "                cur_num = cur_num// 10\n",
    "            numbers.append(cur_num)\n",
    "        \n",
    "        x_reversed = 0\n",
    "        for ind in range(0, len(numbers)):\n",
    "            x_reversed += numbers[ind] * 10**(len(numbers) - 1 - ind)\n",
    "        print(x_reversed)\n",
    "        if x_reversed == x:\n",
    "            return True\n",
    "        else:\n",
    "            return False"
   ]
  },
  {
   "cell_type": "markdown",
   "metadata": {},
   "source": [
    "## 20. Valid Parentheses\n",
    "\n",
    "Given a string containing just the characters '(', ')', '{', '}', '[' and ']', determine if the input string is valid.\n",
    "\n",
    "An input string is valid if:\n",
    "\n",
    "    Open brackets must be closed by the same type of brackets.\n",
    "    Open brackets must be closed in the correct order.\n",
    "\n",
    "Note that an empty string is also considered valid.\n",
    "\n",
    "Example 1:\n",
    "\n",
    "Input: \"()\"\n",
    "Output: true\n",
    "\n",
    "Example 2:\n",
    "\n",
    "Input: \"()[]{}\"\n",
    "Output: true\n",
    "\n",
    "Example 3:\n",
    "\n",
    "Input: \"(]\"\n",
    "Output: false\n",
    "\n",
    "Example 4:\n",
    "\n",
    "Input: \"([)]\"\n",
    "Output: false\n",
    "\n",
    "Example 5:\n",
    "\n",
    "Input: \"{[]}\"\n",
    "Output: true\n",
    "\n"
   ]
  },
  {
   "cell_type": "code",
   "execution_count": 203,
   "metadata": {
    "ExecuteTime": {
     "end_time": "2019-03-22T21:13:44.647208Z",
     "start_time": "2019-03-22T21:13:44.641201Z"
    },
    "collapsed": true
   },
   "outputs": [
    {
     "name": "stdout",
     "output_type": "stream",
     "text": [
      "0\n",
      "()[)]\n",
      "0\n",
      "[)]\n",
      "1\n",
      "[)]\n",
      "\n",
      "\n",
      "[)]\n"
     ]
    }
   ],
   "source": [
    "#s = \"()[]{}\"\n",
    "#s = \"(()(\"\n",
    "s = '()[)]'\n",
    "sym = {\n",
    "    '(':')',\n",
    "    '[':']',\n",
    "    '{':'}',\n",
    "}\n",
    "i = 0\n",
    "s_len_start = len(s)\n",
    "\n",
    "while len(s) > 0 and i < len(s) - 1:\n",
    "    print(i)\n",
    "    print(s)\n",
    "    if s[i] in sym:\n",
    "        if s[i+1] == sym[s[i]]:\n",
    "            s = s[:i] + s[i+2:]\n",
    "            i = -1\n",
    "    i +=1\n",
    "print('\\n')\n",
    "print(s)"
   ]
  },
  {
   "cell_type": "code",
   "execution_count": 221,
   "metadata": {
    "ExecuteTime": {
     "end_time": "2019-03-22T21:42:19.572802Z",
     "start_time": "2019-03-22T21:42:19.567149Z"
    }
   },
   "outputs": [
    {
     "name": "stdout",
     "output_type": "stream",
     "text": [
      "0\n",
      "['(', ')']\n",
      "0 1\n",
      "True\n"
     ]
    }
   ],
   "source": [
    "        #s = \"()[]{}\"\n",
    "        #s = \"(()(\"\n",
    "        s = '()'\n",
    "        sym = {\n",
    "            '(':')',\n",
    "            '[':']',\n",
    "            '{':'}',\n",
    "        }\n",
    "        s = list(s)\n",
    "        i = 0\n",
    "\n",
    "        while len(s) > 0 and i < len(s) - 1:\n",
    "            print(i)\n",
    "            print(s)\n",
    "            cur_el = s[i]\n",
    "            if cur_el in sym:\n",
    "                if s[i+1] == sym[cur_el]:\n",
    "                    print(i, i+1)\n",
    "                    del s[i]\n",
    "                    del s[i]\n",
    "                    #s = s[:i] + s[i+2:]\n",
    "                    i = -1\n",
    "            i+=1\n",
    "        \n",
    "        print(not s)"
   ]
  },
  {
   "cell_type": "code",
   "execution_count": 222,
   "metadata": {
    "ExecuteTime": {
     "end_time": "2019-03-22T21:47:24.125826Z",
     "start_time": "2019-03-22T21:47:24.106167Z"
    }
   },
   "outputs": [],
   "source": [
    "class Solution(object):\n",
    "    def isValid(self, s):\n",
    "        \"\"\"\n",
    "        :type s: str\n",
    "        :rtype: bool\n",
    "        \"\"\"\n",
    "        \"\"\"\n",
    "        while \"()\" in s or \"{}\" in s or '[]' in s:\n",
    "            s = s.replace(\"()\", \"\").replace('{}', \"\").replace('[]', \"\")\n",
    "        return s == ''\n",
    "        \"\"\"\n",
    "        if len(s) == 0:\n",
    "            return True\n",
    "        if len(s) % 2 == 1:\n",
    "            return False\n",
    "        sym = {\n",
    "            '(':')',\n",
    "            '[':']',\n",
    "            '{':'}',\n",
    "        }\n",
    "        s = list(s)\n",
    "        i = 0\n",
    "\n",
    "        while len(s) > 0 and i < len(s) - 1:\n",
    "            cur_el = s[i]\n",
    "            if cur_el in sym:\n",
    "                if s[i+1] == sym[cur_el]:\n",
    "                    del s[i]\n",
    "                    del s[i]\n",
    "                    #s = s[:i] + s[i+2:]\n",
    "                    i = -1\n",
    "            i+=1\n",
    "        \n",
    "        return not s\n",
    "        \n",
    "        \"\"\"\n",
    "        stack = []\n",
    "        sym = {\n",
    "            ')':'(',\n",
    "            ']':'[',\n",
    "            '}':'{',            \n",
    "        }\n",
    "        for el in s:\n",
    "            if el in sym:\n",
    "                top_el = stack.pop() if stack else '*'\n",
    "                if sym[el] != top_el:\n",
    "                    return False\n",
    "            else:\n",
    "                stack.append(el)\n",
    "                \n",
    "        return not stack\n",
    "        \"\"\""
   ]
  },
  {
   "cell_type": "code",
   "execution_count": null,
   "metadata": {},
   "outputs": [],
   "source": []
  }
 ],
 "metadata": {
  "kernelspec": {
   "display_name": "Python 3",
   "language": "python",
   "name": "python3"
  },
  "language_info": {
   "codemirror_mode": {
    "name": "ipython",
    "version": 3
   },
   "file_extension": ".py",
   "mimetype": "text/x-python",
   "name": "python",
   "nbconvert_exporter": "python",
   "pygments_lexer": "ipython3",
   "version": "3.5.2"
  },
  "varInspector": {
   "cols": {
    "lenName": 16,
    "lenType": 16,
    "lenVar": 40
   },
   "kernels_config": {
    "python": {
     "delete_cmd_postfix": "",
     "delete_cmd_prefix": "del ",
     "library": "var_list.py",
     "varRefreshCmd": "print(var_dic_list())"
    },
    "r": {
     "delete_cmd_postfix": ") ",
     "delete_cmd_prefix": "rm(",
     "library": "var_list.r",
     "varRefreshCmd": "cat(var_dic_list()) "
    }
   },
   "types_to_exclude": [
    "module",
    "function",
    "builtin_function_or_method",
    "instance",
    "_Feature"
   ],
   "window_display": false
  }
 },
 "nbformat": 4,
 "nbformat_minor": 2
}
