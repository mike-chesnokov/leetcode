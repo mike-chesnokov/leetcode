{
 "cells": [
  {
   "cell_type": "markdown",
   "metadata": {},
   "source": [
    "# Easy problems from leetcode"
   ]
  },
  {
   "cell_type": "markdown",
   "metadata": {},
   "source": [
    "## 1. Two Sum\n",
    "\n",
    "Given nums = [2, 7, 11, 15], target = 9,\n",
    "\n",
    "Because nums[0] + nums[1] = 2 + 7 = 9,\n",
    "return [0, 1]."
   ]
  },
  {
   "cell_type": "code",
   "execution_count": 1,
   "metadata": {
    "ExecuteTime": {
     "end_time": "2019-03-22T14:36:52.576809Z",
     "start_time": "2019-03-22T14:36:52.574606Z"
    }
   },
   "outputs": [],
   "source": [
    "nums = [2, 7, 11, 15]\n",
    "target = 9"
   ]
  },
  {
   "cell_type": "code",
   "execution_count": 2,
   "metadata": {
    "ExecuteTime": {
     "end_time": "2019-03-22T14:38:05.497101Z",
     "start_time": "2019-03-22T14:38:05.494587Z"
    }
   },
   "outputs": [
    {
     "name": "stdout",
     "output_type": "stream",
     "text": [
      "0 1\n"
     ]
    }
   ],
   "source": [
    "diffs = [target - num for num in nums]\n",
    "for ind1 in range(len(diffs)):\n",
    "    for ind2 in range(ind1+1, len(nums)):\n",
    "        if diffs[ind1] == nums[ind2]:\n",
    "            print(ind1, ind2)"
   ]
  },
  {
   "cell_type": "code",
   "execution_count": 3,
   "metadata": {
    "ExecuteTime": {
     "end_time": "2019-03-22T14:38:06.201371Z",
     "start_time": "2019-03-22T14:38:06.195917Z"
    }
   },
   "outputs": [
    {
     "name": "stdout",
     "output_type": "stream",
     "text": [
      "[0, 1]\n"
     ]
    }
   ],
   "source": [
    "hashmap = dict()\n",
    "\n",
    "for ind, value in enumerate(nums):\n",
    "    if target - value in hashmap:\n",
    "        print([hashmap[target - value], ind])\n",
    "    hashmap[value] = ind"
   ]
  },
  {
   "cell_type": "code",
   "execution_count": 4,
   "metadata": {
    "ExecuteTime": {
     "end_time": "2019-03-22T14:38:06.565831Z",
     "start_time": "2019-03-22T14:38:06.556871Z"
    }
   },
   "outputs": [
    {
     "name": "stdout",
     "output_type": "stream",
     "text": [
      "[0, 1]\n"
     ]
    }
   ],
   "source": [
    "hashmap = dict()\n",
    "\n",
    "for ind in range(0, len(nums)):\n",
    "    value = nums[ind]\n",
    "    if value in hashmap:\n",
    "        print([hashmap[value], ind])\n",
    "    else:\n",
    "        hashmap[target - value] = ind"
   ]
  },
  {
   "cell_type": "code",
   "execution_count": 5,
   "metadata": {
    "ExecuteTime": {
     "end_time": "2019-03-22T14:38:07.661444Z",
     "start_time": "2019-03-22T14:38:07.658164Z"
    }
   },
   "outputs": [],
   "source": [
    "class Solution(object):\n",
    "    def twoSum(self, nums, target):\n",
    "        \"\"\"\n",
    "        :type nums: List[int]\n",
    "        :type target: int\n",
    "        :rtype: List[int]\n",
    "        \"\"\"\n",
    "        \n",
    "        hashmap = dict()\n",
    "\n",
    "        for ind in range(0, len(nums)):\n",
    "            value = nums[ind]\n",
    "            if value in hashmap:\n",
    "                return [hashmap[value], ind]\n",
    "            else:\n",
    "                hashmap[target - value] = ind"
   ]
  },
  {
   "cell_type": "markdown",
   "metadata": {},
   "source": [
    "## 7. Reverse Integer\n",
    "\n",
    "Given a 32-bit signed integer, reverse digits of an integer.\n",
    "\n",
    "Example 1:\n",
    "\n",
    "Input: 123\n",
    "Output: 321\n",
    "\n",
    "Example 2:\n",
    "\n",
    "Input: -123\n",
    "Output: -321\n",
    "\n",
    "Example 3:\n",
    "\n",
    "Input: 120\n",
    "Output: 21\n",
    "\n",
    "Note:\n",
    "Assume we are dealing with an environment which could only store integers within the 32-bit signed integer range: [−231,  231 − 1]. For the purpose of this problem, assume that your function returns 0 when the reversed integer overflows.\n"
   ]
  },
  {
   "cell_type": "code",
   "execution_count": 6,
   "metadata": {
    "ExecuteTime": {
     "end_time": "2019-03-22T14:38:36.534345Z",
     "start_time": "2019-03-22T14:38:36.524615Z"
    }
   },
   "outputs": [
    {
     "name": "stdout",
     "output_type": "stream",
     "text": [
      "0\n",
      "9646324351\n"
     ]
    }
   ],
   "source": [
    "x = 1534236469\n",
    "x_reversed = int(str(abs(x))[::-1])\n",
    "\n",
    "default = 2**31\n",
    "if x_reversed > default - 1 or x_reversed < -default:\n",
    "    print(0)\n",
    "\n",
    "if x > 0:\n",
    "    print(x_reversed)\n",
    "else:\n",
    "    print(-x_reversed)"
   ]
  },
  {
   "cell_type": "code",
   "execution_count": 7,
   "metadata": {
    "ExecuteTime": {
     "end_time": "2019-03-22T14:38:48.650638Z",
     "start_time": "2019-03-22T14:38:48.647040Z"
    }
   },
   "outputs": [],
   "source": [
    "class Solution(object):\n",
    "    def reverse(self, x):\n",
    "        \"\"\"\n",
    "        :type x: int\n",
    "        :rtype: int\n",
    "        \"\"\"\n",
    "        x_reversed = int(str(abs(x))[::-1])\n",
    "        default = 2**31\n",
    "        if x_reversed > default - 1 or x_reversed < -default:\n",
    "            return 0\n",
    "\n",
    "        if x >= 0:\n",
    "            return x_reversed\n",
    "        else:\n",
    "            return -x_reversed\n",
    "        \n",
    "        return 0"
   ]
  },
  {
   "cell_type": "markdown",
   "metadata": {},
   "source": [
    "## 9. Palindrome Number\n",
    "\n",
    "Determine whether an integer is a palindrome. An integer is a palindrome when it reads the same backward as forward.\n",
    "\n",
    "Example 1:\n",
    "\n",
    "Input: 121\n",
    "Output: true\n",
    "\n",
    "Example 2:\n",
    "\n",
    "Input: -121\n",
    "Output: false\n",
    "Explanation: From left to right, it reads -121. From right to left, it becomes 121-. Therefore it is not a palindrome.\n",
    "\n",
    "Example 3:\n",
    "\n",
    "Input: 10\n",
    "Output: false\n",
    "Explanation: Reads 01 from right to left. Therefore it is not a palindrome.\n",
    "\n",
    "Follow up:\n",
    "\n",
    "Coud you solve it without converting the integer to a string?\n"
   ]
  },
  {
   "cell_type": "code",
   "execution_count": 141,
   "metadata": {
    "ExecuteTime": {
     "end_time": "2019-03-22T18:52:57.478590Z",
     "start_time": "2019-03-22T18:52:57.470288Z"
    }
   },
   "outputs": [
    {
     "name": "stdout",
     "output_type": "stream",
     "text": [
      "False\n",
      "[]\n",
      "0\n"
     ]
    }
   ],
   "source": [
    "x = 9\n",
    "numbers = []\n",
    "\n",
    "if x < 10:\n",
    "    print(False)\n",
    "else:\n",
    "    cur_num = x\n",
    "    while cur_num > 9:\n",
    "        print(cur_num)\n",
    "        numbers.append(cur_num%10)\n",
    "        cur_num = cur_num// 10\n",
    "    numbers.append(cur_num)\n",
    "print(numbers)\n",
    "x_reversed = 0\n",
    "for ind in range(0, len(numbers)):\n",
    "    x_reversed += numbers[ind] * 10**(len(numbers) - 1 - ind)\n",
    "print(x_reversed)"
   ]
  },
  {
   "cell_type": "code",
   "execution_count": 142,
   "metadata": {
    "ExecuteTime": {
     "end_time": "2019-03-22T18:57:24.487671Z",
     "start_time": "2019-03-22T18:57:24.484013Z"
    }
   },
   "outputs": [],
   "source": [
    "class Solution(object):\n",
    "    def isPalindrome(self, x):\n",
    "        \"\"\"\n",
    "        :type x: int\n",
    "        :rtype: bool\n",
    "        \"\"\"\n",
    "        numbers = []\n",
    "\n",
    "        if x < 0:\n",
    "            return False\n",
    "        elif x>=0 and x<10:\n",
    "            return True\n",
    "        else:\n",
    "            cur_num = x\n",
    "            while cur_num > 9:\n",
    "                numbers.append(cur_num%10)\n",
    "                cur_num = cur_num// 10\n",
    "            numbers.append(cur_num)\n",
    "        \n",
    "        x_reversed = 0\n",
    "        for ind in range(0, len(numbers)):\n",
    "            x_reversed += numbers[ind] * 10**(len(numbers) - 1 - ind)\n",
    "        print(x_reversed)\n",
    "        if x_reversed == x:\n",
    "            return True\n",
    "        else:\n",
    "            return False"
   ]
  },
  {
   "cell_type": "markdown",
   "metadata": {},
   "source": [
    "## 14. Longest Common Prefix\n",
    "Write a function to find the longest common prefix string amongst an array of strings.\n",
    "\n",
    "If there is no common prefix, return an empty string \"\".\n",
    "\n",
    "Example 1:\n",
    "\n",
    "Input: [\"flower\",\"flow\",\"flight\"]\n",
    "Output: \"fl\"\n",
    "\n",
    "Example 2:\n",
    "\n",
    "Input: [\"dog\",\"racecar\",\"car\"]\n",
    "Output: \"\"\n",
    "Explanation: There is no common prefix among the input strings.\n",
    "\n",
    "Note:\n",
    "\n",
    "All given inputs are in lowercase letters a-z.\n"
   ]
  },
  {
   "cell_type": "code",
   "execution_count": 70,
   "metadata": {
    "ExecuteTime": {
     "end_time": "2019-03-22T15:29:57.072308Z",
     "start_time": "2019-03-22T15:29:57.067969Z"
    }
   },
   "outputs": [],
   "source": [
    "words = [\"flower\",\"flow\",\"flight\"]\n",
    "#words = [\"dog\",\"racecar\",\"car\"]\n",
    "#words = ['', 's']\n",
    "words = []"
   ]
  },
  {
   "cell_type": "code",
   "execution_count": 71,
   "metadata": {
    "ExecuteTime": {
     "end_time": "2019-03-22T15:29:57.496899Z",
     "start_time": "2019-03-22T15:29:57.483771Z"
    }
   },
   "outputs": [],
   "source": [
    "class Solution(object):\n",
    "    def longestCommonPrefix(self, strs):\n",
    "        \"\"\"\n",
    "        :type strs: List[str]\n",
    "        :rtype: str\n",
    "        \"\"\"\n",
    "        prefix = ''\n",
    "        if len(strs) == 0 or len(min(strs)) == 0:\n",
    "            return prefix\n",
    "\n",
    "        i=0\n",
    "        min_len = min(map(len, strs))\n",
    "\n",
    "        while i < min_len:\n",
    "            equal = len(set(map(lambda x: x[i], strs)))\n",
    "            if equal == 1:\n",
    "                prefix += strs[0][i]\n",
    "                i += 1\n",
    "            else:\n",
    "                break\n",
    "        \n",
    "        return prefix"
   ]
  },
  {
   "cell_type": "code",
   "execution_count": 72,
   "metadata": {
    "ExecuteTime": {
     "end_time": "2019-03-22T15:29:57.847423Z",
     "start_time": "2019-03-22T15:29:57.840145Z"
    }
   },
   "outputs": [
    {
     "data": {
      "text/plain": [
       "''"
      ]
     },
     "execution_count": 72,
     "metadata": {},
     "output_type": "execute_result"
    }
   ],
   "source": [
    "sol = Solution()\n",
    "sol.longestCommonPrefix(words)"
   ]
  },
  {
   "cell_type": "code",
   "execution_count": 73,
   "metadata": {
    "ExecuteTime": {
     "end_time": "2019-03-22T15:38:32.902152Z",
     "start_time": "2019-03-22T15:38:32.896490Z"
    }
   },
   "outputs": [],
   "source": [
    "class Solution(object):\n",
    "    def longestCommonPrefix(self, strs):\n",
    "        \"\"\"\n",
    "        :type strs: List[str]\n",
    "        :rtype: str\n",
    "        \"\"\"\n",
    "        prefix = ''\n",
    "        \n",
    "        if len(strs) == 0:\n",
    "            return prefix\n",
    "        min_len = len(min(strs))\n",
    "        if min_len == 0:\n",
    "            return prefix\n",
    "        i=0\n",
    "\n",
    "        while i < min_len:\n",
    "            c = strs[0][i]\n",
    "            equal = all(a[i] == c for a in strs)\n",
    "            if equal == True:\n",
    "                prefix += c\n",
    "                i += 1\n",
    "            else:\n",
    "                break\n",
    "        \n",
    "        return prefix"
   ]
  },
  {
   "cell_type": "markdown",
   "metadata": {},
   "source": [
    "## 20. Valid Parentheses\n",
    "\n",
    "Given a string containing just the characters '(', ')', '{', '}', '[' and ']', determine if the input string is valid.\n",
    "\n",
    "An input string is valid if:\n",
    "\n",
    "    Open brackets must be closed by the same type of brackets.\n",
    "    Open brackets must be closed in the correct order.\n",
    "\n",
    "Note that an empty string is also considered valid.\n",
    "\n",
    "Example 1:\n",
    "\n",
    "Input: \"()\"\n",
    "Output: true\n",
    "\n",
    "Example 2:\n",
    "\n",
    "Input: \"()[]{}\"\n",
    "Output: true\n",
    "\n",
    "Example 3:\n",
    "\n",
    "Input: \"(]\"\n",
    "Output: false\n",
    "\n",
    "Example 4:\n",
    "\n",
    "Input: \"([)]\"\n",
    "Output: false\n",
    "\n",
    "Example 5:\n",
    "\n",
    "Input: \"{[]}\"\n",
    "Output: true\n",
    "\n"
   ]
  },
  {
   "cell_type": "code",
   "execution_count": 203,
   "metadata": {
    "ExecuteTime": {
     "end_time": "2019-03-22T21:13:44.647208Z",
     "start_time": "2019-03-22T21:13:44.641201Z"
    },
    "collapsed": true
   },
   "outputs": [
    {
     "name": "stdout",
     "output_type": "stream",
     "text": [
      "0\n",
      "()[)]\n",
      "0\n",
      "[)]\n",
      "1\n",
      "[)]\n",
      "\n",
      "\n",
      "[)]\n"
     ]
    }
   ],
   "source": [
    "#s = \"()[]{}\"\n",
    "#s = \"(()(\"\n",
    "s = '()[)]'\n",
    "sym = {\n",
    "    '(':')',\n",
    "    '[':']',\n",
    "    '{':'}',\n",
    "}\n",
    "i = 0\n",
    "s_len_start = len(s)\n",
    "\n",
    "while len(s) > 0 and i < len(s) - 1:\n",
    "    print(i)\n",
    "    print(s)\n",
    "    if s[i] in sym:\n",
    "        if s[i+1] == sym[s[i]]:\n",
    "            s = s[:i] + s[i+2:]\n",
    "            i = -1\n",
    "    i +=1\n",
    "print('\\n')\n",
    "print(s)"
   ]
  },
  {
   "cell_type": "code",
   "execution_count": 221,
   "metadata": {
    "ExecuteTime": {
     "end_time": "2019-03-22T21:42:19.572802Z",
     "start_time": "2019-03-22T21:42:19.567149Z"
    }
   },
   "outputs": [
    {
     "name": "stdout",
     "output_type": "stream",
     "text": [
      "0\n",
      "['(', ')']\n",
      "0 1\n",
      "True\n"
     ]
    }
   ],
   "source": [
    "        #s = \"()[]{}\"\n",
    "        #s = \"(()(\"\n",
    "        s = '()'\n",
    "        sym = {\n",
    "            '(':')',\n",
    "            '[':']',\n",
    "            '{':'}',\n",
    "        }\n",
    "        s = list(s)\n",
    "        i = 0\n",
    "\n",
    "        while len(s) > 0 and i < len(s) - 1:\n",
    "            print(i)\n",
    "            print(s)\n",
    "            cur_el = s[i]\n",
    "            if cur_el in sym:\n",
    "                if s[i+1] == sym[cur_el]:\n",
    "                    print(i, i+1)\n",
    "                    del s[i]\n",
    "                    del s[i]\n",
    "                    #s = s[:i] + s[i+2:]\n",
    "                    i = -1\n",
    "            i+=1\n",
    "        \n",
    "        print(not s)"
   ]
  },
  {
   "cell_type": "code",
   "execution_count": 222,
   "metadata": {
    "ExecuteTime": {
     "end_time": "2019-03-22T21:47:24.125826Z",
     "start_time": "2019-03-22T21:47:24.106167Z"
    }
   },
   "outputs": [],
   "source": [
    "class Solution(object):\n",
    "    def isValid(self, s):\n",
    "        \"\"\"\n",
    "        :type s: str\n",
    "        :rtype: bool\n",
    "        \"\"\"\n",
    "        \"\"\"\n",
    "        while \"()\" in s or \"{}\" in s or '[]' in s:\n",
    "            s = s.replace(\"()\", \"\").replace('{}', \"\").replace('[]', \"\")\n",
    "        return s == ''\n",
    "        \"\"\"\n",
    "        if len(s) == 0:\n",
    "            return True\n",
    "        if len(s) % 2 == 1:\n",
    "            return False\n",
    "        sym = {\n",
    "            '(':')',\n",
    "            '[':']',\n",
    "            '{':'}',\n",
    "        }\n",
    "        s = list(s)\n",
    "        i = 0\n",
    "\n",
    "        while len(s) > 0 and i < len(s) - 1:\n",
    "            cur_el = s[i]\n",
    "            if cur_el in sym:\n",
    "                if s[i+1] == sym[cur_el]:\n",
    "                    del s[i]\n",
    "                    del s[i]\n",
    "                    #s = s[:i] + s[i+2:]\n",
    "                    i = -1\n",
    "            i+=1\n",
    "        \n",
    "        return not s\n",
    "        \n",
    "        \"\"\"\n",
    "        stack = []\n",
    "        sym = {\n",
    "            ')':'(',\n",
    "            ']':'[',\n",
    "            '}':'{',            \n",
    "        }\n",
    "        for el in s:\n",
    "            if el in sym:\n",
    "                top_el = stack.pop() if stack else '*'\n",
    "                if sym[el] != top_el:\n",
    "                    return False\n",
    "            else:\n",
    "                stack.append(el)\n",
    "                \n",
    "        return not stack\n",
    "        \"\"\""
   ]
  },
  {
   "cell_type": "markdown",
   "metadata": {},
   "source": [
    "## 21. Merge Two Sorted Lists\n",
    "\n",
    "Merge two sorted linked lists and return it as a new list. The new list should be made by splicing together the nodes of the first two lists.\n",
    "\n",
    "Example:\n",
    "\n",
    "Input: 1->2->4, 1->3->4\n",
    "Output: 1->1->2->3->4->4\n"
   ]
  },
  {
   "cell_type": "code",
   "execution_count": 18,
   "metadata": {
    "ExecuteTime": {
     "end_time": "2019-03-23T09:29:34.987677Z",
     "start_time": "2019-03-23T09:29:34.982715Z"
    }
   },
   "outputs": [],
   "source": [
    "class ListNode(object):\n",
    "    def __init__(self, x=None):\n",
    "        self.val = x\n",
    "        self.next = None\n",
    "\n",
    "    def print_next_list(self):\n",
    "        cur_node = self\n",
    "        while cur_node is not None:\n",
    "            print(cur_node.val)\n",
    "            cur_node = cur_node.next"
   ]
  },
  {
   "cell_type": "code",
   "execution_count": 55,
   "metadata": {
    "ExecuteTime": {
     "end_time": "2019-03-23T09:52:33.645501Z",
     "start_time": "2019-03-23T09:52:33.642645Z"
    }
   },
   "outputs": [],
   "source": [
    "n1 = ListNode(x=1)\n",
    "n2 = ListNode(x=2)\n",
    "n3 = ListNode(x=4)\n",
    "n1.next = n2\n",
    "n2.next = n3\n",
    "\n",
    "n4 = ListNode(x=1)\n",
    "n5 = ListNode(x=3)\n",
    "n6 = ListNode(x=4)\n",
    "n4.next = n5\n",
    "n5.next = n6"
   ]
  },
  {
   "cell_type": "code",
   "execution_count": 56,
   "metadata": {
    "ExecuteTime": {
     "end_time": "2019-03-23T09:52:34.020930Z",
     "start_time": "2019-03-23T09:52:34.015653Z"
    }
   },
   "outputs": [
    {
     "name": "stdout",
     "output_type": "stream",
     "text": [
      "1\n",
      "2\n",
      "4\n"
     ]
    }
   ],
   "source": [
    "n1.print_next_list()"
   ]
  },
  {
   "cell_type": "code",
   "execution_count": 57,
   "metadata": {
    "ExecuteTime": {
     "end_time": "2019-03-23T09:52:34.343120Z",
     "start_time": "2019-03-23T09:52:34.338378Z"
    }
   },
   "outputs": [
    {
     "name": "stdout",
     "output_type": "stream",
     "text": [
      "1\n",
      "3\n",
      "4\n"
     ]
    }
   ],
   "source": [
    "n4.print_next_list()"
   ]
  },
  {
   "cell_type": "code",
   "execution_count": 54,
   "metadata": {
    "ExecuteTime": {
     "end_time": "2019-03-23T09:52:25.105098Z",
     "start_time": "2019-03-23T09:52:25.097831Z"
    }
   },
   "outputs": [],
   "source": [
    "def merge2lists_iteratively(l1, l2):\n",
    "    merged_list = cur_node = ListNode(0)\n",
    "    \n",
    "    while l1 is not None and l2 is not None:\n",
    "        if l1.val < l2.val:\n",
    "            cur_node.next = l1\n",
    "            l1 = l1.next\n",
    "        else:\n",
    "            cur_node.next = l2\n",
    "            l2 = l2.next\n",
    "            \n",
    "        cur_node = cur_node.next\n",
    "        \n",
    "    cur_node.next = l1 or l2\n",
    "    return merged_list.next\n",
    "\n",
    "\n",
    "def merge2lists_recursively(l1, l2):\n",
    "    \n",
    "    if not l1 or not l2:\n",
    "        return l1 or l2\n",
    "    \n",
    "    if l1.val < l2.val:\n",
    "        l1.next = merge2lists_recursively(l1.next, l2)\n",
    "        return l1\n",
    "    else:\n",
    "        l2.next = merge2lists_recursively(l1, l2.next)\n",
    "        return l2\n",
    "    \n",
    "\n",
    "def merge2lists_recursively2(l1, l2):\n",
    "    \n",
    "    if not l1 or not l2:\n",
    "        return l1 or l2\n",
    "    \n",
    "    cur_node = None\n",
    "    \n",
    "    if l1.val < l2.val:\n",
    "        cur_node = l1\n",
    "        cur_node.next = merge2lists_recursively2(l1.next, l2)\n",
    "        return cur_node\n",
    "    else:\n",
    "        cur_node = l2\n",
    "        cur_node.next = merge2lists_recursively2(l1, l2.next)\n",
    "        return cur_node"
   ]
  },
  {
   "cell_type": "code",
   "execution_count": 45,
   "metadata": {
    "ExecuteTime": {
     "end_time": "2019-03-23T09:34:37.416312Z",
     "start_time": "2019-03-23T09:34:37.411639Z"
    }
   },
   "outputs": [
    {
     "name": "stdout",
     "output_type": "stream",
     "text": [
      "1\n",
      "1\n",
      "2\n",
      "3\n",
      "4\n",
      "4\n"
     ]
    }
   ],
   "source": [
    "merged = merge2lists_iteratively(n1, n4)\n",
    "merged.print_next_list()"
   ]
  },
  {
   "cell_type": "code",
   "execution_count": 53,
   "metadata": {
    "ExecuteTime": {
     "end_time": "2019-03-23T09:47:26.636476Z",
     "start_time": "2019-03-23T09:47:26.631155Z"
    }
   },
   "outputs": [
    {
     "name": "stdout",
     "output_type": "stream",
     "text": [
      "1\n",
      "1\n",
      "2\n",
      "3\n",
      "4\n",
      "4\n"
     ]
    }
   ],
   "source": [
    "merged = merge2lists_recursively(n1, n4)\n",
    "merged.print_next_list()"
   ]
  },
  {
   "cell_type": "code",
   "execution_count": 58,
   "metadata": {
    "ExecuteTime": {
     "end_time": "2019-03-23T09:52:36.650800Z",
     "start_time": "2019-03-23T09:52:36.647836Z"
    }
   },
   "outputs": [
    {
     "name": "stdout",
     "output_type": "stream",
     "text": [
      "1\n",
      "1\n",
      "2\n",
      "3\n",
      "4\n",
      "4\n"
     ]
    }
   ],
   "source": [
    "merged = merge2lists_recursively2(n1, n4)\n",
    "merged.print_next_list()"
   ]
  },
  {
   "cell_type": "code",
   "execution_count": 59,
   "metadata": {
    "ExecuteTime": {
     "end_time": "2019-03-23T09:55:22.886753Z",
     "start_time": "2019-03-23T09:55:22.880305Z"
    }
   },
   "outputs": [],
   "source": [
    "class Solution(object):\n",
    "    def mergeTwoLists(self, l1, l2):\n",
    "        \"\"\"\n",
    "        :type l1: ListNode\n",
    "        :type l2: ListNode\n",
    "        :rtype: ListNode\n",
    "        \"\"\"\n",
    "        \"\"\"\n",
    "        merged_list = cur_node = ListNode(0)\n",
    "\n",
    "        while l1 is not None and l2 is not None:\n",
    "            if l1.val < l2.val:\n",
    "                cur_node.next = l1\n",
    "                l1 = l1.next\n",
    "            else:\n",
    "                cur_node.next = l2\n",
    "                l2 = l2.next\n",
    "\n",
    "            cur_node = cur_node.next\n",
    "            \n",
    "        cur_node.next = l1 or l2\n",
    "\n",
    "        return merged_list.next\n",
    "        \"\"\"\n",
    "        \n",
    "        if not l1 or not l2:\n",
    "            return l1 or l2\n",
    "\n",
    "        cur_node = None\n",
    "\n",
    "        if l1.val < l2.val:\n",
    "            cur_node = l1\n",
    "            cur_node.next = self.mergeTwoLists(l1.next, l2)\n",
    "            return cur_node\n",
    "        else:\n",
    "            cur_node = l2\n",
    "            cur_node.next = self.mergeTwoLists(l1, l2.next)\n",
    "            return cur_node\n",
    "        \"\"\"\n",
    "        if not l1 or not l2:\n",
    "            return l1 or l2\n",
    "\n",
    "        if l1.val < l2.val:\n",
    "            l1.next = self.mergeTwoLists(l1.next, l2)\n",
    "            return l1\n",
    "        else:\n",
    "            l2.next = self.mergeTwoLists(l1, l2.next)\n",
    "            return l2\n",
    "        \"\"\""
   ]
  },
  {
   "cell_type": "markdown",
   "metadata": {},
   "source": [
    "## 26. Remove Duplicates from Sorted Array\n",
    "\n",
    "Given a sorted array nums, remove the duplicates in-place such that each element appear only once and return the new length.\n",
    "\n",
    "Do not allocate extra space for another array, you must do this by modifying the input array in-place with O(1) extra memory.\n",
    "\n",
    "Example 1:\n",
    "\n",
    "Given nums = [1,1,2],\n",
    "\n",
    "Your function should return length = 2, with the first two elements of nums being 1 and 2 respectively.\n",
    "\n",
    "It doesn't matter what you leave beyond the returned length.\n",
    "\n",
    "Example 2:\n",
    "\n",
    "Given nums = [0,0,1,1,1,2,2,3,3,4],\n",
    "\n",
    "Your function should return length = 5, with the first five elements of nums being modified to 0, 1, 2, 3, and 4 respectively.\n",
    "\n",
    "It doesn't matter what values are set beyond the returned length.\n",
    "\n",
    "Clarification:\n",
    "\n",
    "Confused why the returned value is an integer but your answer is an array?\n",
    "\n",
    "Note that the input array is passed in by reference, which means modification to the input array will be known to the caller as well.\n",
    "\n",
    "Internally you can think of this:\n",
    "\n",
    "// nums is passed in by reference. (i.e., without making a copy)\n",
    "int len = removeDuplicates(nums);\n",
    "\n",
    "// any modification to nums in your function would be known by the caller.\n",
    "// using the length returned by your function, it prints the first len elements.\n",
    "for (int i = 0; i < len; i++) {\n",
    "    print(nums[i]);\n",
    "}"
   ]
  },
  {
   "cell_type": "code",
   "execution_count": 120,
   "metadata": {
    "ExecuteTime": {
     "end_time": "2019-03-22T17:31:40.714070Z",
     "start_time": "2019-03-22T17:31:40.706412Z"
    }
   },
   "outputs": [],
   "source": [
    "nums = [1,1,2,2, 2, 2, 3, 3]\n",
    "#nums = [1,1,1,2]"
   ]
  },
  {
   "cell_type": "code",
   "execution_count": 121,
   "metadata": {
    "ExecuteTime": {
     "end_time": "2019-03-22T17:31:41.081248Z",
     "start_time": "2019-03-22T17:31:41.071207Z"
    }
   },
   "outputs": [
    {
     "name": "stdout",
     "output_type": "stream",
     "text": [
      "0 1\n",
      "0 1\n",
      "1 2\n",
      "1 2\n",
      "1 2\n",
      "1 2\n",
      "2 3\n",
      "[1, 2, 3]\n"
     ]
    }
   ],
   "source": [
    "i = 0\n",
    "j = 1\n",
    "num_len = len(nums)\n",
    "\n",
    "while j < len(nums):\n",
    "    print(i, j)\n",
    "    if nums[j] == nums[i]:\n",
    "        del nums[i]\n",
    "    else:\n",
    "        i += 1\n",
    "        j += 1\n",
    "    \n",
    "print(nums)"
   ]
  },
  {
   "cell_type": "code",
   "execution_count": 86,
   "metadata": {
    "ExecuteTime": {
     "end_time": "2019-03-22T16:52:25.844509Z",
     "start_time": "2019-03-22T16:52:25.838459Z"
    }
   },
   "outputs": [
    {
     "name": "stdout",
     "output_type": "stream",
     "text": [
      "[1, 2, 3]\n"
     ]
    }
   ],
   "source": [
    "#from collections import defaultdict\n",
    "#elements = defaultdict(int)\n",
    "elements = dict()\n",
    "i=0\n",
    "\n",
    "while i < len(nums):\n",
    "    if nums[i] in elements:\n",
    "        nums.remove(nums[i])\n",
    "        \n",
    "    else:\n",
    "        elements[nums[i]] = 1\n",
    "        i += 1\n",
    "    \n",
    "print(nums)"
   ]
  },
  {
   "cell_type": "code",
   "execution_count": 122,
   "metadata": {
    "ExecuteTime": {
     "end_time": "2019-03-22T17:47:37.814104Z",
     "start_time": "2019-03-22T17:47:37.810879Z"
    }
   },
   "outputs": [],
   "source": [
    "class Solution(object):\n",
    "    def removeDuplicates(self, nums):\n",
    "        \"\"\"\n",
    "        :type nums: List[int]\n",
    "        :rtype: int\n",
    "        \"\"\"\n",
    "        \"\"\"\n",
    "        j = 0\n",
    "\n",
    "        for i in range(1, len(nums)):\n",
    "            if nums[i] != nums[j]:\n",
    "                j += 1\n",
    "                nums[j] = nums[i]\n",
    "\n",
    "        return j + 1\n",
    "        \"\"\"\n",
    "        i = 0\n",
    "        j = 1\n",
    "        \n",
    "        while j < len(nums):\n",
    "            \n",
    "            if nums[j] == nums[i]:\n",
    "                del nums[i]\n",
    "            else:\n",
    "                i += 1\n",
    "                j += 1\n",
    "        \n",
    "        return len(nums)\n",
    "        \n",
    "        \"\"\"\n",
    "        elements = dict()\n",
    "        i=0\n",
    "\n",
    "        while i < len(nums):\n",
    "            if nums[i] in elements:\n",
    "                nums.remove(nums[i])\n",
    "            else:\n",
    "                elements[nums[i]] = 1\n",
    "                i += 1\n",
    "        return len(nums)\n",
    "        \"\"\""
   ]
  },
  {
   "cell_type": "markdown",
   "metadata": {},
   "source": [
    "## 27. Remove Element"
   ]
  },
  {
   "cell_type": "markdown",
   "metadata": {},
   "source": [
    "Given an array nums and a value val, remove all instances of that value in-place and return the new length.\n",
    "\n",
    "Do not allocate extra space for another array, you must do this by modifying the input array in-place with O(1) extra memory.\n",
    "\n",
    "The order of elements can be changed. It doesn't matter what you leave beyond the new length.\n",
    "\n",
    "Example 1:\n",
    "\n",
    "Given nums = [3,2,2,3], val = 3,\n",
    "\n",
    "Your function should return length = 2, with the first two elements of nums being 2.\n",
    "\n",
    "It doesn't matter what you leave beyond the returned length.\n",
    "\n",
    "Example 2:\n",
    "\n",
    "Given nums = [0,1,2,2,3,0,4,2], val = 2,\n",
    "\n",
    "Your function should return length = 5, with the first five elements of nums containing 0, 1, 3, 0, and 4.\n",
    "\n",
    "Note that the order of those five elements can be arbitrary.\n",
    "\n",
    "It doesn't matter what values are set beyond the returned length.\n",
    "\n",
    "Clarification:\n",
    "\n",
    "Confused why the returned value is an integer but your answer is an array?\n",
    "\n",
    "Note that the input array is passed in by reference, which means modification to the input array will be known to the caller as well.\n",
    "\n",
    "Internally you can think of this:\n",
    "\n",
    "// nums is passed in by reference. (i.e., without making a copy)\n",
    "int len = removeElement(nums, val);\n",
    "\n",
    "// any modification to nums in your function would be known by the caller.\n",
    "// using the length returned by your function, it prints the first len elements.\n",
    "for (int i = 0; i < len; i++) {\n",
    "    print(nums[i]);\n",
    "}\n",
    "\n"
   ]
  },
  {
   "cell_type": "code",
   "execution_count": 138,
   "metadata": {
    "ExecuteTime": {
     "end_time": "2019-03-23T12:36:00.002651Z",
     "start_time": "2019-03-23T12:36:00.000634Z"
    }
   },
   "outputs": [],
   "source": [
    "nums = [3,2,2,3]\n",
    "val = 3"
   ]
  },
  {
   "cell_type": "code",
   "execution_count": 141,
   "metadata": {
    "ExecuteTime": {
     "end_time": "2019-03-23T12:40:50.401781Z",
     "start_time": "2019-03-23T12:40:50.396682Z"
    }
   },
   "outputs": [],
   "source": [
    "def removeElement(nums, val):\n",
    "    ind = 0\n",
    "    while ind < len(nums):\n",
    "        if nums[ind] == val:\n",
    "            del nums[ind]\n",
    "            ind -= 1\n",
    "        ind += 1\n",
    "    return len(nums)"
   ]
  },
  {
   "cell_type": "code",
   "execution_count": 142,
   "metadata": {
    "ExecuteTime": {
     "end_time": "2019-03-23T12:40:51.195428Z",
     "start_time": "2019-03-23T12:40:51.193211Z"
    }
   },
   "outputs": [
    {
     "data": {
      "text/plain": [
       "2"
      ]
     },
     "execution_count": 142,
     "metadata": {},
     "output_type": "execute_result"
    }
   ],
   "source": [
    "removeElement(nums, val)"
   ]
  },
  {
   "cell_type": "code",
   "execution_count": 143,
   "metadata": {
    "ExecuteTime": {
     "end_time": "2019-03-23T12:53:54.156751Z",
     "start_time": "2019-03-23T12:53:54.154202Z"
    }
   },
   "outputs": [],
   "source": [
    "class Solution(object):\n",
    "    def removeElement(self, nums, val):\n",
    "        \"\"\"\n",
    "        :type nums: List[int]\n",
    "        :type val: int\n",
    "        :rtype: int\n",
    "        \"\"\"\n",
    "        \n",
    "        ind = 0\n",
    "        while ind < len(nums):\n",
    "            if nums[ind] == val:\n",
    "                del nums[ind]\n",
    "                ind -= 1\n",
    "            ind += 1\n",
    "        return len(nums)  \n",
    "        \"\"\"\n",
    "        ind = 0\n",
    "        for el in nums:\n",
    "            if el != val:\n",
    "                nums[ind] = el\n",
    "                ind += 1\n",
    "        return ind\n",
    "        \"\"\""
   ]
  },
  {
   "cell_type": "markdown",
   "metadata": {},
   "source": [
    "## 28. Implement strStr()\n",
    "\n",
    "Implement strStr().\n",
    "\n",
    "Return the index of the first occurrence of needle in haystack, or -1 if needle is not part of haystack.\n",
    "\n",
    "Example 1:\n",
    "\n",
    "Input: haystack = \"hello\", needle = \"ll\"\n",
    "Output: 2\n",
    "\n",
    "Example 2:\n",
    "\n",
    "Input: haystack = \"aaaaa\", needle = \"bba\"\n",
    "Output: -1\n",
    "\n",
    "Clarification:\n",
    "\n",
    "What should we return when needle is an empty string? This is a great question to ask during an interview.\n",
    "\n",
    "For the purpose of this problem, we will return 0 when needle is an empty string. This is consistent to C's strstr() and Java's indexOf()."
   ]
  },
  {
   "cell_type": "code",
   "execution_count": 117,
   "metadata": {
    "ExecuteTime": {
     "end_time": "2019-03-23T12:13:19.407804Z",
     "start_time": "2019-03-23T12:13:19.401915Z"
    }
   },
   "outputs": [],
   "source": [
    "haystack = \"hello\"\n",
    "needle = \"ll\""
   ]
  },
  {
   "cell_type": "code",
   "execution_count": 133,
   "metadata": {
    "ExecuteTime": {
     "end_time": "2019-03-23T12:24:06.714959Z",
     "start_time": "2019-03-23T12:24:06.702993Z"
    }
   },
   "outputs": [],
   "source": [
    "def strStr(haystack, needle):\n",
    "    \n",
    "    len_needle = len(needle)\n",
    "    \n",
    "    if len_needle == 0:\n",
    "        return 0\n",
    "    \n",
    "    for ind in range(len(haystack) - len_needle + 1):\n",
    "        if needle == haystack[ind:ind + len_needle]:\n",
    "            return ind\n",
    "    return -1"
   ]
  },
  {
   "cell_type": "code",
   "execution_count": 134,
   "metadata": {
    "ExecuteTime": {
     "end_time": "2019-03-23T12:24:07.245100Z",
     "start_time": "2019-03-23T12:24:07.242576Z"
    }
   },
   "outputs": [
    {
     "data": {
      "text/plain": [
       "2"
      ]
     },
     "execution_count": 134,
     "metadata": {},
     "output_type": "execute_result"
    }
   ],
   "source": [
    "strStr(haystack, needle)"
   ]
  },
  {
   "cell_type": "code",
   "execution_count": 135,
   "metadata": {
    "ExecuteTime": {
     "end_time": "2019-03-23T12:24:07.718526Z",
     "start_time": "2019-03-23T12:24:07.713129Z"
    }
   },
   "outputs": [
    {
     "data": {
      "text/plain": [
       "-1"
      ]
     },
     "execution_count": 135,
     "metadata": {},
     "output_type": "execute_result"
    }
   ],
   "source": [
    "strStr(\"aaaaa\",\"bba\")"
   ]
  },
  {
   "cell_type": "code",
   "execution_count": 136,
   "metadata": {
    "ExecuteTime": {
     "end_time": "2019-03-23T12:24:08.218749Z",
     "start_time": "2019-03-23T12:24:08.213007Z"
    }
   },
   "outputs": [
    {
     "data": {
      "text/plain": [
       "0"
      ]
     },
     "execution_count": 136,
     "metadata": {},
     "output_type": "execute_result"
    }
   ],
   "source": [
    "strStr(\"a\",\"a\")"
   ]
  },
  {
   "cell_type": "code",
   "execution_count": 137,
   "metadata": {
    "ExecuteTime": {
     "end_time": "2019-03-23T12:25:43.328619Z",
     "start_time": "2019-03-23T12:25:43.323232Z"
    }
   },
   "outputs": [],
   "source": [
    "class Solution(object):\n",
    "    def strStr(self, haystack, needle):\n",
    "        \"\"\"\n",
    "        :type haystack: str\n",
    "        :type needle: str\n",
    "        :rtype: int\n",
    "        \"\"\"\n",
    "        \n",
    "        len_needle = len(needle)\n",
    "        \n",
    "        if len_needle == 0:\n",
    "            return 0\n",
    "\n",
    "        for ind in range(len(haystack) - len_needle + 1):\n",
    "            if needle == haystack[ind:ind + len_needle]:\n",
    "                return ind\n",
    "        return -1 "
   ]
  },
  {
   "cell_type": "markdown",
   "metadata": {},
   "source": [
    "## 35. Search Insert Position\n",
    "\n",
    "Given a sorted array and a target value, return the index if the target is found. If not, return the index where it would be if it were inserted in order.\n",
    "\n",
    "You may assume no duplicates in the array.\n",
    "\n",
    "Example 1:\n",
    "\n",
    "Input: [1,3,5,6], 5\n",
    "Output: 2\n",
    "\n",
    "Example 2:\n",
    "\n",
    "Input: [1,3,5,6], 2\n",
    "Output: 1\n",
    "\n",
    "Example 3:\n",
    "\n",
    "Input: [1,3,5,6], 7\n",
    "Output: 4\n",
    "\n",
    "Example 4:\n",
    "\n",
    "Input: [1,3,5,6], 0\n",
    "Output: 0"
   ]
  },
  {
   "cell_type": "code",
   "execution_count": 60,
   "metadata": {
    "ExecuteTime": {
     "end_time": "2019-03-23T10:18:37.337348Z",
     "start_time": "2019-03-23T10:18:37.335561Z"
    }
   },
   "outputs": [],
   "source": [
    "nums = [1,3,5,6]\n",
    "target = 5"
   ]
  },
  {
   "cell_type": "code",
   "execution_count": 94,
   "metadata": {
    "ExecuteTime": {
     "end_time": "2019-03-23T10:43:54.440839Z",
     "start_time": "2019-03-23T10:43:54.435140Z"
    }
   },
   "outputs": [],
   "source": [
    "def searchInsert(nums, target):\n",
    "    len_nums = len(nums)\n",
    "    min_val = min(nums)\n",
    "    max_val = max(nums)\n",
    "    \n",
    "    if target < nums[0]:\n",
    "        return 0\n",
    "    if target > nums[-1]:\n",
    "        return len_nums\n",
    "    \n",
    "    for ind in range(len_nums):\n",
    "        if target <= nums[ind]:\n",
    "            return ind"
   ]
  },
  {
   "cell_type": "code",
   "execution_count": 99,
   "metadata": {
    "ExecuteTime": {
     "end_time": "2019-03-23T10:44:20.066226Z",
     "start_time": "2019-03-23T10:44:20.060422Z"
    }
   },
   "outputs": [
    {
     "data": {
      "text/plain": [
       "0"
      ]
     },
     "execution_count": 99,
     "metadata": {},
     "output_type": "execute_result"
    }
   ],
   "source": [
    "searchInsert(nums, 0)"
   ]
  },
  {
   "cell_type": "code",
   "execution_count": 96,
   "metadata": {
    "ExecuteTime": {
     "end_time": "2019-03-23T10:44:05.664620Z",
     "start_time": "2019-03-23T10:44:05.659692Z"
    }
   },
   "outputs": [
    {
     "data": {
      "text/plain": [
       "0"
      ]
     },
     "execution_count": 96,
     "metadata": {},
     "output_type": "execute_result"
    }
   ],
   "source": [
    "searchInsert([1], 0)"
   ]
  },
  {
   "cell_type": "code",
   "execution_count": 106,
   "metadata": {
    "ExecuteTime": {
     "end_time": "2019-03-23T11:06:14.317855Z",
     "start_time": "2019-03-23T11:06:14.314564Z"
    }
   },
   "outputs": [],
   "source": [
    "def searchInsert_binary(nums, target):\n",
    "    \n",
    "    #len_nums = len(nums)\n",
    "    left, right = 0, len(nums)-1\n",
    "    \n",
    "    #if target < nums[0]:\n",
    "    #    return 0\n",
    "    #if target > nums[-1]:\n",
    "    #    return len_nums\n",
    "    \n",
    "    while left <= right:\n",
    "        mid = (left + right)// 2\n",
    "        \n",
    "        if nums[mid] < target:\n",
    "            left = mid + 1\n",
    "        else:\n",
    "            right = mid - 1\n",
    "            \n",
    "    return left"
   ]
  },
  {
   "cell_type": "code",
   "execution_count": 111,
   "metadata": {
    "ExecuteTime": {
     "end_time": "2019-03-23T11:06:33.482987Z",
     "start_time": "2019-03-23T11:06:33.479936Z"
    }
   },
   "outputs": [
    {
     "data": {
      "text/plain": [
       "0"
      ]
     },
     "execution_count": 111,
     "metadata": {},
     "output_type": "execute_result"
    }
   ],
   "source": [
    "searchInsert_binary([1], 0)"
   ]
  },
  {
   "cell_type": "code",
   "execution_count": 115,
   "metadata": {
    "ExecuteTime": {
     "end_time": "2019-03-23T11:06:55.623448Z",
     "start_time": "2019-03-23T11:06:55.617914Z"
    }
   },
   "outputs": [
    {
     "data": {
      "text/plain": [
       "0"
      ]
     },
     "execution_count": 115,
     "metadata": {},
     "output_type": "execute_result"
    }
   ],
   "source": [
    "searchInsert_binary(nums, 0)"
   ]
  },
  {
   "cell_type": "code",
   "execution_count": 116,
   "metadata": {
    "ExecuteTime": {
     "end_time": "2019-03-23T11:08:34.585809Z",
     "start_time": "2019-03-23T11:08:34.576265Z"
    }
   },
   "outputs": [],
   "source": [
    "class Solution(object):\n",
    "    def searchInsert(self, nums, target):\n",
    "        \"\"\"\n",
    "        :type nums: List[int]\n",
    "        :type target: int\n",
    "        :rtype: int\n",
    "        \"\"\"\n",
    "        #return sorted(nums + [target]).index(target)\n",
    "        #return len([x for x in nums if x < target])\n",
    "        '''\n",
    "        len_nums = len(nums)\n",
    "        #min_val = nums[0]\n",
    "        #max_val = nums[-1]\n",
    "\n",
    "        if target < nums[0]:\n",
    "            return 0\n",
    "        if target > nums[-1]:\n",
    "            return len_nums\n",
    "        \n",
    "        for ind in range(len_nums):\n",
    "            if target <= nums[ind]:\n",
    "                return ind\n",
    "        '''    \n",
    "        left, right = 0, len(nums)-1\n",
    "        \n",
    "        while left <= right:\n",
    "            mid = (left + right)// 2\n",
    "\n",
    "            if nums[mid] < target:\n",
    "                left = mid + 1\n",
    "            else:\n",
    "                right = mid - 1\n",
    "\n",
    "        return left"
   ]
  },
  {
   "cell_type": "markdown",
   "metadata": {},
   "source": [
    "## 38. Count and Say\n",
    "\n",
    "The count-and-say sequence is the sequence of integers with the first five terms as following:\n",
    "\n",
    "1.     1\n",
    "2.     11\n",
    "3.     21\n",
    "4.     1211\n",
    "5.     111221\n",
    "\n",
    "1 is read off as \"one 1\" or 11.\n",
    "11 is read off as \"two 1s\" or 21.\n",
    "21 is read off as \"one 2, then one 1\" or 1211.\n",
    "\n",
    "Given an integer n where 1 ≤ n ≤ 30, generate the nth term of the count-and-say sequence.\n",
    "\n",
    "Note: Each term of the sequence of integers will be represented as a string.\n",
    "\n",
    " \n",
    "\n",
    "Example 1:\n",
    "\n",
    "Input: 1\n",
    "Output: \"1\"\n",
    "\n",
    "Example 2:\n",
    "\n",
    "Input: 4\n",
    "Output: \"1211\""
   ]
  },
  {
   "cell_type": "code",
   "execution_count": null,
   "metadata": {},
   "outputs": [],
   "source": [
    "n = 1"
   ]
  },
  {
   "cell_type": "code",
   "execution_count": 25,
   "metadata": {
    "ExecuteTime": {
     "end_time": "2019-03-25T12:44:26.421547Z",
     "start_time": "2019-03-25T12:44:26.416922Z"
    }
   },
   "outputs": [],
   "source": [
    "def countAndSay(n):\n",
    "    \n",
    "    if n == 1:\n",
    "        return \"1\"\n",
    "    \n",
    "    sequence = [\"1\"]\n",
    "    \n",
    "    for i in range(n-1):\n",
    "        el = sequence[i]\n",
    "        new_el = \"\"\n",
    "        sym_cnt = 0\n",
    "        el_len = len(el)\n",
    "        \n",
    "        for ind in range(el_len):\n",
    "            cur_el = el[ind]\n",
    "            sym_cnt += 1\n",
    "            print('sym_cnt', sym_cnt)\n",
    "            if ind + 1 == el_len:\n",
    "                new_el += str(sym_cnt) + str(cur_el)\n",
    "                sym_cnt = 0\n",
    "                break\n",
    "                \n",
    "            if cur_el != el[ind + 1]:\n",
    "                new_el += str(sym_cnt) + str(cur_el)\n",
    "                sym_cnt = 0\n",
    "        print('new_el', new_el)\n",
    "        sequence.append(new_el)\n",
    "        \n",
    "    return sequence"
   ]
  },
  {
   "cell_type": "code",
   "execution_count": 32,
   "metadata": {
    "ExecuteTime": {
     "end_time": "2019-03-25T12:44:54.028497Z",
     "start_time": "2019-03-25T12:44:54.020228Z"
    }
   },
   "outputs": [
    {
     "name": "stdout",
     "output_type": "stream",
     "text": [
      "sym_cnt 1\n",
      "new_el 11\n",
      "sym_cnt 1\n",
      "sym_cnt 2\n",
      "new_el 21\n",
      "sym_cnt 1\n",
      "sym_cnt 1\n",
      "new_el 1211\n",
      "sym_cnt 1\n",
      "sym_cnt 1\n",
      "sym_cnt 1\n",
      "sym_cnt 2\n",
      "new_el 111221\n"
     ]
    },
    {
     "data": {
      "text/plain": [
       "['1', '11', '21', '1211', '111221']"
      ]
     },
     "execution_count": 32,
     "metadata": {},
     "output_type": "execute_result"
    }
   ],
   "source": [
    "countAndSay(5)"
   ]
  },
  {
   "cell_type": "code",
   "execution_count": 33,
   "metadata": {
    "ExecuteTime": {
     "end_time": "2019-03-25T13:06:26.540894Z",
     "start_time": "2019-03-25T13:06:26.536854Z"
    }
   },
   "outputs": [],
   "source": [
    "def countAndSay_recursive(n):\n",
    "    if n == 1:\n",
    "        return \"1\"\n",
    "    else:\n",
    "        return my_count(countAndSay_recursive(n-1))\n",
    "        \n",
    "def my_count(string):\n",
    "    new_el = \"\"\n",
    "    sym_cnt = 0\n",
    "    el_len = len(string)\n",
    "    \n",
    "    for ind in range(el_len):\n",
    "        cur_el = string[ind]\n",
    "        sym_cnt += 1\n",
    "        print('sym_cnt', sym_cnt)\n",
    "        if ind + 1 == el_len:\n",
    "            new_el += str(sym_cnt) + str(cur_el)\n",
    "            sym_cnt = 0\n",
    "            break\n",
    "                \n",
    "        if cur_el != string[ind + 1]:\n",
    "            new_el += str(sym_cnt) + str(cur_el)\n",
    "            sym_cnt = 0\n",
    "    print('new_el', new_el)\n",
    "    return new_el"
   ]
  },
  {
   "cell_type": "code",
   "execution_count": 38,
   "metadata": {
    "ExecuteTime": {
     "end_time": "2019-03-25T13:07:03.633648Z",
     "start_time": "2019-03-25T13:07:03.623531Z"
    },
    "collapsed": true
   },
   "outputs": [
    {
     "name": "stdout",
     "output_type": "stream",
     "text": [
      "sym_cnt 1\n",
      "new_el 11\n",
      "sym_cnt 1\n",
      "sym_cnt 2\n",
      "new_el 21\n",
      "sym_cnt 1\n",
      "sym_cnt 1\n",
      "new_el 1211\n",
      "sym_cnt 1\n",
      "sym_cnt 1\n",
      "sym_cnt 1\n",
      "sym_cnt 2\n",
      "new_el 111221\n"
     ]
    },
    {
     "data": {
      "text/plain": [
       "'111221'"
      ]
     },
     "execution_count": 38,
     "metadata": {},
     "output_type": "execute_result"
    }
   ],
   "source": [
    "countAndSay_recursive(5)"
   ]
  },
  {
   "cell_type": "code",
   "execution_count": 52,
   "metadata": {
    "ExecuteTime": {
     "end_time": "2019-03-25T13:38:05.084292Z",
     "start_time": "2019-03-25T13:38:05.079869Z"
    }
   },
   "outputs": [],
   "source": [
    "def countAndSay_recursive(n):\n",
    "    if n == 1:\n",
    "        return \"1\"\n",
    "    else:\n",
    "        return my_count2(countAndSay_recursive(n-1))\n",
    "        \n",
    "def my_count2(string):\n",
    "    new_el = \"\"\n",
    "    sym_cnt = 0\n",
    "    print(string)\n",
    "    #print(type(string))\n",
    "    el_len = len(string)\n",
    "    cur_el = string[0]\n",
    "    \n",
    "    for el in string:\n",
    "        if el == cur_el:\n",
    "            sym_cnt += 1\n",
    "        else:\n",
    "            new_el += str(sym_cnt) + cur_el\n",
    "            sym_cnt = 1\n",
    "            cur_el = el\n",
    "    new_el += str(sym_cnt) + cur_el\n",
    "    \"\"\"\n",
    "    for ind in range(el_len):\n",
    "        cur_el = string[ind]\n",
    "        sym_cnt += 1\n",
    "        print('sym_cnt', sym_cnt)\n",
    "        if ind + 1 == el_len:\n",
    "            new_el += str(sym_cnt) + str(cur_el)\n",
    "            sym_cnt = 0\n",
    "            break\n",
    "                \n",
    "        if cur_el != string[ind + 1]:\n",
    "            new_el += str(sym_cnt) + str(cur_el)\n",
    "            sym_cnt = 0\n",
    "    \"\"\"\n",
    "    print('new_el', new_el)\n",
    "    \n",
    "    return new_el"
   ]
  },
  {
   "cell_type": "code",
   "execution_count": 57,
   "metadata": {
    "ExecuteTime": {
     "end_time": "2019-03-25T13:38:27.467643Z",
     "start_time": "2019-03-25T13:38:27.462391Z"
    }
   },
   "outputs": [
    {
     "name": "stdout",
     "output_type": "stream",
     "text": [
      "1\n",
      "new_el 11\n",
      "11\n",
      "new_el 21\n",
      "21\n",
      "new_el 1211\n",
      "1211\n",
      "new_el 111221\n",
      "111221\n",
      "new_el 312211\n"
     ]
    },
    {
     "data": {
      "text/plain": [
       "'312211'"
      ]
     },
     "execution_count": 57,
     "metadata": {},
     "output_type": "execute_result"
    }
   ],
   "source": [
    "countAndSay_recursive(6)"
   ]
  },
  {
   "cell_type": "code",
   "execution_count": 58,
   "metadata": {
    "ExecuteTime": {
     "end_time": "2019-03-25T13:51:12.054570Z",
     "start_time": "2019-03-25T13:51:12.046984Z"
    }
   },
   "outputs": [],
   "source": [
    "class Solution(object):\n",
    "    \n",
    "    def my_count(self, string):\n",
    "        new_el = \"\"\n",
    "        sym_cnt = 0\n",
    "        el_len = len(string)\n",
    "        for ind in range(el_len):\n",
    "            cur_el = string[ind]\n",
    "            sym_cnt += 1\n",
    "            if ind + 1 == el_len:\n",
    "                new_el += str(sym_cnt) + cur_el\n",
    "                sym_cnt = 0\n",
    "                break\n",
    "\n",
    "            if cur_el != string[ind + 1]:\n",
    "                new_el += str(sym_cnt) + cur_el\n",
    "                sym_cnt = 0\n",
    "        \n",
    "        return new_el\n",
    "    \n",
    "    \n",
    "    def my_count2(self, string):\n",
    "        new_el = \"\"\n",
    "        sym_cnt = 0\n",
    "        el_len = len(string)\n",
    "        cur_el = string[0]\n",
    "\n",
    "        for el in string:\n",
    "            if el == cur_el:\n",
    "                sym_cnt += 1\n",
    "            else:\n",
    "                new_el += str(sym_cnt) + cur_el\n",
    "                sym_cnt = 1\n",
    "                cur_el = el\n",
    "        new_el += str(sym_cnt) + cur_el\n",
    "        \n",
    "        return new_el\n",
    "    \n",
    "    def countAndSay(self, n):\n",
    "        \"\"\"\n",
    "        :type n: int\n",
    "        :rtype: str\n",
    "        \"\"\"      \n",
    "        \"\"\"\n",
    "        if n == 1:\n",
    "            return \"1\"\n",
    "\n",
    "        sequence = [\"1\"]\n",
    "\n",
    "        for i in range(n-1):\n",
    "            el = sequence[i]\n",
    "            new_el = \"\"\n",
    "            sym_cnt = 0\n",
    "            el_len = len(el)\n",
    "\n",
    "            for ind in range(el_len):\n",
    "                cur_el = el[ind]\n",
    "                sym_cnt += 1\n",
    "                #print('sym_cnt', sym_cnt)\n",
    "                if ind + 1 == el_len:\n",
    "                    new_el += str(sym_cnt) + str(cur_el)\n",
    "                    sym_cnt = 0\n",
    "                    break\n",
    "\n",
    "                if cur_el != el[ind + 1]:\n",
    "                    new_el += str(sym_cnt) + str(cur_el)\n",
    "                    sym_cnt = 0\n",
    "            #print('new_el', new_el)\n",
    "            sequence.append(new_el)\n",
    "\n",
    "        return sequence[-1]\n",
    "        \"\"\"\n",
    "        \n",
    "        if n == 1:\n",
    "            return \"1\"\n",
    "        else:\n",
    "            return self.my_count2(self.countAndSay(n-1))"
   ]
  },
  {
   "cell_type": "code",
   "execution_count": null,
   "metadata": {},
   "outputs": [],
   "source": []
  }
 ],
 "metadata": {
  "kernelspec": {
   "display_name": "Python 3",
   "language": "python",
   "name": "python3"
  },
  "language_info": {
   "codemirror_mode": {
    "name": "ipython",
    "version": 3
   },
   "file_extension": ".py",
   "mimetype": "text/x-python",
   "name": "python",
   "nbconvert_exporter": "python",
   "pygments_lexer": "ipython3",
   "version": "3.5.2"
  },
  "varInspector": {
   "cols": {
    "lenName": 16,
    "lenType": 16,
    "lenVar": 40
   },
   "kernels_config": {
    "python": {
     "delete_cmd_postfix": "",
     "delete_cmd_prefix": "del ",
     "library": "var_list.py",
     "varRefreshCmd": "print(var_dic_list())"
    },
    "r": {
     "delete_cmd_postfix": ") ",
     "delete_cmd_prefix": "rm(",
     "library": "var_list.r",
     "varRefreshCmd": "cat(var_dic_list()) "
    }
   },
   "types_to_exclude": [
    "module",
    "function",
    "builtin_function_or_method",
    "instance",
    "_Feature"
   ],
   "window_display": false
  }
 },
 "nbformat": 4,
 "nbformat_minor": 2
}
